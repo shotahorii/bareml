{
 "cells": [
  {
   "cell_type": "code",
   "execution_count": 1,
   "metadata": {},
   "outputs": [],
   "source": [
    "import sys\n",
    "sys.path.append('../')\n",
    "\n",
    "from mlfs.supervised.linear_regression\\\n",
    "import LinearRegression, RidgeRegression, ElasticNetRegression, LassoRegression\n",
    "from mlfs.utils.metrics import rmse\n",
    "from mlfs.utils.preprocessing import train_test_split\n",
    "\n",
    "from sklearn.linear_model import Ridge, Lasso, ElasticNet\n",
    "from sklearn.datasets import load_boston\n",
    "\n",
    "from matplotlib import pyplot as plt\n",
    "%matplotlib inline"
   ]
  },
  {
   "cell_type": "markdown",
   "metadata": {},
   "source": [
    "### Demo with boston data set"
   ]
  },
  {
   "cell_type": "code",
   "execution_count": 2,
   "metadata": {},
   "outputs": [],
   "source": [
    "# load data\n",
    "boston = load_boston()\n",
    "X = boston.data\n",
    "y = boston.target\n",
    "\n",
    "# split into train/test data\n",
    "X_train, X_test, y_train, y_test = train_test_split(X, y, test_ratio=0.2, seed=0)"
   ]
  },
  {
   "cell_type": "markdown",
   "metadata": {},
   "source": [
    "### Ridge Regression (vs sklearn)"
   ]
  },
  {
   "cell_type": "code",
   "execution_count": 3,
   "metadata": {},
   "outputs": [],
   "source": [
    "alpha = [1000, 100, 10, 1, 0.1, 0.01, 0.001, 0.0001, 0.00001]\n",
    "train_rmse = []\n",
    "test_rmse = []\n",
    "weights = []\n",
    "\n",
    "for a in alpha:\n",
    "    ridge_skl = Ridge(alpha=a)\n",
    "    ridge_skl.fit(X_train, y_train)\n",
    "\n",
    "    y_train_pred = ridge_skl.predict(X_train)\n",
    "    y_test_pred = ridge_skl.predict(X_test)\n",
    "    \n",
    "    train_rmse.append(rmse(y_train, y_train_pred))\n",
    "    test_rmse.append(rmse(y_test, y_test_pred))"
   ]
  },
  {
   "cell_type": "code",
   "execution_count": 4,
   "metadata": {},
   "outputs": [
    {
     "data": {
      "image/png": "[encoded data removed]",
      "text/plain": [
       "<Figure size 432x288 with 1 Axes>"
      ]
     },
     "metadata": {
      "needs_background": "light"
     },
     "output_type": "display_data"
    }
   ],
   "source": [
    "fig, ax = plt.subplots(1,1)\n",
    "plt.xscale('log')\n",
    "train_error = plt.plot(alpha, train_rmse, 'r-')\n",
    "test_error = plt.plot(alpha, test_rmse, 'b')"
   ]
  },
  {
   "cell_type": "code",
   "execution_count": 5,
   "metadata": {},
   "outputs": [
    {
     "data": {
      "text/plain": [
       "array([-1.08587681e-01,  4.61706305e-02,  4.59582541e-02,  1.71292277e+00,\n",
       "       -1.78389907e+01,  4.25102373e+00, -1.15028653e-02, -1.33456507e+00,\n",
       "        3.17231670e-01, -1.43572317e-02, -9.07940251e-01,  9.19618208e-03,\n",
       "       -4.20519213e-01])"
      ]
     },
     "execution_count": 5,
     "metadata": {},
     "output_type": "execute_result"
    }
   ],
   "source": [
    "ridge_skl.coef_"
   ]
  },
  {
   "cell_type": "code",
   "execution_count": 6,
   "metadata": {},
   "outputs": [
    {
     "data": {
      "text/plain": [
       "32.33903903054805"
      ]
     },
     "execution_count": 6,
     "metadata": {},
     "output_type": "execute_result"
    }
   ],
   "source": [
    "ridge_skl.intercept_"
   ]
  },
  {
   "cell_type": "code",
   "execution_count": 7,
   "metadata": {},
   "outputs": [],
   "source": [
    "alpha = [1000, 100, 10, 1, 0.1, 0.01, 0.001, 0.0001, 0.00001]\n",
    "train_rmse = []\n",
    "test_rmse = []\n",
    "\n",
    "for a in alpha:\n",
    "    ridge_skl = RidgeRegression(alpha=a)\n",
    "    ridge_skl.fit(X_train, y_train)\n",
    "\n",
    "    y_train_pred = ridge_skl.predict(X_train)\n",
    "    y_test_pred = ridge_skl.predict(X_test)\n",
    "    \n",
    "    train_rmse.append(rmse(y_train, y_train_pred))\n",
    "    test_rmse.append(rmse(y_test, y_test_pred))"
   ]
  },
  {
   "cell_type": "code",
   "execution_count": 8,
   "metadata": {},
   "outputs": [
    {
     "data": {
      "image/png": "[encoded data removed]",
      "text/plain": [
       "<Figure size 432x288 with 1 Axes>"
      ]
     },
     "metadata": {
      "needs_background": "light"
     },
     "output_type": "display_data"
    }
   ],
   "source": [
    "fig, ax = plt.subplots(1,1)\n",
    "plt.xscale('log')\n",
    "train_error = plt.plot(alpha, train_rmse, 'r-')\n",
    "test_error = plt.plot(alpha, test_rmse, 'b')"
   ]
  },
  {
   "cell_type": "code",
   "execution_count": 9,
   "metadata": {},
   "outputs": [
    {
     "data": {
      "text/plain": [
       "array([ 3.23390390e+01, -1.08587681e-01,  4.61706305e-02,  4.59582541e-02,\n",
       "        1.71292277e+00, -1.78389907e+01,  4.25102373e+00, -1.15028653e-02,\n",
       "       -1.33456507e+00,  3.17231670e-01, -1.43572317e-02, -9.07940251e-01,\n",
       "        9.19618208e-03, -4.20519213e-01])"
      ]
     },
     "execution_count": 9,
     "metadata": {},
     "output_type": "execute_result"
    }
   ],
   "source": [
    "ridge_skl.w"
   ]
  },
  {
   "cell_type": "code",
   "execution_count": 10,
   "metadata": {},
   "outputs": [
    {
     "name": "stdout",
     "output_type": "stream",
     "text": [
      "Converged.\n",
      "Converged.\n",
      "Not converged.\n",
      "Not converged.\n",
      "Not converged.\n",
      "Not converged.\n",
      "Not converged.\n",
      "Not converged.\n",
      "Not converged.\n"
     ]
    }
   ],
   "source": [
    "alpha = [1000, 100, 10, 1, 0.1, 0.01, 0.001, 0.0001, 0.00001]\n",
    "train_rmse = []\n",
    "test_rmse = []\n",
    "\n",
    "for a in alpha:\n",
    "    ridge_skl = RidgeRegression(alpha=a, solver='gradient_descent', tol=1e-7)\n",
    "    ridge_skl.fit(X_train, y_train)\n",
    "\n",
    "    y_train_pred = ridge_skl.predict(X_train)\n",
    "    y_test_pred = ridge_skl.predict(X_test)\n",
    "    \n",
    "    train_rmse.append(rmse(y_train, y_train_pred))\n",
    "    test_rmse.append(rmse(y_test, y_test_pred))"
   ]
  },
  {
   "cell_type": "code",
   "execution_count": 12,
   "metadata": {},
   "outputs": [
    {
     "data": {
      "image/png": "[encoded data removed]",
      "text/plain": [
       "<Figure size 432x288 with 1 Axes>"
      ]
     },
     "metadata": {
      "needs_background": "light"
     },
     "output_type": "display_data"
    }
   ],
   "source": [
    "fig, ax = plt.subplots(1,1)\n",
    "plt.xscale('log')\n",
    "train_error = plt.plot(alpha, train_rmse, 'r-')\n",
    "test_error = plt.plot(alpha, test_rmse, 'b')"
   ]
  },
  {
   "cell_type": "code",
   "execution_count": 36,
   "metadata": {},
   "outputs": [
    {
     "name": "stdout",
     "output_type": "stream",
     "text": [
      "Converged.\n",
      "Converged.\n",
      "Converged.\n",
      "Converged.\n",
      "Converged.\n",
      "Converged.\n",
      "Converged.\n",
      "Converged.\n",
      "Converged.\n"
     ]
    }
   ],
   "source": [
    "alpha = [1000, 100, 10, 1, 0.1, 0.01, 0.001, 0.0001, 0.00001]\n",
    "train_rmse = []\n",
    "test_rmse = []\n",
    "\n",
    "for a in alpha:\n",
    "    ridge_skl = RidgeRegression(alpha=a, solver='gradient_descent', learning_rate=0.0005)\n",
    "    ridge_skl.fit(X_train, y_train)\n",
    "\n",
    "    y_train_pred = ridge_skl.predict(X_train)\n",
    "    y_test_pred = ridge_skl.predict(X_test)\n",
    "    \n",
    "    train_rmse.append(rmse(y_train, y_train_pred))\n",
    "    test_rmse.append(rmse(y_test, y_test_pred))"
   ]
  },
  {
   "cell_type": "code",
   "execution_count": 37,
   "metadata": {},
   "outputs": [
    {
     "data": {
      "image/png": "[encoded data removed]",
      "text/plain": [
       "<Figure size 576x288 with 1 Axes>"
      ]
     },
     "metadata": {
      "needs_background": "light"
     },
     "output_type": "display_data"
    }
   ],
   "source": [
    "fig, ax = plt.subplots(1,1,figsize=(8,4))\n",
    "plt.xscale('log')\n",
    "train_error = plt.plot(alpha, train_rmse, 'r-')\n",
    "test_error = plt.plot(alpha, test_rmse, 'b')"
   ]
  },
  {
   "cell_type": "code",
   "execution_count": null,
   "metadata": {},
   "outputs": [],
   "source": []
  },
  {
   "cell_type": "code",
   "execution_count": null,
   "metadata": {},
   "outputs": [],
   "source": []
  },
  {
   "cell_type": "code",
   "execution_count": 13,
   "metadata": {},
   "outputs": [
    {
     "ename": "AttributeError",
     "evalue": "'RidgeRegression' object has no attribute 'coef_'",
     "output_type": "error",
     "traceback": [
      "\u001b[0;31m---------------------------------------------------------------------------\u001b[0m",
      "\u001b[0;31mAttributeError\u001b[0m                            Traceback (most recent call last)",
      "\u001b[0;32m<ipython-input-13-fc22c487faa2>\u001b[0m in \u001b[0;36m<module>\u001b[0;34m\u001b[0m\n\u001b[0;32m----> 1\u001b[0;31m \u001b[0mridge_skl\u001b[0m\u001b[0;34m.\u001b[0m\u001b[0mcoef_\u001b[0m\u001b[0;34m\u001b[0m\u001b[0;34m\u001b[0m\u001b[0m\n\u001b[0m",
      "\u001b[0;31mAttributeError\u001b[0m: 'RidgeRegression' object has no attribute 'coef_'"
     ]
    }
   ],
   "source": [
    "ridge_skl.coef_"
   ]
  },
  {
   "cell_type": "code",
   "execution_count": 37,
   "metadata": {},
   "outputs": [
    {
     "data": {
      "text/plain": [
       "41.59667695918515"
      ]
     },
     "execution_count": 37,
     "metadata": {},
     "output_type": "execute_result"
    }
   ],
   "source": [
    "ridge_skl.intercept_"
   ]
  },
  {
   "cell_type": "code",
   "execution_count": 41,
   "metadata": {},
   "outputs": [
    {
     "data": {
      "text/plain": [
       "array([ 4.15960889e+01, -1.03946342e-01,  5.21675498e-02,  1.90775013e-02,\n",
       "        3.05348914e+00, -1.87023310e+01,  3.07882041e+00,  1.95035443e-02,\n",
       "       -1.47954764e+00,  3.03895420e-01, -1.11872590e-02, -9.89187413e-01,\n",
       "        9.42936049e-03, -6.30063285e-01])"
      ]
     },
     "execution_count": 41,
     "metadata": {},
     "output_type": "execute_result"
    }
   ],
   "source": [
    "ridge_skl.w"
   ]
  },
  {
   "cell_type": "code",
   "execution_count": 44,
   "metadata": {},
   "outputs": [
    {
     "data": {
      "text/plain": [
       "array([22.61728339, -0.9497321 ,  1.23243497,  0.12835958,  0.76211701,\n",
       "       -2.14849025,  2.10375952,  0.54891135, -3.11400849,  2.66431765,\n",
       "       -1.89322979, -2.14663816,  0.89429829, -4.38514125])"
      ]
     },
     "execution_count": 44,
     "metadata": {},
     "output_type": "execute_result"
    }
   ],
   "source": [
    "ridge_skl.w"
   ]
  },
  {
   "cell_type": "code",
   "execution_count": 12,
   "metadata": {},
   "outputs": [
    {
     "data": {
      "text/plain": [
       "[6.111393897421279,\n",
       " 5.210752186897938,\n",
       " 4.881040063432443,\n",
       " 4.7658351062600754,\n",
       " 4.6934761594931205,\n",
       " 4.671121068180912,\n",
       " 4.6704782249549615,\n",
       " 4.67047081238431,\n",
       " 4.670470737153409,\n",
       " 4.670470736399982]"
      ]
     },
     "execution_count": 12,
     "metadata": {},
     "output_type": "execute_result"
    }
   ],
   "source": [
    "train_rmse"
   ]
  },
  {
   "cell_type": "code",
   "execution_count": 10,
   "metadata": {},
   "outputs": [
    {
     "data": {
      "text/plain": [
       "[6.350977908985411,\n",
       " 5.804940104744343,\n",
       " 5.29459617567899,\n",
       " 4.964342672880779,\n",
       " 4.873167825682011,\n",
       " 4.864268857265297,\n",
       " 4.8665144919384975,\n",
       " 4.866825080503189,\n",
       " 4.866857122565687,\n",
       " 4.866860693983915]"
      ]
     },
     "execution_count": 10,
     "metadata": {},
     "output_type": "execute_result"
    }
   ],
   "source": [
    "test_rmse"
   ]
  },
  {
   "cell_type": "code",
   "execution_count": 13,
   "metadata": {},
   "outputs": [],
   "source": [
    "def split(a, n):\n",
    "    k, m = divmod(len(a), n)\n",
    "    return (a[i * k + min(i, m):(i + 1) * k + min(i + 1, m)] for i in range(n))"
   ]
  },
  {
   "cell_type": "code",
   "execution_count": 20,
   "metadata": {},
   "outputs": [
    {
     "data": {
      "text/plain": [
       "array([5, 3, 8, 7, 1, 2, 4, 0, 6, 9])"
      ]
     },
     "execution_count": 20,
     "metadata": {},
     "output_type": "execute_result"
    }
   ],
   "source": [
    "arr"
   ]
  },
  {
   "cell_type": "code",
   "execution_count": 28,
   "metadata": {},
   "outputs": [],
   "source": [
    "import numpy as np\n",
    "indices = np.arange(10)\n",
    "#np.random.shuffle(indices)"
   ]
  },
  {
   "cell_type": "code",
   "execution_count": 44,
   "metadata": {},
   "outputs": [],
   "source": [
    "def split_array(a, n):\n",
    "    \"\"\"\n",
    "    Split an array into n chunks.\n",
    "    https://stackoverflow.com/questions/2130016/splitting-a-list-into-n-parts-of-approximately-equal-length\n",
    "\n",
    "    Parameters\n",
    "    ----------\n",
    "    a: array-like\n",
    "    n: int \n",
    "        number of chunks\n",
    "    \"\"\"\n",
    "    k, m = divmod(len(a), n)\n",
    "    return (a[i * k + min(i, m):(i + 1) * k + min(i + 1, m)] for i in range(n))"
   ]
  },
  {
   "cell_type": "code",
   "execution_count": 45,
   "metadata": {},
   "outputs": [],
   "source": [
    "def split(X, y, n_splits=5, shuffle=True):\n",
    "    indices = np.arange(len(X))\n",
    "    if shuffle:\n",
    "        np.random.shuffle(indices)\n",
    "    print('here')\n",
    "    for test_idx in split_array(indices,n_splits):\n",
    "        train_idx = np.setdiff1d(indices, test_idx)\n",
    "        yield (train_idx, test_idx)"
   ]
  },
  {
   "cell_type": "code",
   "execution_count": 47,
   "metadata": {},
   "outputs": [
    {
     "name": "stdout",
     "output_type": "stream",
     "text": [
      "here\n",
      "-----\n",
      "[2 3 4 5 6 7 8]\n",
      "[0 1]\n",
      "-----\n",
      "[0 1 4 5 6 7 8]\n",
      "[2 3]\n",
      "-----\n",
      "[0 1 2 3 6 7 8]\n",
      "[4 5]\n",
      "-----\n",
      "[0 1 2 3 4 5 8]\n",
      "[6 7]\n",
      "-----\n",
      "[0 1 2 3 4 5 6 7]\n",
      "[8]\n"
     ]
    }
   ],
   "source": [
    "for train, test in split([3,3,3,3,3,3,3,3,3], [], shuffle=False):\n",
    "    print('-----')\n",
    "    print(train)\n",
    "    print(test)"
   ]
  },
  {
   "cell_type": "code",
   "execution_count": 40,
   "metadata": {},
   "outputs": [],
   "source": [
    "def gen_etos():\n",
    "    ETOS = [1,2,3,4,5]\n",
    "    for eto in ETOS:\n",
    "        yield eto"
   ]
  },
  {
   "cell_type": "code",
   "execution_count": 42,
   "metadata": {},
   "outputs": [],
   "source": [
    "g = gen_etos()"
   ]
  },
  {
   "cell_type": "code",
   "execution_count": 43,
   "metadata": {},
   "outputs": [
    {
     "name": "stdout",
     "output_type": "stream",
     "text": [
      "-----\n",
      "1\n",
      "-----\n",
      "2\n",
      "-----\n",
      "3\n",
      "-----\n",
      "4\n",
      "-----\n",
      "5\n"
     ]
    }
   ],
   "source": [
    "for i in g:\n",
    "    print('-----')\n",
    "    print(i)"
   ]
  },
  {
   "cell_type": "code",
   "execution_count": null,
   "metadata": {},
   "outputs": [],
   "source": []
  },
  {
   "cell_type": "code",
   "execution_count": 26,
   "metadata": {},
   "outputs": [
    {
     "ename": "ValueError",
     "evalue": "operands could not be broadcast together with shapes (4,) (3,) ",
     "output_type": "error",
     "traceback": [
      "\u001b[0;31m---------------------------------------------------------------------------\u001b[0m",
      "\u001b[0;31mValueError\u001b[0m                                Traceback (most recent call last)",
      "\u001b[0;32m<ipython-input-26-94f83b157301>\u001b[0m in \u001b[0;36m<module>\u001b[0;34m\u001b[0m\n\u001b[0;32m----> 1\u001b[0;31m \u001b[0mnp\u001b[0m\u001b[0;34m.\u001b[0m\u001b[0marray\u001b[0m\u001b[0;34m(\u001b[0m\u001b[0;34m[\u001b[0m\u001b[0;36m1\u001b[0m\u001b[0;34m,\u001b[0m\u001b[0;36m2\u001b[0m\u001b[0;34m,\u001b[0m\u001b[0;36m3\u001b[0m\u001b[0;34m,\u001b[0m\u001b[0;36m4\u001b[0m\u001b[0;34m]\u001b[0m\u001b[0;34m)\u001b[0m \u001b[0;34m-\u001b[0m \u001b[0mnp\u001b[0m\u001b[0;34m.\u001b[0m\u001b[0marray\u001b[0m\u001b[0;34m(\u001b[0m\u001b[0;34m[\u001b[0m\u001b[0;36m1\u001b[0m\u001b[0;34m,\u001b[0m\u001b[0;36m2\u001b[0m\u001b[0;34m,\u001b[0m\u001b[0;36m3\u001b[0m\u001b[0;34m]\u001b[0m\u001b[0;34m)\u001b[0m\u001b[0;34m\u001b[0m\u001b[0;34m\u001b[0m\u001b[0m\n\u001b[0m",
      "\u001b[0;31mValueError\u001b[0m: operands could not be broadcast together with shapes (4,) (3,) "
     ]
    }
   ],
   "source": [
    "np.array([1,2,3,4]) - np.array([1,2,3])"
   ]
  },
  {
   "cell_type": "code",
   "execution_count": 13,
   "metadata": {},
   "outputs": [],
   "source": [
    "import numpy as np\n",
    "a = np.array([[1,2,3],[2,2,3]])"
   ]
  },
  {
   "cell_type": "code",
   "execution_count": 50,
   "metadata": {},
   "outputs": [],
   "source": [
    "a[0,0]=0"
   ]
  },
  {
   "cell_type": "code",
   "execution_count": 16,
   "metadata": {},
   "outputs": [],
   "source": [
    "a[0] = np.zeros(3)"
   ]
  },
  {
   "cell_type": "code",
   "execution_count": 17,
   "metadata": {},
   "outputs": [
    {
     "data": {
      "text/plain": [
       "array([[0, 0, 0],\n",
       "       [2, 2, 3]])"
      ]
     },
     "execution_count": 17,
     "metadata": {},
     "output_type": "execute_result"
    }
   ],
   "source": [
    "a"
   ]
  },
  {
   "cell_type": "code",
   "execution_count": null,
   "metadata": {},
   "outputs": [],
   "source": []
  }
 ],
 "metadata": {
  "kernelspec": {
   "display_name": "Python 3",
   "language": "python",
   "name": "python3"
  },
  "language_info": {
   "codemirror_mode": {
    "name": "ipython",
    "version": 3
   },
   "file_extension": ".py",
   "mimetype": "text/x-python",
   "name": "python",
   "nbconvert_exporter": "python",
   "pygments_lexer": "ipython3",
   "version": "3.7.6"
  }
 },
 "nbformat": 4,
 "nbformat_minor": 4
}
