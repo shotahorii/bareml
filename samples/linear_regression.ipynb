{
 "cells": [
  {
   "cell_type": "code",
   "execution_count": 1,
   "metadata": {},
   "outputs": [],
   "source": [
    "import sys\n",
    "sys.path.append('../')\n",
    "\n",
    "from mlfs.supervised.linear_regression\\\n",
    "import LinearRegression, RidgeRegression, ElasticNetRegression, LassoRegression\n",
    "from mlfs.utils.metrics import rmse\n",
    "from mlfs.utils.preprocessing import train_test_split\n",
    "\n",
    "from sklearn.linear_model import Ridge, Lasso, ElasticNet\n",
    "from sklearn.datasets import load_boston\n",
    "\n",
    "from matplotlib import pyplot as plt\n",
    "%matplotlib inline"
   ]
  },
  {
   "cell_type": "markdown",
   "metadata": {},
   "source": [
    "### Demo with boston data set"
   ]
  },
  {
   "cell_type": "code",
   "execution_count": 2,
   "metadata": {},
   "outputs": [],
   "source": [
    "# load data\n",
    "boston = load_boston()\n",
    "X = boston.data\n",
    "y = boston.target\n",
    "\n",
    "# split into train/test data\n",
    "X_train, X_test, y_train, y_test = train_test_split(X, y, test_ratio=0.2, seed=0)"
   ]
  },
  {
   "cell_type": "markdown",
   "metadata": {},
   "source": [
    "### Ridge Regression (vs sklearn)"
   ]
  },
  {
   "cell_type": "code",
   "execution_count": 3,
   "metadata": {},
   "outputs": [],
   "source": [
    "alpha = [1000, 100, 10, 1, 0.1, 0.01, 0.001, 0.0001, 0.00001]\n",
    "train_rmse = []\n",
    "test_rmse = []\n",
    "\n",
    "for a in alpha:\n",
    "    ridge_skl = Ridge(alpha=a)\n",
    "    ridge_skl.fit(X_train, y_train)\n",
    "\n",
    "    y_train_pred = ridge_skl.predict(X_train)\n",
    "    y_test_pred = ridge_skl.predict(X_test)\n",
    "    \n",
    "    train_rmse.append(rmse(y_train, y_train_pred))\n",
    "    test_rmse.append(rmse(y_test, y_test_pred))"
   ]
  },
  {
   "cell_type": "code",
   "execution_count": 4,
   "metadata": {},
   "outputs": [
    {
     "data": {
      "image/png": "[encoded data removed]",
      "text/plain": [
       "<Figure size 432x288 with 1 Axes>"
      ]
     },
     "metadata": {
      "needs_background": "light"
     },
     "output_type": "display_data"
    }
   ],
   "source": [
    "fig, ax = plt.subplots(1,1)\n",
    "plt.xscale('log')\n",
    "train_error = plt.plot(alpha, train_rmse, 'r-')\n",
    "test_error = plt.plot(alpha, test_rmse, 'b')"
   ]
  },
  {
   "cell_type": "code",
   "execution_count": 5,
   "metadata": {},
   "outputs": [
    {
     "data": {
      "text/plain": [
       "array([-1.16482861e-01,  5.21791898e-02,  5.27016898e-02,  2.12252249e+00,\n",
       "       -2.02464049e+01,  4.00475812e+00,  7.29974263e-03, -1.53647538e+00,\n",
       "        3.09754937e-01, -1.24171097e-02, -1.08270990e+00,  9.28161817e-03,\n",
       "       -5.23504634e-01])"
      ]
     },
     "execution_count": 5,
     "metadata": {},
     "output_type": "execute_result"
    }
   ],
   "source": [
    "ridge_skl.coef_"
   ]
  },
  {
   "cell_type": "code",
   "execution_count": 6,
   "metadata": {},
   "outputs": [
    {
     "data": {
      "text/plain": [
       "38.44880362668816"
      ]
     },
     "execution_count": 6,
     "metadata": {},
     "output_type": "execute_result"
    }
   ],
   "source": [
    "ridge_skl.intercept_"
   ]
  },
  {
   "cell_type": "code",
   "execution_count": 7,
   "metadata": {},
   "outputs": [],
   "source": [
    "alpha = [1000, 100, 10, 1, 0.1, 0.01, 0.001, 0.0001, 0.00001]\n",
    "train_rmse = []\n",
    "test_rmse = []\n",
    "\n",
    "for a in alpha:\n",
    "    ridge_skl = RidgeRegression(alpha=a)\n",
    "    ridge_skl.fit(X_train, y_train)\n",
    "\n",
    "    y_train_pred = ridge_skl.predict(X_train)\n",
    "    y_test_pred = ridge_skl.predict(X_test)\n",
    "    \n",
    "    train_rmse.append(rmse(y_train, y_train_pred))\n",
    "    test_rmse.append(rmse(y_test, y_test_pred))"
   ]
  },
  {
   "cell_type": "code",
   "execution_count": 8,
   "metadata": {},
   "outputs": [
    {
     "data": {
      "image/png": "[encoded data removed]",
      "text/plain": [
       "<Figure size 432x288 with 1 Axes>"
      ]
     },
     "metadata": {
      "needs_background": "light"
     },
     "output_type": "display_data"
    }
   ],
   "source": [
    "fig, ax = plt.subplots(1,1)\n",
    "plt.xscale('log')\n",
    "train_error = plt.plot(alpha, train_rmse, 'r-')\n",
    "test_error = plt.plot(alpha, test_rmse, 'b')"
   ]
  },
  {
   "cell_type": "code",
   "execution_count": 9,
   "metadata": {},
   "outputs": [
    {
     "data": {
      "text/plain": [
       "array([ 3.84488036e+01, -1.16482861e-01,  5.21791898e-02,  5.27016898e-02,\n",
       "        2.12252249e+00, -2.02464049e+01,  4.00475812e+00,  7.29974263e-03,\n",
       "       -1.53647538e+00,  3.09754937e-01, -1.24171097e-02, -1.08270990e+00,\n",
       "        9.28161817e-03, -5.23504634e-01])"
      ]
     },
     "execution_count": 9,
     "metadata": {},
     "output_type": "execute_result"
    }
   ],
   "source": [
    "ridge_skl.w"
   ]
  },
  {
   "cell_type": "code",
   "execution_count": 10,
   "metadata": {},
   "outputs": [
    {
     "name": "stdout",
     "output_type": "stream",
     "text": [
      "Converged.\n",
      "Converged.\n",
      "Converged.\n",
      "Converged.\n",
      "Converged.\n",
      "Converged.\n",
      "Converged.\n",
      "Converged.\n",
      "Converged.\n"
     ]
    }
   ],
   "source": [
    "alpha = [1000, 100, 10, 1, 0.1, 0.01, 0.001, 0.0001, 0.00001]\n",
    "train_rmse = []\n",
    "test_rmse = []\n",
    "\n",
    "for a in alpha:\n",
    "    ridge_skl = RidgeRegression(alpha=a, solver='gradient_descent')\n",
    "    ridge_skl.fit(X_train, y_train)\n",
    "\n",
    "    y_train_pred = ridge_skl.predict(X_train)\n",
    "    y_test_pred = ridge_skl.predict(X_test)\n",
    "    \n",
    "    train_rmse.append(rmse(y_train, y_train_pred))\n",
    "    test_rmse.append(rmse(y_test, y_test_pred))"
   ]
  },
  {
   "cell_type": "code",
   "execution_count": 11,
   "metadata": {},
   "outputs": [
    {
     "data": {
      "image/png": "[encoded data removed]",
      "text/plain": [
       "<Figure size 576x288 with 1 Axes>"
      ]
     },
     "metadata": {
      "needs_background": "light"
     },
     "output_type": "display_data"
    }
   ],
   "source": [
    "fig, ax = plt.subplots(1,1,figsize=(8,4))\n",
    "plt.xscale('log')\n",
    "train_error = plt.plot(alpha, train_rmse, 'r-')\n",
    "test_error = plt.plot(alpha, test_rmse, 'b')"
   ]
  },
  {
   "cell_type": "code",
   "execution_count": 30,
   "metadata": {},
   "outputs": [
    {
     "name": "stdout",
     "output_type": "stream",
     "text": [
      "Converged.\n",
      "Converged.\n",
      "Converged.\n",
      "Converged.\n",
      "Converged.\n",
      "Converged.\n",
      "Converged.\n",
      "Converged.\n",
      "Converged.\n"
     ]
    }
   ],
   "source": [
    "alpha = [1000, 100, 10, 1, 0.1, 0.01, 0.001, 0.0001, 0.00001]\n",
    "train_rmse = []\n",
    "test_rmse = []\n",
    "\n",
    "for a in alpha:\n",
    "    ridge_skl = RidgeRegression(alpha=a, solver='gradient_descent', learning_rate=0.0004)\n",
    "    ridge_skl.fit(X_train, y_train)\n",
    "\n",
    "    y_train_pred = ridge_skl.predict(X_train)\n",
    "    y_test_pred = ridge_skl.predict(X_test)\n",
    "    \n",
    "    train_rmse.append(rmse(y_train, y_train_pred))\n",
    "    test_rmse.append(rmse(y_test, y_test_pred))"
   ]
  },
  {
   "cell_type": "code",
   "execution_count": 29,
   "metadata": {},
   "outputs": [
    {
     "data": {
      "image/png": "[encoded data removed]",
      "text/plain": [
       "<Figure size 576x288 with 1 Axes>"
      ]
     },
     "metadata": {
      "needs_background": "light"
     },
     "output_type": "display_data"
    }
   ],
   "source": [
    "fig, ax = plt.subplots(1,1,figsize=(8,4))\n",
    "plt.xscale('log')\n",
    "train_error = plt.plot(alpha, train_rmse, 'r-')\n",
    "test_error = plt.plot(alpha, test_rmse, 'b')"
   ]
  },
  {
   "cell_type": "code",
   "execution_count": null,
   "metadata": {},
   "outputs": [],
   "source": []
  },
  {
   "cell_type": "code",
   "execution_count": null,
   "metadata": {},
   "outputs": [],
   "source": []
  },
  {
   "cell_type": "code",
   "execution_count": 13,
   "metadata": {},
   "outputs": [
    {
     "ename": "AttributeError",
     "evalue": "'RidgeRegression' object has no attribute 'coef_'",
     "output_type": "error",
     "traceback": [
      "\u001b[0;31m---------------------------------------------------------------------------\u001b[0m",
      "\u001b[0;31mAttributeError\u001b[0m                            Traceback (most recent call last)",
      "\u001b[0;32m<ipython-input-13-fc22c487faa2>\u001b[0m in \u001b[0;36m<module>\u001b[0;34m\u001b[0m\n\u001b[0;32m----> 1\u001b[0;31m \u001b[0mridge_skl\u001b[0m\u001b[0;34m.\u001b[0m\u001b[0mcoef_\u001b[0m\u001b[0;34m\u001b[0m\u001b[0;34m\u001b[0m\u001b[0m\n\u001b[0m",
      "\u001b[0;31mAttributeError\u001b[0m: 'RidgeRegression' object has no attribute 'coef_'"
     ]
    }
   ],
   "source": [
    "ridge_skl.coef_"
   ]
  },
  {
   "cell_type": "code",
   "execution_count": 37,
   "metadata": {},
   "outputs": [
    {
     "data": {
      "text/plain": [
       "41.59667695918515"
      ]
     },
     "execution_count": 37,
     "metadata": {},
     "output_type": "execute_result"
    }
   ],
   "source": [
    "ridge_skl.intercept_"
   ]
  },
  {
   "cell_type": "code",
   "execution_count": 41,
   "metadata": {},
   "outputs": [
    {
     "data": {
      "text/plain": [
       "array([ 4.15960889e+01, -1.03946342e-01,  5.21675498e-02,  1.90775013e-02,\n",
       "        3.05348914e+00, -1.87023310e+01,  3.07882041e+00,  1.95035443e-02,\n",
       "       -1.47954764e+00,  3.03895420e-01, -1.11872590e-02, -9.89187413e-01,\n",
       "        9.42936049e-03, -6.30063285e-01])"
      ]
     },
     "execution_count": 41,
     "metadata": {},
     "output_type": "execute_result"
    }
   ],
   "source": [
    "ridge_skl.w"
   ]
  },
  {
   "cell_type": "code",
   "execution_count": 44,
   "metadata": {},
   "outputs": [
    {
     "data": {
      "text/plain": [
       "array([22.61728339, -0.9497321 ,  1.23243497,  0.12835958,  0.76211701,\n",
       "       -2.14849025,  2.10375952,  0.54891135, -3.11400849,  2.66431765,\n",
       "       -1.89322979, -2.14663816,  0.89429829, -4.38514125])"
      ]
     },
     "execution_count": 44,
     "metadata": {},
     "output_type": "execute_result"
    }
   ],
   "source": [
    "ridge_skl.w"
   ]
  },
  {
   "cell_type": "code",
   "execution_count": 12,
   "metadata": {},
   "outputs": [
    {
     "data": {
      "text/plain": [
       "[6.111393897421279,\n",
       " 5.210752186897938,\n",
       " 4.881040063432443,\n",
       " 4.7658351062600754,\n",
       " 4.6934761594931205,\n",
       " 4.671121068180912,\n",
       " 4.6704782249549615,\n",
       " 4.67047081238431,\n",
       " 4.670470737153409,\n",
       " 4.670470736399982]"
      ]
     },
     "execution_count": 12,
     "metadata": {},
     "output_type": "execute_result"
    }
   ],
   "source": [
    "train_rmse"
   ]
  },
  {
   "cell_type": "code",
   "execution_count": 10,
   "metadata": {},
   "outputs": [
    {
     "data": {
      "text/plain": [
       "[6.350977908985411,\n",
       " 5.804940104744343,\n",
       " 5.29459617567899,\n",
       " 4.964342672880779,\n",
       " 4.873167825682011,\n",
       " 4.864268857265297,\n",
       " 4.8665144919384975,\n",
       " 4.866825080503189,\n",
       " 4.866857122565687,\n",
       " 4.866860693983915]"
      ]
     },
     "execution_count": 10,
     "metadata": {},
     "output_type": "execute_result"
    }
   ],
   "source": [
    "test_rmse"
   ]
  },
  {
   "cell_type": "code",
   "execution_count": 6,
   "metadata": {},
   "outputs": [
    {
     "data": {
      "text/plain": [
       "405"
      ]
     },
     "execution_count": 6,
     "metadata": {},
     "output_type": "execute_result"
    }
   ],
   "source": [
    "len(X_train)"
   ]
  },
  {
   "cell_type": "code",
   "execution_count": 13,
   "metadata": {},
   "outputs": [
    {
     "data": {
      "text/plain": [
       "Ridge(alpha=1.0, copy_X=True, fit_intercept=True, max_iter=None,\n",
       "      normalize=False, random_state=None, solver='auto', tol=0.001)"
      ]
     },
     "execution_count": 13,
     "metadata": {},
     "output_type": "execute_result"
    }
   ],
   "source": [
    "cls.fit(X, y)"
   ]
  },
  {
   "cell_type": "code",
   "execution_count": 13,
   "metadata": {},
   "outputs": [],
   "source": [
    "import numpy as np\n",
    "a = np.array([[1,2,3],[2,2,3]])"
   ]
  },
  {
   "cell_type": "code",
   "execution_count": 50,
   "metadata": {},
   "outputs": [],
   "source": [
    "a[0,0]=0"
   ]
  },
  {
   "cell_type": "code",
   "execution_count": 16,
   "metadata": {},
   "outputs": [],
   "source": [
    "a[0] = np.zeros(3)"
   ]
  },
  {
   "cell_type": "code",
   "execution_count": 17,
   "metadata": {},
   "outputs": [
    {
     "data": {
      "text/plain": [
       "array([[0, 0, 0],\n",
       "       [2, 2, 3]])"
      ]
     },
     "execution_count": 17,
     "metadata": {},
     "output_type": "execute_result"
    }
   ],
   "source": [
    "a"
   ]
  },
  {
   "cell_type": "code",
   "execution_count": null,
   "metadata": {},
   "outputs": [],
   "source": []
  }
 ],
 "metadata": {
  "kernelspec": {
   "display_name": "Python 3",
   "language": "python",
   "name": "python3"
  },
  "language_info": {
   "codemirror_mode": {
    "name": "ipython",
    "version": 3
   },
   "file_extension": ".py",
   "mimetype": "text/x-python",
   "name": "python",
   "nbconvert_exporter": "python",
   "pygments_lexer": "ipython3",
   "version": "3.7.6"
  }
 },
 "nbformat": 4,
 "nbformat_minor": 4
}
