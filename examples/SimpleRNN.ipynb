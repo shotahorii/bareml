{
 "cells": [
  {
   "cell_type": "code",
   "execution_count": 1,
   "metadata": {},
   "outputs": [],
   "source": [
    "import sys\n",
    "sys.path.append('../')\n",
    "import numpy as np\n",
    "import bareml.deeplearning.functions as F\n",
    "import bareml.deeplearning.layers as L\n",
    "from bareml.deeplearning.optimisers import Adam\n",
    "from bareml.deeplearning.core import Tensor, get_array_module"
   ]
  },
  {
   "cell_type": "code",
   "execution_count": 2,
   "metadata": {},
   "outputs": [
    {
     "name": "stdout",
     "output_type": "stream",
     "text": [
      "--- data ---\n",
      "input_seq (len_seq, batch_size, input_size): (14, 3, 17)\n",
      "target_seq (len_seq, batch_size): (14, 3)\n"
     ]
    }
   ],
   "source": [
    "# Use the same example used in this post: \n",
    "# https://blog.floydhub.com/a-beginners-guide-on-recurrent-neural-networks-with-pytorch/\n",
    "\n",
    "text = ['hey how are you','good i am fine','have a nice day']\n",
    "\n",
    "# Join all the sentences together and extract the unique characters from the combined sentences\n",
    "chars = set(''.join(text))\n",
    "# Creating a dictionary that maps integers to the characters\n",
    "int2char = dict(enumerate(chars))\n",
    "# Creating another dictionary that maps characters to integers\n",
    "char2int = {char: ind for ind, char in int2char.items()}\n",
    "\n",
    "# Finding the length of the longest string in our data\n",
    "maxlen = len(max(text, key=len))\n",
    "\n",
    "# A simple loop that loops through the list of sentences and adds a ' ' whitespace until the length of\n",
    "# the sentence matches the length of the longest sentence\n",
    "for i in range(len(text)):\n",
    "    while len(text[i])<maxlen:\n",
    "        text[i] += ' '\n",
    "        \n",
    "        \n",
    "dict_size = len(char2int)\n",
    "seq_len = maxlen - 1\n",
    "batch_size = len(text)\n",
    "\n",
    "def one_hot_encode(sequence, dict_size, seq_len, batch_size):\n",
    "    # Creating a multi-dimensional array of zeros with the desired output shape\n",
    "    features = np.zeros((batch_size, seq_len, dict_size), dtype=np.float32)\n",
    "    \n",
    "    # Replacing the 0 at the relevant character index with a 1 to represent that character\n",
    "    for i in range(batch_size):\n",
    "        for u in range(seq_len):\n",
    "            features[i, u, sequence[i][u]] = 1\n",
    "    return features\n",
    "\n",
    "\n",
    "# Creating lists that will hold our input and target sequences\n",
    "input_seq = []\n",
    "target_seq = []\n",
    "\n",
    "for i in range(len(text)):\n",
    "    # Remove last character for input sequence\n",
    "    input_seq.append(text[i][:-1])\n",
    "    \n",
    "    # Remove first character for target sequence\n",
    "    target_seq.append(text[i][1:])\n",
    "    #print(\"Input Sequence: {}\\nTarget Sequence: {}\".format(input_seq[i], target_seq[i]))\n",
    "    \n",
    "for i in range(len(text)):\n",
    "    input_seq[i] = [char2int[character] for character in input_seq[i]]\n",
    "    target_seq[i] = [char2int[character] for character in target_seq[i]]\n",
    "    \n",
    "# Input shape --> (Batch Size, Sequence Length, One-Hot Encoding Size)\n",
    "input_seq_onehot = one_hot_encode(input_seq, dict_size, seq_len, batch_size)\n",
    "\n",
    "# transpose the input to fit with (len_seq, batch_size, input_size) input\n",
    "input_seq_onehot_transposed = input_seq_onehot.transpose(1,0,2)\n",
    "target_seq_transposed = np.array(target_seq).transpose()\n",
    "\n",
    "print('--- data ---')\n",
    "print('input_seq (len_seq, batch_size, input_size):', input_seq_onehot_transposed.shape)\n",
    "print('target_seq (len_seq, batch_size):', target_seq_transposed.shape)"
   ]
  },
  {
   "cell_type": "code",
   "execution_count": 3,
   "metadata": {},
   "outputs": [],
   "source": [
    "class SimpleRNN(L.Module):\n",
    "    def __init__(self, input_size, output_size, hidden_size):\n",
    "        super().__init__()\n",
    "        self.hidden_size = hidden_size\n",
    "\n",
    "        self.rnn = L.RNN(input_size=input_size, hidden_size=hidden_size)\n",
    "        self.fc = L.Linear(in_features=hidden_size, out_features=output_size)\n",
    "    \n",
    "    def forward(self, xs, h=None):\n",
    "        \"\"\"\n",
    "        Parameters\n",
    "        ----------\n",
    "        xs: bareml.Tensor (len_seq, batch_size, input_size)\n",
    "        h: bareml.Tensor (batch_size, hidden_size)\n",
    "        \n",
    "        Returns\n",
    "        -------\n",
    "        out: bareml.Tensor (len_seq*batch_size, output_size)\n",
    "        h: bareml.Tensor (batch_size, hidden_size)\n",
    "        \"\"\"\n",
    "        len_seq = xs.shape[0]\n",
    "        batch_size = xs.shape[1]\n",
    "        \n",
    "        # xp will be np (numpy) if we use cpu, cp (cupy) if we use gpu\n",
    "        xp = get_array_module(xs)\n",
    "        \n",
    "        if h is None:\n",
    "            h = self._h0(batch_size, xp)\n",
    "\n",
    "        out, h = self.rnn(xs, h)\n",
    "        \n",
    "        # Reshaping the outputs such that it can be fit into the fully connected layer\n",
    "        out = out.reshape(len_seq*batch_size, self.hidden_size)\n",
    "        out = self.fc(out)\n",
    "        \n",
    "        return out, h\n",
    "    \n",
    "    def _h0(self, batch_size, xp):\n",
    "        h = Tensor(xp.zeros((batch_size, self.hidden_size)))\n",
    "        return h"
   ]
  },
  {
   "cell_type": "code",
   "execution_count": 4,
   "metadata": {},
   "outputs": [],
   "source": [
    "device = 'cpu'\n",
    "\n",
    "# make the input / target array as tensor\n",
    "input_seq_tensor = Tensor(input_seq_onehot_transposed).to(device)\n",
    "target_seq_tensor = Tensor(target_seq_transposed).to(device)\n",
    "\n",
    "# Instantiate the model with hyperparameters\n",
    "model = SimpleRNN(input_size=dict_size, output_size=dict_size, hidden_size=12).to(device)\n",
    "\n",
    "# Define hyperparameters\n",
    "n_epochs = 100\n",
    "lr=0.01\n",
    "\n",
    "# Define Loss, Optimizer\n",
    "criterion = F.cross_entropy\n",
    "optimizer = Adam(model.parameters(), alpha=lr)"
   ]
  },
  {
   "cell_type": "code",
   "execution_count": 5,
   "metadata": {},
   "outputs": [
    {
     "name": "stdout",
     "output_type": "stream",
     "text": [
      "Epoch: 10/100............. tensor(2.2629445)\n",
      "Epoch: 20/100............. tensor(1.81998)\n",
      "Epoch: 30/100............. tensor(1.4183012)\n",
      "Epoch: 40/100............. tensor(1.0511736)\n",
      "Epoch: 50/100............. tensor(0.7408401)\n",
      "Epoch: 60/100............. tensor(0.5016372)\n",
      "Epoch: 70/100............. tensor(0.33888054)\n",
      "Epoch: 80/100............. tensor(0.23693925)\n",
      "Epoch: 90/100............. tensor(0.1745706)\n",
      "Epoch: 100/100............. tensor(0.13668409)\n"
     ]
    }
   ],
   "source": [
    "# Training Run\n",
    "for epoch in range(1, n_epochs + 1):\n",
    "    model.train()\n",
    "    optimizer.zero_grad() # Clears existing gradients from previous epoch\n",
    "    output, hidden = model(input_seq_tensor)\n",
    "    \n",
    "    #output = F.softmax(output) # outs (l_seq * n, vocab_size)\n",
    "    \n",
    "    ts = target_seq_tensor.reshape(-1)\n",
    "    loss = criterion(output, ts)\n",
    "    loss.backward() # Does backpropagation and calculates gradients\n",
    "    optimizer.step() # Updates the weights accordingly\n",
    "    \n",
    "    if epoch%10 == 0:\n",
    "        print('Epoch: {}/{}.............'.format(epoch, n_epochs), end=' ')\n",
    "        print(loss)"
   ]
  },
  {
   "cell_type": "code",
   "execution_count": 6,
   "metadata": {},
   "outputs": [],
   "source": [
    "# This function takes in the model and character as arguments and returns the next character prediction and hidden state\n",
    "def predict(model, character):\n",
    "    # One-hot encoding our input to fit into the model\n",
    "    character = np.array([[char2int[c] for c in character]])\n",
    "    character = one_hot_encode(character, dict_size, character.shape[1], 1)\n",
    "    character = Tensor(character).to(device)\n",
    "    character = character.transpose(1,0,2)\n",
    "    \n",
    "    out, hidden = model(character)\n",
    "\n",
    "    prob = F.softmax(out).data\n",
    "\n",
    "    xp = get_array_module(prob)\n",
    "    char_ind = xp.argmax(prob[-1]).item()\n",
    "    return int2char[char_ind], hidden\n",
    "\n",
    "# This function takes the desired output length and input characters as arguments, returning the produced sentence\n",
    "def sample(model, out_len, start='hey'):\n",
    "    model.eval() # eval mode\n",
    "    start = start.lower()\n",
    "    # First off, run through the starting characters\n",
    "    chars = [ch for ch in start]\n",
    "    size = out_len - len(chars)\n",
    "    # Now pass in the previous characters and get a new one\n",
    "    for ii in range(size):\n",
    "        char, h = predict(model, chars)\n",
    "        chars.append(char)\n",
    "\n",
    "    return ''.join(chars)"
   ]
  },
  {
   "cell_type": "code",
   "execution_count": 7,
   "metadata": {},
   "outputs": [
    {
     "data": {
      "text/plain": [
       "'good i am fine '"
      ]
     },
     "execution_count": 7,
     "metadata": {},
     "output_type": "execute_result"
    }
   ],
   "source": [
    "sample(model, 15, 'good')"
   ]
  },
  {
   "cell_type": "code",
   "execution_count": 8,
   "metadata": {},
   "outputs": [
    {
     "data": {
      "text/plain": [
       "'hey how are you'"
      ]
     },
     "execution_count": 8,
     "metadata": {},
     "output_type": "execute_result"
    }
   ],
   "source": [
    "sample(model, 15, 'hey')"
   ]
  },
  {
   "cell_type": "code",
   "execution_count": null,
   "metadata": {},
   "outputs": [],
   "source": []
  }
 ],
 "metadata": {
  "kernelspec": {
   "display_name": "Python 3",
   "language": "python",
   "name": "python3"
  },
  "language_info": {
   "codemirror_mode": {
    "name": "ipython",
    "version": 3
   },
   "file_extension": ".py",
   "mimetype": "text/x-python",
   "name": "python",
   "nbconvert_exporter": "python",
   "pygments_lexer": "ipython3",
   "version": "3.7.6"
  }
 },
 "nbformat": 4,
 "nbformat_minor": 4
}
