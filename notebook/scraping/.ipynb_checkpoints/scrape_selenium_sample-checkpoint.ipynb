{
 "cells": [
  {
   "cell_type": "code",
   "execution_count": 1,
   "metadata": {},
   "outputs": [
    {
     "name": "stdout",
     "output_type": "stream",
     "text": [
      "Google Chrome 83.0.4103.61 \r\n"
     ]
    }
   ],
   "source": [
    "# Check version of the installed chrome\n",
    "!google-chrome --version"
   ]
  },
  {
   "cell_type": "markdown",
   "metadata": {},
   "source": [
    "**Memo**  \n",
    "The biggest challange here was to install Chrome on the docker image based on jupyter/scipy-notebook. ([referrence](https://stackoverflow.com/questions/51515137/using-selenium-in-python-with-headless-chrome-from-a-docker-container))  \n",
    "If you're running this on your local computer, no hustle, just download chrome driver from [here](https://chromedriver.chromium.org/downloads) and set the executable path to the downloaded driver. "
   ]
  },
  {
   "cell_type": "code",
   "execution_count": 17,
   "metadata": {},
   "outputs": [],
   "source": [
    "from selenium import webdriver \n",
    "from selenium.webdriver.chrome.options import Options"
   ]
  },
  {
   "cell_type": "code",
   "execution_count": 3,
   "metadata": {},
   "outputs": [],
   "source": [
    "# Setting chrome options\n",
    "# https://stackoverflow.com/questions/56637973/how-to-fix-selenium-devtoolsactiveport-file-doesnt-exist-exception-in-python\n",
    "chrome_options = webdriver.ChromeOptions()  \n",
    "chrome_options.add_argument(\"--no-sandbox\") \n",
    "chrome_options.add_argument(\"--disable-setuid-sandbox\") \n",
    "chrome_options.add_argument(\"--remote-debugging-port=9222\")\n",
    "chrome_options.add_argument(\"--headless\") "
   ]
  },
  {
   "cell_type": "markdown",
   "metadata": {},
   "source": [
    "#### Simple Get"
   ]
  },
  {
   "cell_type": "code",
   "execution_count": 4,
   "metadata": {},
   "outputs": [],
   "source": [
    "driver = webdriver.Chrome('../../../chromedriver', options=chrome_options)"
   ]
  },
  {
   "cell_type": "code",
   "execution_count": 5,
   "metadata": {},
   "outputs": [],
   "source": [
    "driver.get(\"https://google.com/\") "
   ]
  },
  {
   "cell_type": "code",
   "execution_count": 7,
   "metadata": {},
   "outputs": [
    {
     "name": "stdout",
     "output_type": "stream",
     "text": [
      "b'<html itemscope=\"\" itemtype=\"http://schema.org/WebPage\" lang=\"en-IE\"><head><meta charset=\"UTF-8\"><me'\n"
     ]
    }
   ],
   "source": [
    "print(driver.page_source.encode(\"utf-8\")[:100])"
   ]
  },
  {
   "cell_type": "code",
   "execution_count": 8,
   "metadata": {},
   "outputs": [],
   "source": [
    "driver.quit()"
   ]
  },
  {
   "cell_type": "markdown",
   "metadata": {},
   "source": [
    "#### Something more\n",
    "\n",
    "Let's get name & lat/lng of ALDI in Dublin (Top 5 stores only here)"
   ]
  },
  {
   "cell_type": "code",
   "execution_count": 18,
   "metadata": {},
   "outputs": [],
   "source": [
    "import time\n",
    "from selenium.webdriver.common.action_chains import ActionChains"
   ]
  },
  {
   "cell_type": "code",
   "execution_count": 9,
   "metadata": {},
   "outputs": [],
   "source": [
    "driver = webdriver.Chrome('../../../chromedriver', options=chrome_options)"
   ]
  },
  {
   "cell_type": "code",
   "execution_count": 10,
   "metadata": {},
   "outputs": [],
   "source": [
    "url = 'https://www.aldi.ie/store-finder'\n",
    "driver.get(url)"
   ]
  },
  {
   "cell_type": "code",
   "execution_count": 11,
   "metadata": {},
   "outputs": [],
   "source": [
    "input_location = driver.find_element_by_css_selector(\"input#store-finder-input\")\n",
    "input_location.clear()\n",
    "input_location.send_keys(\"dublin\")\n",
    "driver.find_element_by_css_selector(\"button.store-finder__search-submit\").click()"
   ]
  },
  {
   "cell_type": "code",
   "execution_count": 12,
   "metadata": {},
   "outputs": [],
   "source": [
    "# dealing with the cookie related pop up thing. \n",
    "try:\n",
    "    driver.find_element_by_css_selector(\"button.notification__cta\").click()\n",
    "except:\n",
    "    print('no button for cookie confirmation')"
   ]
  },
  {
   "cell_type": "code",
   "execution_count": 13,
   "metadata": {},
   "outputs": [],
   "source": [
    "store_list = driver.find_elements_by_class_name(\"store-finder__result\")"
   ]
  },
  {
   "cell_type": "code",
   "execution_count": 19,
   "metadata": {},
   "outputs": [
    {
     "name": "stdout",
     "output_type": "stream",
     "text": [
      "{'name': 'ALDI - 38-41 Parnell St', 'lat': '53.35028', 'lng': '-6.26599'}\n",
      "{'name': 'ALDI - East Wall Road', 'lat': '53.35729', 'lng': '-6.2321'}\n",
      "{'name': 'ALDI - Lower Rathmines Road', 'lat': '53.32439', 'lng': '-6.26461'}\n",
      "{'name': 'ALDI - 18 Hamilton Walk', 'lat': '53.3764607', 'lng': '-6.3112548'}\n",
      "{'name': 'ALDI - Terenure Road East', 'lat': '53.310258', 'lng': '-6.282409'}\n"
     ]
    }
   ],
   "source": [
    "results = []\n",
    "for store in store_list:\n",
    "    store_data = {}\n",
    "    store_data['name'] = store.find_element_by_class_name(\"store-finder__store-name\").text\n",
    "\n",
    "    store_direction = store.find_element_by_css_selector(\"a.js-store-finder-show-link\")\n",
    "    ActionChains(driver).move_to_element(store_direction).click().perform()\n",
    "\n",
    "    time.sleep(10)\n",
    "    latlng = driver.find_elements_by_css_selector(\"div.store-finder__distance a\")[0].get_attribute('href')\\\n",
    "    .replace('https://www.google.com/maps/dir/Current+Location/','').split(',')\n",
    "    store_data['lat'] = latlng[0]\n",
    "    store_data['lng'] = latlng[1]\n",
    "    results.append(store_data)\n",
    "    print(store_data)"
   ]
  },
  {
   "cell_type": "code",
   "execution_count": null,
   "metadata": {},
   "outputs": [],
   "source": []
  }
 ],
 "metadata": {
  "kernelspec": {
   "display_name": "Python 3",
   "language": "python",
   "name": "python3"
  },
  "language_info": {
   "codemirror_mode": {
    "name": "ipython",
    "version": 3
   },
   "file_extension": ".py",
   "mimetype": "text/x-python",
   "name": "python",
   "nbconvert_exporter": "python",
   "pygments_lexer": "ipython3",
   "version": "3.7.6"
  }
 },
 "nbformat": 4,
 "nbformat_minor": 2
}
