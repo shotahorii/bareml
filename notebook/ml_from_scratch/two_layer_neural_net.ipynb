{
 "cells": [
  {
   "cell_type": "markdown",
   "metadata": {},
   "source": [
    "## 2-Layer neural network"
   ]
  },
  {
   "cell_type": "code",
   "execution_count": 19,
   "metadata": {},
   "outputs": [],
   "source": [
    "import numpy as np\n",
    "import pandas as pd\n",
    "from scipy.special import softmax\n",
    "from sklearn.model_selection import train_test_split\n",
    "import matplotlib.pyplot as plt\n",
    "import warnings\n",
    "warnings.filterwarnings('ignore')"
   ]
  },
  {
   "cell_type": "code",
   "execution_count": 20,
   "metadata": {},
   "outputs": [],
   "source": [
    "# basic\n",
    "class TwoLayersNeuralNet:\n",
    "    \n",
    "    def __init__(self, n_in, n_hidden, n_out):\n",
    "        # set class params\n",
    "        self.n_in = n_in\n",
    "        self.n_hidden = n_hidden\n",
    "        self.n_out = n_out\n",
    "        self.losses = []\n",
    "        \n",
    "        # init weight and bias\n",
    "        self.W2 = np.random.randn(n_hidden,n_in) * 0.5\n",
    "        self.b2 = np.zeros((n_hidden,1))\n",
    "        self.W3 = np.random.randn(n_out,n_hidden) * 0.5\n",
    "        self.b3 = np.zeros((n_out,1))\n",
    "        \n",
    "    def train(\n",
    "        self, \n",
    "        X, \n",
    "        Y, \n",
    "        n_iteration, \n",
    "        learning_rate, \n",
    "        n_batch=None):\n",
    "        \n",
    "        for i in range(n_iteration):\n",
    "            # define samples to use in this epoch's training\n",
    "            batch_X, batch_Y = self._batch(X, Y, n_batch)\n",
    "            \n",
    "            # forward propagation\n",
    "            U2, Z2, U3, Z3 = self._forward(batch_X)\n",
    "            \n",
    "            # compute error\n",
    "            loss = self._loss(Z3, batch_Y)\n",
    "            self.losses.append(loss)\n",
    "            \n",
    "            # backward propagation\n",
    "            dW2, db2, dW3, db3 = self._backward(batch_X, batch_Y, Z2, Z3)\n",
    "            \n",
    "            # update weights and biases\n",
    "            self._update(dW2, db2, dW3, db3, learning_rate)\n",
    "            \n",
    "            # print progress\n",
    "            if i % 100 == 0:\n",
    "                print (\"Loss after iteration %i: %f\" %(i, loss))\n",
    "                \n",
    "    # prediction\n",
    "    def predict(self, X):\n",
    "        N = X.shape[1] # number of samples to predict\n",
    "        \n",
    "        # forward propagation\n",
    "        U2, Z2, U3, Z3 = self._forward(X)\n",
    "        \n",
    "        # empty array to fill the prediction\n",
    "        Y_pred = np.zeros((self.n_out, N))\n",
    "        \n",
    "        # prediction\n",
    "        max_indices = np.argmax(Z3, axis = 0)\n",
    "        \n",
    "        for i in range(N):\n",
    "            Y_pred[max_indices[i],i] = 1\n",
    "        \n",
    "        return Y_pred\n",
    "                \n",
    "    # ---------- internal functions ---------- \n",
    "            \n",
    "    def _batch(self, X, Y, n_batch):\n",
    "        if n_batch is None:\n",
    "            return X,Y\n",
    "        else:\n",
    "            batch_indices = np.random.choice(range(X.shape[1]),n_batch,replace=False)\n",
    "            return X[:,batch_indices], Y[:,batch_indices]\n",
    "    \n",
    "    def _forward(self, X):\n",
    "        # hidden layer\n",
    "        U2 = np.dot(self.W2,X) + self.b2\n",
    "        Z2 = np.tanh(U2)\n",
    "        \n",
    "        # output layer\n",
    "        U3 = np.dot(self.W3,Z2) + self.b3\n",
    "        Z3 = softmax(U3, axis=0)\n",
    "        \n",
    "        return U2, Z2, U3, Z3\n",
    "    \n",
    "    def _loss(self, Z3, Y):\n",
    "        N = Y.shape[1] # number of samples used in this training\n",
    "        \n",
    "        cross_entropy = np.multiply(np.log(Z3),Y)\n",
    "        loss = -np.sum(cross_entropy)/N\n",
    "        \n",
    "        return loss\n",
    "    \n",
    "    def _backward(self, X, Y, Z2, Z3):\n",
    "        N = X.shape[1] # number of samples used in this training\n",
    "        \n",
    "        # output layer\n",
    "        dU3 = Z3 - Y\n",
    "        dW3 = np.dot(dU3,Z2.T)/N\n",
    "        db3 = np.sum(dU3,axis =1,keepdims=True)/N\n",
    "        \n",
    "        # hidden layer\n",
    "        dZ2 = 1 - np.power(Z2, 2) # (tanh(u))' = 1 - tanh^2(u)\n",
    "        dU2 = np.dot(self.W3.T,dU3)*dZ2\n",
    "        dW2 = np.dot(dU2,X.T)/N\n",
    "        db2 = np.sum(dU2,axis =1,keepdims=True)/N\n",
    "        \n",
    "        return dW2, db2, dW3, db3\n",
    "    \n",
    "    def _update(self, dW2, db2, dW3, db3, learning_rate):\n",
    "        # hidden layer\n",
    "        self.W2 = self.W2 - learning_rate*dW2\n",
    "        self.b2 = self.b2 - learning_rate*db2\n",
    "        \n",
    "        # output layer\n",
    "        self.W3 = self.W3 - learning_rate*dW3\n",
    "        self.b3 = self.b3 - learning_rate*db3\n",
    "    "
   ]
  },
  {
   "cell_type": "code",
   "execution_count": 37,
   "metadata": {},
   "outputs": [],
   "source": [
    "# with regularization and momentum\n",
    "class TwoLayersNeuralNetRegularized(TwoLayersNeuralNet):\n",
    "    \n",
    "    def __init__(self, n_in, n_hidden, n_out):\n",
    "        super().__init__(n_in, n_hidden, n_out)\n",
    "        \n",
    "        # for momentum\n",
    "        self.delta_W2 = 0\n",
    "        self.delta_b2 = 0\n",
    "        self.delta_W3 = 0\n",
    "        self.delta_b3 = 0\n",
    "        \n",
    "    def train(\n",
    "        self, \n",
    "        X, \n",
    "        Y, \n",
    "        n_iteration, \n",
    "        learning_rate,\n",
    "        lambda_l2=0,\n",
    "        momentum=0,\n",
    "        n_batch=None):\n",
    "        \n",
    "        for i in range(n_iteration):\n",
    "            # define samples to use in this epoch's training\n",
    "            batch_X, batch_Y = self._batch(X, Y, n_batch)\n",
    "            \n",
    "            # forward propagation\n",
    "            U2, Z2, U3, Z3 = self._forward(batch_X)\n",
    "            \n",
    "            # compute error\n",
    "            loss = self._loss(Z3, batch_Y, lambda_l2)\n",
    "            self.losses.append(loss)\n",
    "            \n",
    "            # backward propagation\n",
    "            dW2, db2, dW3, db3 = self._backward(batch_X, batch_Y, Z2, Z3)\n",
    "            \n",
    "            # update weights and biases\n",
    "            self._update(dW2, db2, dW3, db3, learning_rate, lambda_l2, momentum)\n",
    "            \n",
    "            # print progress\n",
    "            if i % 100 == 0:\n",
    "                print (\"Loss after iteration %i: %f\" %(i, loss))\n",
    "                \n",
    "    # ---------- internal functions ---------- \n",
    "    \n",
    "    def _loss(self, Z3, Y, lambda_l2):\n",
    "        N = Y.shape[1] # number of samples used in this training\n",
    "        \n",
    "        cross_entropy = np.multiply(np.log(Z3),Y)\n",
    "        loss = -np.sum(cross_entropy)/N + (lambda_l2/2.0)*((self.W2*self.W2).sum()+(self.W3*self.W3).sum())\n",
    "        \n",
    "        return loss\n",
    "    \n",
    "    def _update(self, dW2, db2, dW3, db3, learning_rate, lambda_l2, momentum):\n",
    "        # hidden layer\n",
    "        self.delta_W2 = - learning_rate * (dW2 + lambda_l2*self.W2) + momentum * self.delta_W2\n",
    "        self.W2 = self.W2 + self.delta_W2\n",
    "        \n",
    "        self.delta_b2 = - learning_rate * db2 + momentum * self.delta_b2\n",
    "        self.b2 = self.b2 + self.delta_b2\n",
    "        \n",
    "        # output layer\n",
    "        self.delta_W3 = - learning_rate * (dW3 + lambda_l2*self.W3) + momentum * self.delta_W3\n",
    "        self.W3 = self.W3 + self.delta_W3\n",
    "        \n",
    "        self.delta_b3 = - learning_rate * db3 + momentum * self.delta_b3\n",
    "        self.b3 = self.b3 + self.delta_b3\n",
    "    "
   ]
  },
  {
   "cell_type": "markdown",
   "metadata": {},
   "source": [
    "#### Run"
   ]
  },
  {
   "cell_type": "code",
   "execution_count": 28,
   "metadata": {},
   "outputs": [
    {
     "name": "stdout",
     "output_type": "stream",
     "text": [
      "(2062, 64, 64)\n",
      "(2062, 10)\n"
     ]
    }
   ],
   "source": [
    "# load data\n",
    "X_raw = np.load('../../input/Sign-language-digits-dataset/X.npy')\n",
    "Y_raw = np.load('../../input/Sign-language-digits-dataset/Y.npy')\n",
    "\n",
    "# check data shape\n",
    "print(X_raw.shape)\n",
    "print(Y_raw.shape)"
   ]
  },
  {
   "cell_type": "code",
   "execution_count": 27,
   "metadata": {},
   "outputs": [
    {
     "data": {
      "text/plain": [
       "(-0.5, 63.5, 63.5, -0.5)"
      ]
     },
     "execution_count": 27,
     "metadata": {},
     "output_type": "execute_result"
    },
    {
     "data": {
      "image/png": "[encoded data removed]",
      "text/plain": [
       "<Figure size 432x288 with 3 Axes>"
      ]
     },
     "metadata": {
      "needs_background": "light"
     },
     "output_type": "display_data"
    }
   ],
   "source": [
    "# see data samples\n",
    "img_size = 64\n",
    "plt.subplot(1, 3, 1)\n",
    "plt.imshow(X_raw[260].reshape(img_size, img_size))\n",
    "plt.axis('off')\n",
    "plt.subplot(1, 3, 2)\n",
    "plt.imshow(X_raw[900].reshape(img_size, img_size))\n",
    "plt.axis('off')\n",
    "plt.subplot(1, 3, 3)\n",
    "plt.imshow(X_raw[1800].reshape(img_size, img_size))\n",
    "plt.axis('off')"
   ]
  },
  {
   "cell_type": "code",
   "execution_count": 31,
   "metadata": {},
   "outputs": [
    {
     "name": "stdout",
     "output_type": "stream",
     "text": [
      "X train raw (1752, 64, 64)\n",
      "X test raw (310, 64, 64)\n"
     ]
    }
   ],
   "source": [
    "# split data into training & test data\n",
    "X_train_raw, X_test_raw, Y_train_raw, Y_test_raw = train_test_split(X_raw, Y_raw, test_size=0.15, random_state=42)\n",
    "number_of_train = X_train_raw.shape[0]\n",
    "number_of_test = X_test_raw.shape[0]\n",
    "\n",
    "# check the data shape\n",
    "print(\"X train raw\",X_train_raw.shape)\n",
    "print(\"X test raw\",X_test_raw.shape)"
   ]
  },
  {
   "cell_type": "code",
   "execution_count": 33,
   "metadata": {},
   "outputs": [
    {
     "name": "stdout",
     "output_type": "stream",
     "text": [
      "X train flatten (1752, 4096)\n",
      "X test flatten (310, 4096)\n"
     ]
    }
   ],
   "source": [
    "# flatten the data (3 dim -> 2 dim)\n",
    "X_train_flatten = X_train_raw.reshape(number_of_train,X_train_raw.shape[1]*X_train_raw.shape[2])\n",
    "X_test_flatten = X_test_raw.reshape(number_of_test,X_test_raw.shape[1]*X_test_raw.shape[2])\n",
    "\n",
    "# check the data shape\n",
    "print(\"X train flatten\",X_train_flatten.shape)\n",
    "print(\"X test flatten\",X_test_flatten.shape)"
   ]
  },
  {
   "cell_type": "code",
   "execution_count": 34,
   "metadata": {},
   "outputs": [
    {
     "name": "stdout",
     "output_type": "stream",
     "text": [
      "x train:  (4096, 1752)\n",
      "x test:  (4096, 310)\n",
      "y train:  (10, 1752)\n",
      "y test:  (10, 310)\n"
     ]
    }
   ],
   "source": [
    "# transpose to fit the model input\n",
    "X_train = X_train_flatten.T\n",
    "X_test = X_test_flatten.T\n",
    "Y_train = Y_train_raw.T\n",
    "Y_test = Y_test_raw.T\n",
    "\n",
    "# check the final input data shape\n",
    "print(\"x train: \",X_train.shape)\n",
    "print(\"x test: \",X_test.shape)\n",
    "print(\"y train: \",Y_train.shape)\n",
    "print(\"y test: \",Y_test.shape)"
   ]
  },
  {
   "cell_type": "code",
   "execution_count": 38,
   "metadata": {},
   "outputs": [],
   "source": [
    "NN = TwoLayersNeuralNetRegularized(4096, 100, 10)"
   ]
  },
  {
   "cell_type": "code",
   "execution_count": 39,
   "metadata": {
    "collapsed": true
   },
   "outputs": [
    {
     "name": "stdout",
     "output_type": "stream",
     "text": [
      "Loss after iteration 0: 59.362790\n",
      "Loss after iteration 100: 53.259267\n",
      "Loss after iteration 200: 52.787609\n",
      "Loss after iteration 300: 52.297988\n",
      "Loss after iteration 400: 51.824421\n",
      "Loss after iteration 500: 51.346298\n",
      "Loss after iteration 600: 50.859914\n",
      "Loss after iteration 700: 50.400994\n",
      "Loss after iteration 800: 49.928219\n",
      "Loss after iteration 900: 49.424956\n",
      "Loss after iteration 1000: 49.031093\n",
      "Loss after iteration 1100: 48.557872\n",
      "Loss after iteration 1200: 48.186978\n",
      "Loss after iteration 1300: 47.749487\n",
      "Loss after iteration 1400: 47.292835\n",
      "Loss after iteration 1500: 46.952813\n",
      "Loss after iteration 1600: 46.544128\n",
      "Loss after iteration 1700: 46.130960\n",
      "Loss after iteration 1800: 45.698496\n",
      "Loss after iteration 1900: 45.386702\n",
      "Loss after iteration 2000: 44.943573\n",
      "Loss after iteration 2100: 44.604689\n",
      "Loss after iteration 2200: 44.287809\n",
      "Loss after iteration 2300: 43.887351\n",
      "Loss after iteration 2400: 43.562202\n",
      "Loss after iteration 2500: 43.121496\n",
      "Loss after iteration 2600: 42.741526\n",
      "Loss after iteration 2700: 42.371971\n",
      "Loss after iteration 2800: 42.150587\n",
      "Loss after iteration 2900: 41.748217\n",
      "Loss after iteration 3000: 41.359364\n",
      "Loss after iteration 3100: 41.069045\n",
      "Loss after iteration 3200: 40.713300\n",
      "Loss after iteration 3300: 40.387283\n",
      "Loss after iteration 3400: 40.038135\n",
      "Loss after iteration 3500: 39.711259\n",
      "Loss after iteration 3600: 39.422881\n",
      "Loss after iteration 3700: 39.105981\n",
      "Loss after iteration 3800: 38.795507\n",
      "Loss after iteration 3900: 38.443388\n",
      "Loss after iteration 4000: 38.114402\n",
      "Loss after iteration 4100: 37.775643\n",
      "Loss after iteration 4200: 37.448647\n",
      "Loss after iteration 4300: 37.156726\n",
      "Loss after iteration 4400: 36.898636\n",
      "Loss after iteration 4500: 36.548540\n",
      "Loss after iteration 4600: 36.246709\n",
      "Loss after iteration 4700: 35.978629\n",
      "Loss after iteration 4800: 35.680764\n",
      "Loss after iteration 4900: 35.400819\n",
      "Loss after iteration 5000: 35.125373\n",
      "Loss after iteration 5100: 34.845283\n",
      "Loss after iteration 5200: 34.516131\n",
      "Loss after iteration 5300: 34.240916\n",
      "Loss after iteration 5400: 34.032911\n",
      "Loss after iteration 5500: 33.706084\n",
      "Loss after iteration 5600: 33.447124\n",
      "Loss after iteration 5700: 33.188626\n",
      "Loss after iteration 5800: 32.894023\n",
      "Loss after iteration 5900: 32.627193\n",
      "Loss after iteration 6000: 32.404466\n",
      "Loss after iteration 6100: 32.107878\n",
      "Loss after iteration 6200: 31.875992\n",
      "Loss after iteration 6300: 31.561702\n",
      "Loss after iteration 6400: 31.372692\n",
      "Loss after iteration 6500: 31.071427\n",
      "Loss after iteration 6600: 30.847284\n",
      "Loss after iteration 6700: 30.611059\n",
      "Loss after iteration 6800: 30.346862\n",
      "Loss after iteration 6900: 30.127905\n",
      "Loss after iteration 7000: 29.848564\n",
      "Loss after iteration 7100: 29.581749\n",
      "Loss after iteration 7200: 29.358769\n",
      "Loss after iteration 7300: 29.136007\n",
      "Loss after iteration 7400: 28.876861\n",
      "Loss after iteration 7500: 28.642238\n",
      "Loss after iteration 7600: 28.445922\n",
      "Loss after iteration 7700: 28.237745\n",
      "Loss after iteration 7800: 27.987179\n",
      "Loss after iteration 7900: 27.743321\n",
      "Loss after iteration 8000: 27.584426\n",
      "Loss after iteration 8100: 27.275330\n",
      "Loss after iteration 8200: 27.071567\n",
      "Loss after iteration 8300: 26.892042\n",
      "Loss after iteration 8400: 26.651207\n",
      "Loss after iteration 8500: 26.493311\n",
      "Loss after iteration 8600: 26.255554\n",
      "Loss after iteration 8700: 26.014246\n",
      "Loss after iteration 8800: 25.865508\n",
      "Loss after iteration 8900: 25.623028\n",
      "Loss after iteration 9000: 25.399432\n",
      "Loss after iteration 9100: 25.209325\n",
      "Loss after iteration 9200: 25.020948\n",
      "Loss after iteration 9300: 24.781831\n",
      "Loss after iteration 9400: 24.633231\n",
      "Loss after iteration 9500: 24.386909\n",
      "Loss after iteration 9600: 24.236087\n",
      "Loss after iteration 9700: 24.013963\n",
      "Loss after iteration 9800: 23.857081\n",
      "Loss after iteration 9900: 23.630374\n"
     ]
    }
   ],
   "source": [
    "NN.train(X_train, Y_train, n_iteration=10000, learning_rate=0.02, lambda_l2=0.001,\n",
    "        momentum=0.5, n_batch=500)"
   ]
  },
  {
   "cell_type": "code",
   "execution_count": 40,
   "metadata": {},
   "outputs": [
    {
     "data": {
      "text/plain": [
       "[<matplotlib.lines.Line2D at 0x7f57a9eb1e10>]"
      ]
     },
     "execution_count": 40,
     "metadata": {},
     "output_type": "execute_result"
    },
    {
     "data": {
      "image/png": "[encoded data removed]",
      "text/plain": [
       "<Figure size 432x288 with 1 Axes>"
      ]
     },
     "metadata": {
      "needs_background": "light"
     },
     "output_type": "display_data"
    }
   ],
   "source": [
    "plt.plot(NN.losses)"
   ]
  },
  {
   "cell_type": "code",
   "execution_count": 41,
   "metadata": {},
   "outputs": [
    {
     "name": "stdout",
     "output_type": "stream",
     "text": [
      "train accuracy: 94.46347031963471 %\n",
      "test accuracy: 64.19354838709677 %\n"
     ]
    }
   ],
   "source": [
    "# predict\n",
    "Y_pred_test = NN.predict(X_test)\n",
    "Y_pred_train = NN.predict(X_train)\n",
    "\n",
    "print(\"train accuracy: {} %\".format(100 - np.mean(np.sum(abs(Y_pred_train - Y_train),axis=0)/2) * 100))\n",
    "print(\"test accuracy: {} %\".format(100 - np.mean(np.sum(abs(Y_pred_test - Y_test),axis=0)/2) * 100))"
   ]
  },
  {
   "cell_type": "code",
   "execution_count": null,
   "metadata": {},
   "outputs": [],
   "source": []
  }
 ],
 "metadata": {
  "kernelspec": {
   "display_name": "Python 3",
   "language": "python",
   "name": "python3"
  },
  "language_info": {
   "codemirror_mode": {
    "name": "ipython",
    "version": 3
   },
   "file_extension": ".py",
   "mimetype": "text/x-python",
   "name": "python",
   "nbconvert_exporter": "python",
   "pygments_lexer": "ipython3",
   "version": "3.7.6"
  }
 },
 "nbformat": 4,
 "nbformat_minor": 2
}
