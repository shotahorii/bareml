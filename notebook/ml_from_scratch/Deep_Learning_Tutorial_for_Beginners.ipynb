{
 "cells": [
  {
   "cell_type": "markdown",
   "metadata": {},
   "source": [
    "## Deep Learning Tutorial for Beginners\n",
    "Code from: https://www.kaggle.com/kanncaa1/deep-learning-tutorial-for-beginners"
   ]
  },
  {
   "cell_type": "code",
   "execution_count": 1,
   "metadata": {},
   "outputs": [],
   "source": [
    "import numpy as np\n",
    "import pandas as pd\n",
    "import matplotlib.pyplot as plt\n",
    "import warnings\n",
    "warnings.filterwarnings('ignore')"
   ]
  },
  {
   "cell_type": "code",
   "execution_count": 2,
   "metadata": {},
   "outputs": [],
   "source": [
    "# load data\n",
    "x_l = np.load('./data/Sign-language-digits-dataset/X.npy')\n",
    "Y_l = np.load('./data/Sign-language-digits-dataset/Y.npy')"
   ]
  },
  {
   "cell_type": "code",
   "execution_count": 6,
   "metadata": {},
   "outputs": [
    {
     "name": "stdout",
     "output_type": "stream",
     "text": [
      "(2062, 64, 64)\n",
      "(2062, 10)\n"
     ]
    }
   ],
   "source": [
    "print(x_l.shape)\n",
    "print(Y_l.shape)"
   ]
  },
  {
   "cell_type": "code",
   "execution_count": 10,
   "metadata": {},
   "outputs": [
    {
     "data": {
      "text/plain": [
       "(-0.5, 63.5, 63.5, -0.5)"
      ]
     },
     "execution_count": 10,
     "metadata": {},
     "output_type": "execute_result"
    },
    {
     "data": {
      "image/png": "[encoded data removed]",
      "text/plain": [
       "<Figure size 432x288 with 2 Axes>"
      ]
     },
     "metadata": {
      "needs_background": "light"
     },
     "output_type": "display_data"
    }
   ],
   "source": [
    "img_size = 64\n",
    "plt.subplot(1, 2, 1)\n",
    "plt.imshow(x_l[260].reshape(img_size, img_size))\n",
    "plt.axis('off')\n",
    "plt.subplot(1, 2, 2)\n",
    "plt.imshow(x_l[900].reshape(img_size, img_size))\n",
    "plt.axis('off')"
   ]
  },
  {
   "cell_type": "code",
   "execution_count": 22,
   "metadata": {},
   "outputs": [
    {
     "name": "stdout",
     "output_type": "stream",
     "text": [
      "X shape:  (410, 64, 64)\n",
      "Y shape:  (410, 1)\n"
     ]
    }
   ],
   "source": [
    "# Join a sequence of arrays along an row axis.\n",
    "# from 0 to 204 is zero sign and from 205 to 410 is one sign\n",
    "X = np.concatenate((x_l[204:409], x_l[822:1027] ), axis=0) \n",
    "z = np.zeros(205)\n",
    "o = np.ones(205)\n",
    "Y = np.concatenate((z, o), axis=0).reshape(X.shape[0],1)\n",
    "print(\"X shape: \" , X.shape)\n",
    "print(\"Y shape: \" , Y.shape)"
   ]
  },
  {
   "cell_type": "code",
   "execution_count": 26,
   "metadata": {},
   "outputs": [],
   "source": [
    "# Then lets create x_train, y_train, x_test, y_test arrays\n",
    "from sklearn.model_selection import train_test_split\n",
    "X_train, X_test, Y_train, Y_test = train_test_split(X, Y, test_size=0.15, random_state=42)\n",
    "number_of_train = X_train.shape[0]\n",
    "number_of_test = X_test.shape[0]"
   ]
  },
  {
   "cell_type": "code",
   "execution_count": 34,
   "metadata": {},
   "outputs": [
    {
     "name": "stdout",
     "output_type": "stream",
     "text": [
      "(348, 64, 64)\n",
      "(62, 64, 64)\n",
      "X train flatten (348, 4096)\n",
      "X test flatten (62, 4096)\n"
     ]
    }
   ],
   "source": [
    "print(X_train.shape)\n",
    "print(X_test.shape)\n",
    "X_train_flatten = X_train.reshape(number_of_train,X_train.shape[1]*X_train.shape[2])\n",
    "X_test_flatten = X_test .reshape(number_of_test,X_test.shape[1]*X_test.shape[2])\n",
    "print(\"X train flatten\",X_train_flatten.shape)\n",
    "print(\"X test flatten\",X_test_flatten.shape)"
   ]
  },
  {
   "cell_type": "code",
   "execution_count": 37,
   "metadata": {},
   "outputs": [
    {
     "name": "stdout",
     "output_type": "stream",
     "text": [
      "x train:  (4096, 348)\n",
      "x test:  (4096, 62)\n",
      "y train:  (1, 348)\n",
      "y test:  (1, 62)\n"
     ]
    }
   ],
   "source": [
    "x_train = X_train_flatten.T\n",
    "x_test = X_test_flatten.T\n",
    "y_train = Y_train.T\n",
    "y_test = Y_test.T\n",
    "print(\"x train: \",x_train.shape)\n",
    "print(\"x test: \",x_test.shape)\n",
    "print(\"y train: \",y_train.shape)\n",
    "print(\"y test: \",y_test.shape)"
   ]
  },
  {
   "cell_type": "markdown",
   "metadata": {},
   "source": [
    "$\n",
    "X_{train} = \\begin{bmatrix}\n",
    "x_1^{(1)} & x_1^{(2)} & \\cdots & x_1^{(348)} \\\\\n",
    "x_2^{(1)} & x_2^{(2)} & \\cdots & x_2^{(348)} \\\\\n",
    "\\vdots & \\vdots & \\ddots & \\vdots \\\\\n",
    "x_{4096}^{(1)} & x_{4096}^{(2)} & \\cdots & x_{4096}^{(348)} \\\\\n",
    "\\end{bmatrix}\n",
    "$\n",
    "$\n",
    "\\,\\,\\,\\,\\, {\\bf y}_{train} = \n",
    "\\begin{bmatrix}\n",
    "y^{(1)} & y^{(2)} & \\cdots & y^{(348)} \\\\\n",
    "\\end{bmatrix}\n",
    "$"
   ]
  },
  {
   "cell_type": "code",
   "execution_count": 39,
   "metadata": {},
   "outputs": [],
   "source": [
    "def initialize_weights_and_bias(dimension):\n",
    "    w = np.full((dimension,1),0.01)\n",
    "    b = 0.0\n",
    "    return w, b"
   ]
  },
  {
   "cell_type": "markdown",
   "metadata": {},
   "source": [
    "$\n",
    "{\\bf w} = \\begin{bmatrix}\n",
    "w_1 \\\\\n",
    "w_2 \\\\\n",
    "\\vdots \\\\\n",
    "w_{4096} \\\\\n",
    "\\end{bmatrix}\n",
    "$\n",
    "\n",
    "Thus, we can calculate $z$ for all train data in a single matrix computation.\n",
    "\n",
    "$\n",
    "{\\bf z} = {\\bf w}^T X_{train} + b = \n",
    "\\begin{bmatrix}\n",
    "w_1 & w_2 & \\cdots & w_{4096} \\\\\n",
    "\\end{bmatrix}\n",
    "\\begin{bmatrix}\n",
    "x_1^{(1)} & x_1^{(2)} & \\cdots & x_1^{(348)} \\\\\n",
    "x_2^{(1)} & x_2^{(2)} & \\cdots & x_2^{(348)} \\\\\n",
    "\\vdots & \\vdots & \\ddots & \\vdots \\\\\n",
    "x_{4096}^{(1)} & x_{4096}^{(2)} & \\cdots & x_{4096}^{(348)} \\\\\n",
    "\\end{bmatrix} + b\n",
    "$\n",
    "\n",
    "$\n",
    "= \\begin{bmatrix}\n",
    "w_1x_1^{(1)} + w_2x_2^{(1)} + \\cdots + w_{4096}x_{4096}^{(1)} + b &\n",
    "w_1x_1^{(2)} + w_2x_2^{(2)} + \\cdots + w_{4096}x_{4096}^{(2)} + b &\n",
    "\\cdots &\n",
    "w_1x_1^{(348)} + w_2x_2^{(348)} + \\cdots + w_{4096}x_{4096}^{(348)} + b\n",
    "\\end{bmatrix}\n",
    "$"
   ]
  },
  {
   "cell_type": "code",
   "execution_count": 77,
   "metadata": {},
   "outputs": [
    {
     "name": "stdout",
     "output_type": "stream",
     "text": [
      "z shape: (1, 348)\n"
     ]
    }
   ],
   "source": [
    "# check \n",
    "w,b = initialize_weights_and_bias(4096)\n",
    "z = np.dot(w.T,x_train) + b\n",
    "print(\"z shape:\",z.shape)"
   ]
  },
  {
   "cell_type": "code",
   "execution_count": 78,
   "metadata": {},
   "outputs": [],
   "source": [
    "# calculation of z\n",
    "#z = np.dot(w.T,x_train)+b\n",
    "def sigmoid(z):\n",
    "    y_head = 1/(1+np.exp(-z)) # with np, this calc can be applied to array.\n",
    "    return y_head"
   ]
  },
  {
   "cell_type": "code",
   "execution_count": 79,
   "metadata": {},
   "outputs": [
    {
     "name": "stdout",
     "output_type": "stream",
     "text": [
      "y_head shape: (1, 348)\n"
     ]
    }
   ],
   "source": [
    "# check\n",
    "y_head = sigmoid(z)\n",
    "print(\"y_head shape:\",y_head.shape)"
   ]
  },
  {
   "cell_type": "code",
   "execution_count": 138,
   "metadata": {},
   "outputs": [],
   "source": [
    "def cost_func(y_head,y_train):\n",
    "    # array*array is NOT a dot product. Just element by element multiplication.\n",
    "    #     np.array([[1,2]])*np.array([[10,100]]) -> array([[  10,  200]])\n",
    "    #     np.dot(np.array([[1,2]]).T,np.array([[10,100]])) -> array([[ 10, 100],[ 20, 200]])\n",
    "    loss = -np.multiply(y_train,np.log(y_head))-np.multiply((1-y_train),np.log(1-y_head))\n",
    "    cost = (np.sum(loss))/loss.shape[1]\n",
    "    return cost"
   ]
  },
  {
   "cell_type": "markdown",
   "metadata": {},
   "source": [
    "$$J = -\\frac{1}{m}\\sum_{i=1}^m \\{ y^{(i)} log(h_w(x^{(i)})) + (1-y^{(i)})log(1-h_w(x^{(i)})) \\}$$"
   ]
  },
  {
   "cell_type": "code",
   "execution_count": 139,
   "metadata": {},
   "outputs": [],
   "source": [
    "# Forward propagation steps:\n",
    "# find z = w.T*x+b\n",
    "# y_head = sigmoid(z)\n",
    "# loss(error) = loss(y,y_head)\n",
    "# cost = sum(loss)\n",
    "def forward_propagation(w,b,x_train,y_train):\n",
    "    z = np.dot(w.T,x_train) + b\n",
    "    y_head = sigmoid(z) # probabilistic 0-1\n",
    "    cost = cost_func(y_head,y_train)\n",
    "    return cost "
   ]
  },
  {
   "cell_type": "code",
   "execution_count": 140,
   "metadata": {},
   "outputs": [],
   "source": [
    "# In backward propagation we will use y_head that found in forward progation\n",
    "# Therefore instead of writing backward propagation method, lets combine forward propagation and backward propagation\n",
    "def forward_backward_propagation(w,b,x_train,y_train):\n",
    "    # forward propagation\n",
    "    z = np.dot(w.T,x_train) + b\n",
    "    y_head = sigmoid(z)\n",
    "    cost = cost_func(y_head,y_train)\n",
    "    # backward propagation\n",
    "    derivative_weight = (np.dot(x_train,((y_head-y_train).T)))/x_train.shape[1] # x_train.shape[1]  is for scaling\n",
    "    derivative_bias = np.sum(y_head-y_train)/x_train.shape[1]                 # x_train.shape[1]  is for scaling\n",
    "    gradients = {\"derivative_weight\": derivative_weight,\"derivative_bias\": derivative_bias}\n",
    "    return cost,gradients"
   ]
  },
  {
   "cell_type": "markdown",
   "metadata": {},
   "source": [
    "$$J = -\\frac{1}{m}\\sum_{i=1}^m \\{ y^{(i)} log(h_w(x^{(i)})) + (1-y^{(i)})log(1-h_w(x^{(i)})) \\}$$\n",
    "\n",
    "$$\\frac{\\partial J}{\\partial w_j} = \\frac{\\partial J}{\\partial h_w}\\frac{\\partial h_w}{\\partial w_j}$$\n",
    "\n",
    "$$\\frac{\\partial J}{\\partial h_w} = \\frac{\\partial}{\\partial h_w}\\{-\\frac{1}{m}\\sum_{i=1}^m \\{ y^{(i)} log(h_w(x^{(i)})) + (1-y^{(i)})log(1-h_w(x^{(i)})) \\} \\}$$\n",
    "\n",
    "$$= -\\frac{1}{m}\\sum_{i=1}^m \\{ \\frac{y^{(i)}}{h_w(x^{(i)})} - \\frac{1-y^{(i)}}{1-h_w(x^{(i)})} \\}$$\n",
    "\n",
    "Let : $v = 1 + exp(-{\\bf w}^T{\\bf x}-b)$, then $h_w = \\frac{1}{v}$\n",
    "\n",
    "$$\\frac{\\partial h_w}{\\partial w_j} = \\frac{\\partial h_w}{\\partial v}\\frac{\\partial v}{\\partial w_j}$$\n",
    "\n",
    "$$= - \\frac{1}{v^2}\\cdot -x_jexp(-{\\bf w}^T{\\bf x}-b) = \\frac{x_jexp(-{\\bf w}^T{\\bf x}-b)}{(1 + exp(-{\\bf w}^T{\\bf x}-b))^2}$$\n",
    "\n",
    "$$= \\frac{1}{1 + exp(-{\\bf w}^T{\\bf x}-b)}\\frac{exp(-{\\bf w}^T{\\bf x}-b)}{1 + exp(-{\\bf w}^T{\\bf x}-b)}x_j$$\n",
    "\n",
    "$$= h_w(x^{(i)})(1-h_w(x^{(i)}))x_j$$\n",
    "\n",
    "\n",
    "$$\\frac{\\partial J}{\\partial w_j} = \\frac{\\partial J}{\\partial h_w}\\frac{\\partial h_w}{\\partial w_j} = -\\frac{1}{m}\\sum_{i=1}^m \\{ \\frac{y^{(i)}}{h_w(x^{(i)})} - \\frac{1-y^{(i)}}{1-h_w(x^{(i)})} \\} h_w(x^{(i)})(1-h_w(x^{(i)}))x_j$$\n",
    "\n",
    "$$= -\\frac{1}{m}\\sum_{i=1}^m \\{y^{(i)}(1-h_w(x^{(i)})) - (1-y^{(i)})h_w(x^{(i)}) \\}x_j$$\n",
    "\n",
    "$$= -\\frac{1}{m}\\sum_{i=1}^m \\{y^{(i)} - h_w(x^{(i)}) \\}x_j$$\n",
    "\n",
    "$$= \\frac{1}{m}\\sum_{i=1}^m \\{h_w(x^{(i)}) - y^{(i)} \\}x_j$$\n",
    "\n",
    "$$\\frac{\\partial J}{\\partial b} = \\frac{1}{m}\\sum_{i=1}^m \\{h_w(x^{(i)}) - y^{(i)} \\}$$"
   ]
  },
  {
   "cell_type": "markdown",
   "metadata": {},
   "source": [
    "Again, derivatives for all data can be calculated in a single matrix computation.\n",
    "\n",
    "$\n",
    "X_{train} = \\begin{bmatrix}\n",
    "x_1^{(1)} & x_1^{(2)} & \\cdots & x_1^{(348)} \\\\\n",
    "x_2^{(1)} & x_2^{(2)} & \\cdots & x_2^{(348)} \\\\\n",
    "\\vdots & \\vdots & \\ddots & \\vdots \\\\\n",
    "x_{4096}^{(1)} & x_{4096}^{(2)} & \\cdots & x_{4096}^{(348)} \\\\\n",
    "\\end{bmatrix}\n",
    "$\n",
    "$\n",
    "\\,\\,\\,\\,\\, {\\bf y}_{head} - {\\bf y}_{train} = \n",
    "\\begin{bmatrix}\n",
    "y_h^{(1)} - y^{(1)} & y_h^{(2)} - y^{(2)} & \\cdots & y_h^{(348)} - y^{(348)} \\\\\n",
    "\\end{bmatrix}\n",
    "$\n",
    "\n",
    "$\n",
    "X_{train}\\cdot({\\bf y}_{head} - {\\bf y}_{train})^T = \n",
    "\\begin{bmatrix}\n",
    "x_1^{(1)} & x_1^{(2)} & \\cdots & x_1^{(348)} \\\\\n",
    "x_2^{(1)} & x_2^{(2)} & \\cdots & x_2^{(348)} \\\\\n",
    "\\vdots & \\vdots & \\ddots & \\vdots \\\\\n",
    "x_{4096}^{(1)} & x_{4096}^{(2)} & \\cdots & x_{4096}^{(348)} \\\\\n",
    "\\end{bmatrix}\n",
    "\\begin{bmatrix}\n",
    "y_h^{(1)} - y^{(1)} \\\\\n",
    "y_h^{(2)} - y^{(2)} \\\\\n",
    "\\vdots \\\\ \n",
    "y_h^{(348)} - y^{(348)} \\\\\n",
    "\\end{bmatrix}\n",
    "$\n",
    "\n",
    "$\n",
    "= \\begin{bmatrix}\n",
    "(y_h^{(1)} - y^{(1)})x_1^{(1)} + (y_h^{(2)} - y^{(2)})x_1^{(2)} + \\cdots + (y_h^{(348)} - y^{(348)})x_1^{(348)} \\\\\n",
    "(y_h^{(1)} - y^{(1)})x_2^{(1)} + (y_h^{(2)} - y^{(2)})x_2^{(2)} + \\cdots + (y_h^{(348)} - y^{(348)})x_2^{(348)} \\\\\n",
    "\\vdots \\\\ \n",
    "(y_h^{(1)} - y^{(1)})x_{4096}^{(1)} + (y_h^{(2)} - y^{(2)})x_{4096}^{(2)} + \\cdots + (y_h^{(348)} - y^{(348)})x_{4096}^{(348)} \\\\\n",
    "\\end{bmatrix}\n",
    "$"
   ]
  },
  {
   "cell_type": "code",
   "execution_count": 141,
   "metadata": {},
   "outputs": [],
   "source": [
    "# Updating(learning) parameters\n",
    "def update(w, b, x_train, y_train, learning_rate,number_of_iterarion):\n",
    "    cost_list = []\n",
    "    cost_list2 = []\n",
    "    index = []\n",
    "    # updating(learning) parameters is number_of_iterarion times\n",
    "    for i in range(number_of_iterarion):\n",
    "        # make forward and backward propagation and find cost and gradients\n",
    "        cost,gradients = forward_backward_propagation(w,b,x_train,y_train)\n",
    "        cost_list.append(cost)\n",
    "        # lets update\n",
    "        w = w - learning_rate * gradients[\"derivative_weight\"]\n",
    "        b = b - learning_rate * gradients[\"derivative_bias\"]\n",
    "        if i % 10 == 0:\n",
    "            cost_list2.append(cost)\n",
    "            index.append(i)\n",
    "            print (\"Cost after iteration %i: %f\" %(i, cost))\n",
    "    # we update(learn) parameters weights and bias\n",
    "    parameters = {\"weight\": w,\"bias\": b}\n",
    "    plt.plot(index,cost_list2)\n",
    "    plt.xticks(index,rotation='vertical')\n",
    "    plt.xlabel(\"Number of Iterarion\")\n",
    "    plt.ylabel(\"Cost\")\n",
    "    plt.show()\n",
    "    return parameters, gradients, cost_list\n",
    "#parameters, gradients, cost_list = update(w, b, x_train, y_train, learning_rate = 0.009,number_of_iterarion = 200)"
   ]
  },
  {
   "cell_type": "code",
   "execution_count": 142,
   "metadata": {},
   "outputs": [],
   "source": [
    " # prediction\n",
    "def predict(w,b,x_test):\n",
    "    # x_test is a input for forward propagation\n",
    "    z = sigmoid(np.dot(w.T,x_test)+b)\n",
    "    Y_prediction = np.zeros((1,x_test.shape[1]))\n",
    "    # if z is bigger than 0.5, our prediction is sign one (y_head=1),\n",
    "    # if z is smaller than 0.5, our prediction is sign zero (y_head=0),\n",
    "    for i in range(z.shape[1]):\n",
    "        if z[0,i]<= 0.5:\n",
    "            Y_prediction[0,i] = 0\n",
    "        else:\n",
    "            Y_prediction[0,i] = 1\n",
    "\n",
    "    return Y_prediction\n",
    "# predict(parameters[\"weight\"],parameters[\"bias\"],x_test)"
   ]
  },
  {
   "cell_type": "code",
   "execution_count": 143,
   "metadata": {},
   "outputs": [
    {
     "name": "stdout",
     "output_type": "stream",
     "text": [
      "Cost after iteration 0: 14.014222\n",
      "Cost after iteration 10: 2.544689\n",
      "Cost after iteration 20: 2.577950\n",
      "Cost after iteration 30: 2.397999\n",
      "Cost after iteration 40: 2.185019\n",
      "Cost after iteration 50: 1.968348\n",
      "Cost after iteration 60: 1.754195\n",
      "Cost after iteration 70: 1.535079\n",
      "Cost after iteration 80: 1.297567\n",
      "Cost after iteration 90: 1.031919\n",
      "Cost after iteration 100: 0.737019\n",
      "Cost after iteration 110: 0.441355\n",
      "Cost after iteration 120: 0.252278\n",
      "Cost after iteration 130: 0.205168\n",
      "Cost after iteration 140: 0.196168\n"
     ]
    },
    {
     "data": {
      "image/png": "[encoded data removed]",
      "text/plain": [
       "<Figure size 432x288 with 1 Axes>"
      ]
     },
     "metadata": {
      "needs_background": "light"
     },
     "output_type": "display_data"
    },
    {
     "name": "stdout",
     "output_type": "stream",
     "text": [
      "train accuracy: 92.816091954023 %\n",
      "test accuracy: 93.54838709677419 %\n"
     ]
    }
   ],
   "source": [
    "def logistic_regression(x_train, y_train, x_test, y_test, learning_rate ,  num_iterations):\n",
    "    # initialize\n",
    "    dimension =  x_train.shape[0]  # that is 4096\n",
    "    w,b = initialize_weights_and_bias(dimension)\n",
    "    # do not change learning rate\n",
    "    parameters, gradients, cost_list = update(w, b, x_train, y_train, learning_rate,num_iterations)\n",
    "    \n",
    "    y_prediction_test = predict(parameters[\"weight\"],parameters[\"bias\"],x_test)\n",
    "    y_prediction_train = predict(parameters[\"weight\"],parameters[\"bias\"],x_train)\n",
    "\n",
    "    # Print train/test Errors\n",
    "    print(\"train accuracy: {} %\".format(100 - np.mean(np.abs(y_prediction_train - y_train)) * 100))\n",
    "    print(\"test accuracy: {} %\".format(100 - np.mean(np.abs(y_prediction_test - y_test)) * 100))\n",
    "    \n",
    "logistic_regression(x_train, y_train, x_test, y_test,learning_rate = 0.01, num_iterations = 150)"
   ]
  },
  {
   "cell_type": "markdown",
   "metadata": {},
   "source": [
    "## 2-Layer Neural Network"
   ]
  },
  {
   "cell_type": "code",
   "execution_count": 164,
   "metadata": {},
   "outputs": [],
   "source": [
    "# intialize parameters and layer sizes\n",
    "def initialize_parameters_and_layer_sizes_NN(x_train, y_train):\n",
    "    parameters = {\"weight1\": np.random.randn(3,x_train.shape[0]) * 0.1,\n",
    "                  \"bias1\": np.zeros((3,1)),\n",
    "                  \"weight2\": np.random.randn(y_train.shape[0],3) * 0.1,\n",
    "                  \"bias2\": np.zeros((y_train.shape[0],1))}\n",
    "    return parameters"
   ]
  },
  {
   "cell_type": "code",
   "execution_count": 165,
   "metadata": {},
   "outputs": [
    {
     "name": "stdout",
     "output_type": "stream",
     "text": [
      "x train shape: (4096, 348)\n",
      "weight1 shape: (3, 4096)\n",
      "bias1 shape: (3, 1)\n",
      "weight2 shape: (1, 3)\n",
      "bias2 shape: (1, 1)\n"
     ]
    }
   ],
   "source": [
    "parameters = initialize_parameters_and_layer_sizes_NN(x_train, y_train)\n",
    "print('x train shape:',x_train.shape)\n",
    "print('weight1 shape:',parameters['weight1'].shape)\n",
    "print('bias1 shape:',parameters['bias1'].shape)\n",
    "print('weight2 shape:',parameters['weight2'].shape)\n",
    "print('bias2 shape:',parameters['bias2'].shape)"
   ]
  },
  {
   "cell_type": "markdown",
   "metadata": {},
   "source": [
    "$\n",
    "X_{train} = \\begin{bmatrix}\n",
    "x_1^{(1)} & x_1^{(2)} & \\cdots & x_1^{(348)} \\\\\n",
    "x_2^{(1)} & x_2^{(2)} & \\cdots & x_2^{(348)} \\\\\n",
    "\\vdots & \\vdots & \\ddots & \\vdots \\\\\n",
    "x_{4096}^{(1)} & x_{4096}^{(2)} & \\cdots & x_{4096}^{(348)} \\\\\n",
    "\\end{bmatrix}\n",
    "$\n",
    "\n",
    "---\n",
    "\n",
    "$\n",
    "W^{[1]} = \\begin{bmatrix}\n",
    "w_1^{[z_1]} & w_2^{[z_1]} & \\cdots & w_{4096}^{[z_1]} \\\\\n",
    "w_1^{[z_2]} & w_2^{[z_2]} & \\cdots & w_{4096}^{[z_2]} \\\\\n",
    "w_1^{[z_3]} & w_2^{[z_3]} & \\cdots & w_{4096}^{[z_3]} \\\\\n",
    "\\end{bmatrix}\n",
    "$\n",
    "\n",
    "$\n",
    "{\\bf b}^{[1]} = \\begin{bmatrix}\n",
    "b^{[z_1]} \\\\\n",
    "b^{[z_2]} \\\\\n",
    "b^{[z_3]} \\\\\n",
    "\\end{bmatrix}\n",
    "$\n",
    "\n",
    "$\n",
    "W^{[2]} = \\begin{bmatrix}\n",
    "w_{a_1} & w_{a_2} & w_{a_3} \\\\\n",
    "\\end{bmatrix}\n",
    "$\n",
    "\n",
    "$b^{[2]}$ is a scalar\n",
    "\n",
    "---"
   ]
  },
  {
   "cell_type": "markdown",
   "metadata": {},
   "source": [
    "$Z^{[1]} = W^{[1]}X_{train} + {\\bf b}^{[1]}$\n",
    "\n",
    "$\n",
    "= \\begin{bmatrix}\n",
    "w_1^{[z_1]} & w_2^{[z_1]} & \\cdots & w_{4096}^{[z_1]} \\\\\n",
    "w_1^{[z_2]} & w_2^{[z_2]} & \\cdots & w_{4096}^{[z_2]} \\\\\n",
    "w_1^{[z_3]} & w_2^{[z_3]} & \\cdots & w_{4096}^{[z_3]} \\\\\n",
    "\\end{bmatrix}\n",
    "\\begin{bmatrix}\n",
    "x_1^{(1)} & x_1^{(2)} & \\cdots & x_1^{(348)} \\\\\n",
    "x_2^{(1)} & x_2^{(2)} & \\cdots & x_2^{(348)} \\\\\n",
    "\\vdots & \\vdots & \\ddots & \\vdots \\\\\n",
    "x_{4096}^{(1)} & x_{4096}^{(2)} & \\cdots & x_{4096}^{(348)} \\\\\n",
    "\\end{bmatrix} + \n",
    "\\begin{bmatrix}\n",
    "b^{[z_1]} \\\\\n",
    "b^{[z_2]} \\\\\n",
    "b^{[z_3]} \\\\\n",
    "\\end{bmatrix} = \n",
    "$\n",
    "\n",
    "$\n",
    "\\begin{bmatrix}\n",
    "w_1^{[z_1]}x_1^{(1)} + w_2^{[z_1]}x_2^{(1)} + ... + w_{4096}^{[z_1]}x_{4096}^{(1)} + b^{[z_1]} & \n",
    "w_1^{[z_1]}x_1^{(2)} + w_2^{[z_1]}x_2^{(2)} + ... + w_{4096}^{[z_1]}x_{4096}^{(2)} + b^{[z_1]} & \n",
    "\\cdots & \n",
    "w_1^{[z_1]}x_1^{(348)} + w_2^{[z_1]}x_2^{(348)} + ... + w_{4096}^{[z_1]}x_{4096}^{(348)} + b^{[z_1]} \\\\\n",
    "w_1^{[z_2]}x_1^{(1)} + w_2^{[z_2]}x_2^{(1)} + ... + w_{4096}^{[z_2]}x_{4096}^{(1)} + b^{[z_2]} & \n",
    "w_1^{[z_2]}x_1^{(2)} + w_2^{[z_2]}x_2^{(2)} + ... + w_{4096}^{[z_2]}x_{4096}^{(2)} + b^{[z_2]} & \n",
    "\\cdots & \n",
    "w_1^{[z_2]}x_1^{(348)} + w_2^{[z_2]}x_2^{(348)} + ... + w_{4096}^{[z_2]}x_{4096}^{(348)} + b^{[z_2]} \\\\\n",
    "w_1^{[z_3]}x_1^{(1)} + w_2^{[z_3]}x_2^{(1)} + ... + w_{4096}^{[z_3]}x_{4096}^{(1)} + b^{[z_3]} & \n",
    "w_1^{[z_3]}x_1^{(2)} + w_2^{[z_3]}x_2^{(2)} + ... + w_{4096}^{[z_3]}x_{4096}^{(2)} + b^{[z_3]} & \n",
    "\\cdots & \n",
    "w_1^{[z_3]}x_1^{(348)} + w_2^{[z_3]}x_2^{(348)} + ... + w_{4096}^{[z_3]}x_{4096}^{(348)} + b^{[z_3]} \\\\\n",
    "\\end{bmatrix}\n",
    "$\n",
    "\n",
    "$\n",
    "= \\begin{bmatrix}\n",
    "z_1^{(1)} & z_1^{(2)} & \\cdots & z_1^{(348)} \\\\\n",
    "z_2^{(1)} & z_2^{(2)} & \\cdots & z_2^{(348)} \\\\\n",
    "z_3^{(1)} & z_3^{(2)} & \\cdots & z_3^{(348)} \\\\\n",
    "\\end{bmatrix}\n",
    "$"
   ]
  },
  {
   "cell_type": "code",
   "execution_count": 166,
   "metadata": {},
   "outputs": [],
   "source": [
    "def forward_propagation_NN(x_train, parameters):\n",
    "\n",
    "    Z1 = np.dot(parameters[\"weight1\"],x_train) +parameters[\"bias1\"]\n",
    "    A1 = np.tanh(Z1)\n",
    "    Z2 = np.dot(parameters[\"weight2\"],A1) + parameters[\"bias2\"]\n",
    "    A2 = sigmoid(Z2)\n",
    "\n",
    "    cache = {\"Z1\": Z1,\n",
    "             \"A1\": A1,\n",
    "             \"Z2\": Z2,\n",
    "             \"A2\": A2}\n",
    "    \n",
    "    return A2, cache"
   ]
  },
  {
   "cell_type": "code",
   "execution_count": 167,
   "metadata": {},
   "outputs": [
    {
     "name": "stdout",
     "output_type": "stream",
     "text": [
      "Z1 shape: (3, 348)\n",
      "A1 shape: (3, 348)\n",
      "Z2 shape: (1, 348)\n",
      "A2 shape: (1, 348)\n"
     ]
    }
   ],
   "source": [
    "A2, cache = forward_propagation_NN(x_train, parameters)\n",
    "print('Z1 shape:',cache['Z1'].shape)\n",
    "print('A1 shape:',cache['A1'].shape)\n",
    "print('Z2 shape:',cache['Z2'].shape)\n",
    "print('A2 shape:',cache['A2'].shape)"
   ]
  },
  {
   "cell_type": "markdown",
   "metadata": {},
   "source": [
    "$\n",
    "A^{[1]}= \\begin{bmatrix}\n",
    "tanh(z_1^{(1)}) & tanh(z_1^{(2)}) & \\cdots & tanh(z_1^{(348)}) \\\\\n",
    "tanh(z_2^{(1)}) & tanh(z_2^{(2)}) & \\cdots & tanh(z_2^{(348)}) \\\\\n",
    "tanh(z_3^{(1)}) & tanh(z_3^{(2)}) & \\cdots & tanh(z_3^{(348)}) \\\\\n",
    "\\end{bmatrix} = \n",
    "$\n",
    "$\n",
    "\\begin{bmatrix}\n",
    "a_1^{(1)} & a_1^{(2)} & \\cdots & a_1^{(348)} \\\\\n",
    "a_2^{(1)} & a_2^{(2)} & \\cdots & a_2^{(348)} \\\\\n",
    "a_3^{(1)} & a_3^{(2)} & \\cdots & a_3^{(348)} \\\\\n",
    "\\end{bmatrix}\n",
    "$"
   ]
  },
  {
   "cell_type": "markdown",
   "metadata": {},
   "source": [
    "$Z^{[2]} = W^{[2]}A^{[1]}+b^{[2]}$\n",
    "\n",
    "$\n",
    "= \\begin{bmatrix}\n",
    "w_{a_1} & w_{a_2} & w_{a_3} \\\\\n",
    "\\end{bmatrix}\n",
    "\\begin{bmatrix}\n",
    "a_1^{(1)} & a_1^{(2)} & \\cdots & a_1^{(348)} \\\\\n",
    "a_2^{(1)} & a_2^{(2)} & \\cdots & a_2^{(348)} \\\\\n",
    "a_3^{(1)} & a_3^{(2)} & \\cdots & a_3^{(348)} \\\\\n",
    "\\end{bmatrix} +b^{[2]}\n",
    "$\n",
    "\n",
    "$\n",
    "= \\begin{bmatrix}\n",
    "w_{a_1}a_1^{(1)} + w_{a_2}a_2^{(1)} + w_{a_3}a_3^{(1)} + b^{[2]} & \n",
    "w_{a_1}a_1^{(2)} + w_{a_2}a_2^{(2)} + w_{a_3}a_3^{(2)} + b^{[2]} & \n",
    "\\cdots & \n",
    "w_{a_1}a_1^{(348)} + w_{a_2}a_2^{(348)} + w_{a_3}a_3^{(348)} + b^{[2]} \\\\\n",
    "\\end{bmatrix}\n",
    "$\n",
    "\n",
    "$\n",
    "= \\begin{bmatrix}\n",
    "z_4^{(1)} & z_4^{(2)} & \\cdots &z_4^{(348)} \\\\\n",
    "\\end{bmatrix}\n",
    "$\n",
    "\n",
    "$\n",
    "A^{[2]}= \\begin{bmatrix}\n",
    "sigmoid(z_4^{(1)}) & sigmoid(z_4^{(2)}) & \\cdots & sigmoid(z_4^{(348)}) \\\\\n",
    "\\end{bmatrix} = \n",
    "\\begin{bmatrix}\n",
    "a_4^{(1)} & a_4^{(2)} & \\cdots & a_4^{(348)} \\\\\n",
    "\\end{bmatrix}\n",
    "$"
   ]
  },
  {
   "cell_type": "code",
   "execution_count": 168,
   "metadata": {},
   "outputs": [],
   "source": [
    "# Backward Propagation\n",
    "def backward_propagation_NN(parameters, cache, X, Y):\n",
    "\n",
    "    dZ2 = cache[\"A2\"]-Y\n",
    "    dW2 = np.dot(dZ2,cache[\"A1\"].T)/X.shape[1]\n",
    "    db2 = np.sum(dZ2,axis =1,keepdims=True)/X.shape[1]\n",
    "    #dZ1 = np.divide(np.dot(parameters[\"weight2\"].T,dZ2), np.power(np.cosh(cache[\"Z1\"]),2))\n",
    "    dZ1 = np.dot(parameters[\"weight2\"].T,dZ2)*(1 - np.power(cache[\"A1\"], 2))\n",
    "    dW1 = np.dot(dZ1,X.T)/X.shape[1]\n",
    "    db1 = np.sum(dZ1,axis =1,keepdims=True)/X.shape[1]\n",
    "    grads = {\"dweight1\": dW1,\n",
    "             \"dbias1\": db1,\n",
    "             \"dweight2\": dW2,\n",
    "             \"dbias2\": db2}\n",
    "    return grads"
   ]
  },
  {
   "cell_type": "code",
   "execution_count": 169,
   "metadata": {},
   "outputs": [],
   "source": [
    "# update parameters\n",
    "def update_parameters_NN(parameters, grads, learning_rate = 0.01):\n",
    "    parameters = {\"weight1\": parameters[\"weight1\"]-learning_rate*grads[\"dweight1\"],\n",
    "                  \"bias1\": parameters[\"bias1\"]-learning_rate*grads[\"dbias1\"],\n",
    "                  \"weight2\": parameters[\"weight2\"]-learning_rate*grads[\"dweight2\"],\n",
    "                  \"bias2\": parameters[\"bias2\"]-learning_rate*grads[\"dbias2\"]}\n",
    "    \n",
    "    return parameters"
   ]
  },
  {
   "cell_type": "code",
   "execution_count": 170,
   "metadata": {},
   "outputs": [],
   "source": [
    "# prediction\n",
    "def predict_NN(parameters,x_test):\n",
    "    # x_test is a input for forward propagation\n",
    "    A2, cache = forward_propagation_NN(x_test,parameters)\n",
    "    Y_prediction = np.zeros((1,x_test.shape[1]))\n",
    "    # if z is bigger than 0.5, our prediction is sign one (y_head=1),\n",
    "    # if z is smaller than 0.5, our prediction is sign zero (y_head=0),\n",
    "    for i in range(A2.shape[1]):\n",
    "        if A2[0,i]<= 0.5:\n",
    "            Y_prediction[0,i] = 0\n",
    "        else:\n",
    "            Y_prediction[0,i] = 1\n",
    "\n",
    "    return Y_prediction"
   ]
  },
  {
   "cell_type": "code",
   "execution_count": 171,
   "metadata": {},
   "outputs": [
    {
     "name": "stdout",
     "output_type": "stream",
     "text": [
      "Cost after iteration 0: 0.698011\n",
      "Cost after iteration 100: 0.694058\n",
      "Cost after iteration 200: 0.693347\n",
      "Cost after iteration 300: 0.693182\n",
      "Cost after iteration 400: 0.693129\n",
      "Cost after iteration 500: 0.693102\n",
      "Cost after iteration 600: 0.693081\n",
      "Cost after iteration 700: 0.693055\n",
      "Cost after iteration 800: 0.693003\n",
      "Cost after iteration 900: 0.692833\n",
      "Cost after iteration 1000: 0.692102\n",
      "Cost after iteration 1100: 0.689620\n",
      "Cost after iteration 1200: 0.679219\n",
      "Cost after iteration 1300: 0.645797\n",
      "Cost after iteration 1400: 0.582445\n",
      "Cost after iteration 1500: 0.501149\n",
      "Cost after iteration 1600: 0.421289\n",
      "Cost after iteration 1700: 0.425369\n",
      "Cost after iteration 1800: 0.327437\n",
      "Cost after iteration 1900: 0.284265\n",
      "Cost after iteration 2000: 0.248258\n",
      "Cost after iteration 2100: 0.215195\n",
      "Cost after iteration 2200: 0.184572\n",
      "Cost after iteration 2300: 0.162470\n",
      "Cost after iteration 2400: 0.146102\n"
     ]
    },
    {
     "data": {
      "image/png": "[encoded data removed]",
      "text/plain": [
       "<Figure size 432x288 with 1 Axes>"
      ]
     },
     "metadata": {
      "needs_background": "light"
     },
     "output_type": "display_data"
    },
    {
     "name": "stdout",
     "output_type": "stream",
     "text": [
      "train accuracy: 99.42528735632185 %\n",
      "test accuracy: 93.54838709677419 %\n"
     ]
    }
   ],
   "source": [
    "# 2 - Layer neural network\n",
    "def two_layer_neural_network(x_train, y_train,x_test,y_test, num_iterations):\n",
    "    cost_list = []\n",
    "    index_list = []\n",
    "    #initialize parameters and layer sizes\n",
    "    parameters = initialize_parameters_and_layer_sizes_NN(x_train, y_train)\n",
    "\n",
    "    for i in range(0, num_iterations):\n",
    "         # forward propagation\n",
    "        A2, cache = forward_propagation_NN(x_train,parameters)\n",
    "        # compute cost\n",
    "        cost = cost_func(A2, y_train)\n",
    "        #cost = compute_cost_NN(A2, y_train, parameters)\n",
    "         # backward propagation\n",
    "        grads = backward_propagation_NN(parameters, cache, x_train, y_train)\n",
    "         # update parameters\n",
    "        parameters = update_parameters_NN(parameters, grads)\n",
    "        \n",
    "        if i % 100 == 0:\n",
    "            cost_list.append(cost)\n",
    "            index_list.append(i)\n",
    "            print (\"Cost after iteration %i: %f\" %(i, cost))\n",
    "    plt.plot(index_list,cost_list)\n",
    "    plt.xticks(index_list,rotation='vertical')\n",
    "    plt.xlabel(\"Number of Iterarion\")\n",
    "    plt.ylabel(\"Cost\")\n",
    "    plt.show()\n",
    "    \n",
    "    # predict\n",
    "    y_prediction_test = predict_NN(parameters,x_test)\n",
    "    y_prediction_train = predict_NN(parameters,x_train)\n",
    "\n",
    "    # Print train/test Errors\n",
    "    print(\"train accuracy: {} %\".format(100 - np.mean(np.abs(y_prediction_train - y_train)) * 100))\n",
    "    print(\"test accuracy: {} %\".format(100 - np.mean(np.abs(y_prediction_test - y_test)) * 100))\n",
    "    return parameters\n",
    "\n",
    "parameters = two_layer_neural_network(x_train, y_train,x_test,y_test, num_iterations=2500)"
   ]
  },
  {
   "cell_type": "code",
   "execution_count": null,
   "metadata": {},
   "outputs": [],
   "source": []
  },
  {
   "cell_type": "code",
   "execution_count": null,
   "metadata": {},
   "outputs": [],
   "source": []
  },
  {
   "cell_type": "code",
   "execution_count": null,
   "metadata": {},
   "outputs": [],
   "source": []
  },
  {
   "cell_type": "code",
   "execution_count": null,
   "metadata": {},
   "outputs": [],
   "source": []
  },
  {
   "cell_type": "code",
   "execution_count": null,
   "metadata": {},
   "outputs": [],
   "source": []
  },
  {
   "cell_type": "code",
   "execution_count": 108,
   "metadata": {},
   "outputs": [
    {
     "data": {
      "text/plain": [
       "array([[0.],\n",
       "       [0.],\n",
       "       [0.]])"
      ]
     },
     "execution_count": 108,
     "metadata": {},
     "output_type": "execute_result"
    }
   ],
   "source": [
    "parameters['bias1']"
   ]
  },
  {
   "cell_type": "code",
   "execution_count": 111,
   "metadata": {},
   "outputs": [
    {
     "data": {
      "text/plain": [
       "(3, 4096)"
      ]
     },
     "execution_count": 111,
     "metadata": {},
     "output_type": "execute_result"
    }
   ],
   "source": [
    "parameters['weight1'].shape"
   ]
  },
  {
   "cell_type": "code",
   "execution_count": 120,
   "metadata": {},
   "outputs": [],
   "source": [
    "a = np.array([[1,2,3],[4,5,6]])"
   ]
  },
  {
   "cell_type": "code",
   "execution_count": 121,
   "metadata": {},
   "outputs": [
    {
     "data": {
      "text/plain": [
       "array([[1, 2, 3],\n",
       "       [4, 5, 6]])"
      ]
     },
     "execution_count": 121,
     "metadata": {},
     "output_type": "execute_result"
    }
   ],
   "source": [
    "a"
   ]
  },
  {
   "cell_type": "code",
   "execution_count": 128,
   "metadata": {},
   "outputs": [],
   "source": [
    "b = np.array([[10,100]])"
   ]
  },
  {
   "cell_type": "code",
   "execution_count": 130,
   "metadata": {},
   "outputs": [
    {
     "data": {
      "text/plain": [
       "array([[ 10],\n",
       "       [100]])"
      ]
     },
     "execution_count": 130,
     "metadata": {},
     "output_type": "execute_result"
    }
   ],
   "source": [
    "b.T"
   ]
  },
  {
   "cell_type": "code",
   "execution_count": 131,
   "metadata": {},
   "outputs": [
    {
     "data": {
      "text/plain": [
       "array([[ 11,  12,  13],\n",
       "       [104, 105, 106]])"
      ]
     },
     "execution_count": 131,
     "metadata": {},
     "output_type": "execute_result"
    }
   ],
   "source": [
    "a + b.T"
   ]
  },
  {
   "cell_type": "code",
   "execution_count": 154,
   "metadata": {},
   "outputs": [
    {
     "data": {
      "text/plain": [
       "array([[ 10.,  10.,  10.],\n",
       "       [100., 100., 100.]])"
      ]
     },
     "execution_count": 154,
     "metadata": {},
     "output_type": "execute_result"
    }
   ],
   "source": [
    "np.divide(np.array([[10,20,30],[100,200,300]]),np.array([[1,2,3],[1,2,3]]))"
   ]
  },
  {
   "cell_type": "code",
   "execution_count": 156,
   "metadata": {},
   "outputs": [
    {
     "data": {
      "text/plain": [
       "array([[ 1,  4,  9],\n",
       "       [16, 25, 36]])"
      ]
     },
     "execution_count": 156,
     "metadata": {},
     "output_type": "execute_result"
    }
   ],
   "source": [
    "np.power(np.array([[1,2,3],[4,5,6]]),2)"
   ]
  },
  {
   "cell_type": "code",
   "execution_count": null,
   "metadata": {},
   "outputs": [],
   "source": []
  }
 ],
 "metadata": {
  "kernelspec": {
   "display_name": "Python 3",
   "language": "python",
   "name": "python3"
  },
  "language_info": {
   "codemirror_mode": {
    "name": "ipython",
    "version": 3
   },
   "file_extension": ".py",
   "mimetype": "text/x-python",
   "name": "python",
   "nbconvert_exporter": "python",
   "pygments_lexer": "ipython3",
   "version": "3.5.6"
  }
 },
 "nbformat": 4,
 "nbformat_minor": 2
}
