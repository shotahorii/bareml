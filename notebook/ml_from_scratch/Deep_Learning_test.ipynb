{
 "cells": [
  {
   "cell_type": "markdown",
   "metadata": {},
   "source": [
    "## Deep Learning Tutorial for Beginners\n",
    "Code from: https://www.kaggle.com/kanncaa1/deep-learning-tutorial-for-beginners"
   ]
  },
  {
   "cell_type": "code",
   "execution_count": 2,
   "metadata": {},
   "outputs": [],
   "source": [
    "import numpy as np\n",
    "import pandas as pd\n",
    "from scipy.special import softmax\n",
    "from sklearn.model_selection import train_test_split\n",
    "import matplotlib.pyplot as plt\n",
    "import warnings\n",
    "warnings.filterwarnings('ignore')"
   ]
  },
  {
   "cell_type": "code",
   "execution_count": 32,
   "metadata": {},
   "outputs": [],
   "source": [
    "# basic\n",
    "class TwoLayersNeuralNet:\n",
    "    \n",
    "    def __init__(self, n_in, n_hidden, n_out):\n",
    "        # set class params\n",
    "        self.n_in = n_in\n",
    "        self.n_hidden = n_hidden\n",
    "        self.n_out = n_out\n",
    "        self.errors = []\n",
    "        \n",
    "        # init weight and bias\n",
    "        self.W2 = np.random.randn(n_hidden,n_in) * 0.5\n",
    "        self.b2 = np.zeros((n_hidden,1))\n",
    "        self.W3 = np.random.randn(n_out,n_hidden) * 0.5\n",
    "        self.b3 = np.zeros((n_out,1))\n",
    "        \n",
    "    def train(self, X, Y, n_epoch, learning_rate, n_batch=None):\n",
    "        \n",
    "        for epoch in range(n_epoch):\n",
    "            # define samples to use in this epoch's training\n",
    "            batch_X, batch_Y = self.__batch(X, Y, n_batch)\n",
    "            \n",
    "            # forward propagation\n",
    "            U2, Z2, U3, Z3 = self.__forward(batch_X)\n",
    "            \n",
    "            # compute error\n",
    "            error = self.__error(Z3, batch_Y)\n",
    "            self.errors.append(error)\n",
    "            \n",
    "            # backward propagation\n",
    "            dW2, db2, dW3, db3 = self.__backward(batch_X, batch_Y, Z2, Z3)\n",
    "            \n",
    "            # update weights and biases\n",
    "            self.__update(dW2, db2, dW3, db3, learning_rate)\n",
    "            \n",
    "            # print progress\n",
    "            if epoch % 100 == 0:\n",
    "                print (\"Error after iteration %i: %f\" %(epoch, error))\n",
    "                \n",
    "    # prediction\n",
    "    def predict(self, X):\n",
    "        N = X.shape[1] # number of samples to predict\n",
    "        \n",
    "        # forward propagation\n",
    "        U2, Z2, U3, Z3 = self.__forward(X)\n",
    "        \n",
    "        # empty array to fill the prediction\n",
    "        Y_pred = np.zeros((self.n_out, N))\n",
    "        \n",
    "        # prediction\n",
    "        max_indices = np.argmax(Z3, axis = 0)\n",
    "        \n",
    "        for i in range(N):\n",
    "            Y_pred[max_indices[i],i] = 1\n",
    "        \n",
    "        return Y_pred\n",
    "                \n",
    "    # ---------- private functions ---------- \n",
    "            \n",
    "    def __batch(self, X, Y, n_batch):\n",
    "        if n_batch is None:\n",
    "            return X,Y\n",
    "        else:\n",
    "            batch_indices = np.random.choice(range(X.shape[1]),n_batch,replace=False)\n",
    "            return X[:,batch_indices], Y[:,batch_indices]\n",
    "    \n",
    "    def __forward(self, X):\n",
    "        # hidden layer\n",
    "        U2 = np.dot(self.W2,X) + self.b2\n",
    "        Z2 = np.tanh(U2)\n",
    "        \n",
    "        # output layer\n",
    "        U3 = np.dot(self.W3,Z2) + self.b3\n",
    "        Z3 = softmax(U3, axis=0)\n",
    "        \n",
    "        return U2, Z2, U3, Z3\n",
    "    \n",
    "    def __error(self, Z3, Y):\n",
    "        N = Y.shape[1] # number of samples used in this training\n",
    "        \n",
    "        cross_entropy = np.multiply(np.log(Z3),Y)\n",
    "        error = -np.sum(cross_entropy)/N\n",
    "        \n",
    "        return error\n",
    "    \n",
    "    def __backward(self, X, Y, Z2, Z3):\n",
    "        N = X.shape[1] # number of samples used in this training\n",
    "        \n",
    "        # output layer\n",
    "        dU3 = Z3 - Y\n",
    "        dW3 = np.dot(dU3,Z2.T)/N\n",
    "        db3 = np.sum(dU3,axis =1,keepdims=True)/N\n",
    "        \n",
    "        # hidden layer\n",
    "        dZ2 = 1 - np.power(Z2, 2) # (tanh(u))' = 1 - tanh^2(u)\n",
    "        dU2 = np.dot(self.W3.T,dU3)*dZ2\n",
    "        dW2 = np.dot(dU2,X.T)/N\n",
    "        db2 = np.sum(dU2,axis =1,keepdims=True)/N\n",
    "        \n",
    "        return dW2, db2, dW3, db3\n",
    "    \n",
    "    def __update(self, dW2, db2, dW3, db3, learning_rate):\n",
    "        # hidden layer\n",
    "        self.W2 = self.W2 - learning_rate*dW2\n",
    "        self.b2 = self.b2 - learning_rate*db2\n",
    "        \n",
    "        # output layer\n",
    "        self.W3 = self.W3 - learning_rate*dW3\n",
    "        self.b3 = self.b3 - learning_rate*db3\n",
    "    "
   ]
  },
  {
   "cell_type": "code",
   "execution_count": 30,
   "metadata": {},
   "outputs": [],
   "source": [
    "# with regularization and momentum\n",
    "class TwoLayersNeuralNet:\n",
    "    \n",
    "    def __init__(self, n_in, n_hidden, n_out):\n",
    "        # set class params\n",
    "        self.n_in = n_in\n",
    "        self.n_hidden = n_hidden\n",
    "        self.n_out = n_out\n",
    "        self.losses = []\n",
    "        \n",
    "        # init weight and bias\n",
    "        self.W2 = np.random.randn(n_hidden,n_in) * 0.5\n",
    "        self.b2 = np.zeros((n_hidden,1))\n",
    "        self.W3 = np.random.randn(n_out,n_hidden) * 0.5\n",
    "        self.b3 = np.zeros((n_out,1))\n",
    "        \n",
    "        # for momentum\n",
    "        self.delta_W2 = 0\n",
    "        self.delta_b2 = 0\n",
    "        self.delta_W3 = 0\n",
    "        self.delta_b3 = 0\n",
    "        \n",
    "        \n",
    "    def train(\n",
    "        self, \n",
    "        X, \n",
    "        Y, \n",
    "        n_iteration, \n",
    "        learning_rate,\n",
    "        lambda_l2=0,\n",
    "        momentum=0,\n",
    "        n_batch=None):\n",
    "        \n",
    "        for i in range(n_iteration):\n",
    "            # define samples to use in this epoch's training\n",
    "            batch_X, batch_Y = self.__batch(X, Y, n_batch)\n",
    "            \n",
    "            # forward propagation\n",
    "            U2, Z2, U3, Z3 = self.__forward(batch_X)\n",
    "            \n",
    "            # compute error\n",
    "            loss = self.__loss(Z3, batch_Y, lambda_l2)\n",
    "            self.losses.append(loss)\n",
    "            \n",
    "            # backward propagation\n",
    "            dW2, db2, dW3, db3 = self.__backward(batch_X, batch_Y, Z2, Z3)\n",
    "            \n",
    "            # update weights and biases\n",
    "            self.__update(dW2, db2, dW3, db3, learning_rate, lambda_l2, momentum)\n",
    "            \n",
    "            # print progress\n",
    "            if i % 100 == 0:\n",
    "                print (\"Loss after iteration %i: %f\" %(i, loss))\n",
    "                \n",
    "    # prediction\n",
    "    def predict(self, X):\n",
    "        N = X.shape[1] # number of samples to predict\n",
    "        \n",
    "        # forward propagation\n",
    "        U2, Z2, U3, Z3 = self.__forward(X)\n",
    "        \n",
    "        # empty array to fill the prediction\n",
    "        Y_pred = np.zeros((self.n_out, N))\n",
    "        \n",
    "        # prediction\n",
    "        max_indices = np.argmax(Z3, axis = 0)\n",
    "        \n",
    "        for i in range(N):\n",
    "            Y_pred[max_indices[i],i] = 1\n",
    "        \n",
    "        return Y_pred\n",
    "                \n",
    "    # ---------- private functions ---------- \n",
    "            \n",
    "    def __batch(self, X, Y, n_batch):\n",
    "        if n_batch is None:\n",
    "            return X,Y\n",
    "        else:\n",
    "            batch_indices = np.random.choice(range(X.shape[1]),n_batch,replace=False)\n",
    "            return X[:,batch_indices], Y[:,batch_indices]\n",
    "    \n",
    "    def __forward(self, X):\n",
    "        # hidden layer\n",
    "        U2 = np.dot(self.W2,X) + self.b2\n",
    "        Z2 = np.tanh(U2)\n",
    "        \n",
    "        # output layer\n",
    "        U3 = np.dot(self.W3,Z2) + self.b3\n",
    "        Z3 = softmax(U3, axis=0)\n",
    "        \n",
    "        return U2, Z2, U3, Z3\n",
    "    \n",
    "    def __loss(self, Z3, Y, lambda_l2):\n",
    "        N = Y.shape[1] # number of samples used in this training\n",
    "        \n",
    "        cross_entropy = np.multiply(np.log(Z3),Y)\n",
    "        loss = -np.sum(cross_entropy)/N + (lambda_l2/2.0)*((self.W2*self.W2).sum()+(self.W3*self.W3).sum())\n",
    "        \n",
    "        return loss\n",
    "    \n",
    "    def __backward(self, X, Y, Z2, Z3):\n",
    "        N = X.shape[1] # number of samples used in this training\n",
    "        \n",
    "        # output layer\n",
    "        dU3 = Z3 - Y\n",
    "        dW3 = np.dot(dU3,Z2.T)/N\n",
    "        db3 = np.sum(dU3,axis=1,keepdims=True)/N\n",
    "        \n",
    "        # hidden layer\n",
    "        dZ2 = 1 - np.power(Z2, 2) # (tanh(u))' = 1 - tanh^2(u)\n",
    "        dU2 = np.dot(self.W3.T,dU3)*dZ2\n",
    "        dW2 = np.dot(dU2,X.T)/N\n",
    "        db2 = np.sum(dU2,axis=1,keepdims=True)/N\n",
    "        \n",
    "        return dW2, db2, dW3, db3\n",
    "    \n",
    "    def __update(self, dW2, db2, dW3, db3, learning_rate, lambda_l2, momentum):\n",
    "        # hidden layer\n",
    "        self.delta_W2 = - learning_rate * (dW2 + lambda_l2*self.W2) + momentum * self.delta_W2\n",
    "        self.W2 = self.W2 + self.delta_W2\n",
    "        \n",
    "        self.delta_b2 = - learning_rate * db2 + momentum * self.delta_b2\n",
    "        self.b2 = self.b2 + self.delta_b2\n",
    "        \n",
    "        # output layer\n",
    "        self.delta_W3 = - learning_rate * (dW3 + lambda_l2*self.W3) + momentum * self.delta_W3\n",
    "        self.W3 = self.W3 + self.delta_W3\n",
    "        \n",
    "        self.delta_b3 = - learning_rate * db3 + momentum * self.delta_b3\n",
    "        self.b3 = self.b3 + self.delta_b3\n",
    "    "
   ]
  },
  {
   "cell_type": "markdown",
   "metadata": {},
   "source": [
    "## Main"
   ]
  },
  {
   "cell_type": "code",
   "execution_count": 21,
   "metadata": {},
   "outputs": [],
   "source": [
    "# load data\n",
    "X_raw = np.load('./data/Sign-language-digits-dataset/X.npy')\n",
    "Y_raw = np.load('./data/Sign-language-digits-dataset/Y.npy')"
   ]
  },
  {
   "cell_type": "code",
   "execution_count": 22,
   "metadata": {},
   "outputs": [
    {
     "name": "stdout",
     "output_type": "stream",
     "text": [
      "(2062, 64, 64)\n",
      "(2062, 10)\n"
     ]
    }
   ],
   "source": [
    "print(X_raw.shape)\n",
    "print(Y_raw.shape)"
   ]
  },
  {
   "cell_type": "code",
   "execution_count": 23,
   "metadata": {},
   "outputs": [
    {
     "data": {
      "text/plain": [
       "(-0.5, 63.5, 63.5, -0.5)"
      ]
     },
     "execution_count": 23,
     "metadata": {},
     "output_type": "execute_result"
    },
    {
     "data": {
      "image/png": "[encoded data removed]",
      "text/plain": [
       "<Figure size 432x288 with 2 Axes>"
      ]
     },
     "metadata": {
      "needs_background": "light"
     },
     "output_type": "display_data"
    }
   ],
   "source": [
    "img_size = 64\n",
    "plt.subplot(1, 2, 1)\n",
    "plt.imshow(X_raw[260].reshape(img_size, img_size))\n",
    "plt.axis('off')\n",
    "plt.subplot(1, 2, 2)\n",
    "plt.imshow(X_raw[900].reshape(img_size, img_size))\n",
    "plt.axis('off')"
   ]
  },
  {
   "cell_type": "code",
   "execution_count": 24,
   "metadata": {},
   "outputs": [],
   "source": [
    "X_train_raw, X_test_raw, Y_train_raw, Y_test_raw = train_test_split(X_raw, Y_raw, test_size=0.15, random_state=42)\n",
    "number_of_train = X_train_raw.shape[0]\n",
    "number_of_test = X_test_raw.shape[0]"
   ]
  },
  {
   "cell_type": "code",
   "execution_count": 25,
   "metadata": {},
   "outputs": [
    {
     "name": "stdout",
     "output_type": "stream",
     "text": [
      "(1752, 64, 64)\n",
      "(310, 64, 64)\n",
      "X train flatten (1752, 4096)\n",
      "X test flatten (310, 4096)\n"
     ]
    }
   ],
   "source": [
    "print(X_train_raw.shape)\n",
    "print(X_test_raw.shape)\n",
    "X_train_flatten = X_train_raw.reshape(number_of_train,X_train_raw.shape[1]*X_train_raw.shape[2])\n",
    "X_test_flatten = X_test_raw.reshape(number_of_test,X_test_raw.shape[1]*X_test_raw.shape[2])\n",
    "print(\"X train flatten\",X_train_flatten.shape)\n",
    "print(\"X test flatten\",X_test_flatten.shape)"
   ]
  },
  {
   "cell_type": "code",
   "execution_count": 26,
   "metadata": {},
   "outputs": [
    {
     "name": "stdout",
     "output_type": "stream",
     "text": [
      "x train:  (4096, 1752)\n",
      "x test:  (4096, 310)\n",
      "y train:  (10, 1752)\n",
      "y test:  (10, 310)\n"
     ]
    }
   ],
   "source": [
    "X_train = X_train_flatten.T\n",
    "X_test = X_test_flatten.T\n",
    "Y_train = Y_train_raw.T\n",
    "Y_test = Y_test_raw.T\n",
    "print(\"x train: \",X_train.shape)\n",
    "print(\"x test: \",X_test.shape)\n",
    "print(\"y train: \",Y_train.shape)\n",
    "print(\"y test: \",Y_test.shape)"
   ]
  },
  {
   "cell_type": "code",
   "execution_count": 31,
   "metadata": {},
   "outputs": [],
   "source": [
    "NN = TwoLayersNeuralNet(4096, 100, 10)"
   ]
  },
  {
   "cell_type": "code",
   "execution_count": 35,
   "metadata": {},
   "outputs": [
    {
     "name": "stdout",
     "output_type": "stream",
     "text": [
      "Loss after iteration 0: 23.535585\n",
      "Loss after iteration 100: 23.310805\n",
      "Loss after iteration 200: 23.160536\n",
      "Loss after iteration 300: 22.939117\n",
      "Loss after iteration 400: 22.787651\n",
      "Loss after iteration 500: 22.605637\n",
      "Loss after iteration 600: 22.414767\n",
      "Loss after iteration 700: 22.261166\n",
      "Loss after iteration 800: 22.092176\n",
      "Loss after iteration 900: 21.874395\n",
      "Loss after iteration 1000: 21.699636\n",
      "Loss after iteration 1100: 21.516431\n",
      "Loss after iteration 1200: 21.339453\n",
      "Loss after iteration 1300: 21.184664\n",
      "Loss after iteration 1400: 20.954737\n",
      "Loss after iteration 1500: 20.854184\n",
      "Loss after iteration 1600: 20.667304\n",
      "Loss after iteration 1700: 20.487780\n",
      "Loss after iteration 1800: 20.501219\n",
      "Loss after iteration 1900: 20.207968\n",
      "Loss after iteration 2000: 20.012187\n",
      "Loss after iteration 2100: 19.873072\n",
      "Loss after iteration 2200: 19.661889\n",
      "Loss after iteration 2300: 19.721855\n",
      "Loss after iteration 2400: 19.375212\n",
      "Loss after iteration 2500: 19.222986\n",
      "Loss after iteration 2600: 19.083330\n",
      "Loss after iteration 2700: 18.994614\n",
      "Loss after iteration 2800: 18.764617\n",
      "Loss after iteration 2900: 19.135989\n",
      "Loss after iteration 3000: 18.454090\n",
      "Loss after iteration 3100: 18.345802\n",
      "Loss after iteration 3200: 18.198674\n",
      "Loss after iteration 3300: 18.056942\n",
      "Loss after iteration 3400: 17.891285\n",
      "Loss after iteration 3500: 18.577282\n",
      "Loss after iteration 3600: 18.120433\n",
      "Loss after iteration 3700: 17.932918\n",
      "Loss after iteration 3800: 17.755896\n",
      "Loss after iteration 3900: 17.605130\n",
      "Loss after iteration 4000: 17.461782\n",
      "Loss after iteration 4100: 17.306391\n",
      "Loss after iteration 4200: 17.167461\n",
      "Loss after iteration 4300: 16.953797\n",
      "Loss after iteration 4400: 16.810672\n",
      "Loss after iteration 4500: 16.680203\n",
      "Loss after iteration 4600: 16.521912\n",
      "Loss after iteration 4700: 16.384177\n",
      "Loss after iteration 4800: 16.259227\n",
      "Loss after iteration 4900: 16.060909\n",
      "Loss after iteration 5000: 15.969386\n",
      "Loss after iteration 5100: 15.836611\n",
      "Loss after iteration 5200: 15.668049\n",
      "Loss after iteration 5300: 15.538614\n",
      "Loss after iteration 5400: 15.421607\n",
      "Loss after iteration 5500: 15.300817\n",
      "Loss after iteration 5600: 15.150597\n",
      "Loss after iteration 5700: 15.034454\n",
      "Loss after iteration 5800: 14.888884\n",
      "Loss after iteration 5900: 14.809747\n",
      "Loss after iteration 6000: 14.663245\n",
      "Loss after iteration 6100: 14.514478\n",
      "Loss after iteration 6200: 14.426638\n",
      "Loss after iteration 6300: 14.349886\n",
      "Loss after iteration 6400: 14.172000\n",
      "Loss after iteration 6500: 14.229266\n",
      "Loss after iteration 6600: 13.967069\n",
      "Loss after iteration 6700: 13.836722\n",
      "Loss after iteration 6800: 13.724696\n",
      "Loss after iteration 6900: 13.620495\n",
      "Loss after iteration 7000: 13.523730\n",
      "Loss after iteration 7100: 13.394871\n",
      "Loss after iteration 7200: 13.320827\n",
      "Loss after iteration 7300: 13.187835\n",
      "Loss after iteration 7400: 13.064997\n",
      "Loss after iteration 7500: 13.004225\n",
      "Loss after iteration 7600: 12.886148\n",
      "Loss after iteration 7700: 12.748579\n",
      "Loss after iteration 7800: 12.658685\n",
      "Loss after iteration 7900: 12.564577\n",
      "Loss after iteration 8000: 13.536551\n",
      "Loss after iteration 8100: 13.201870\n",
      "Loss after iteration 8200: 13.045706\n",
      "Loss after iteration 8300: 12.845649\n",
      "Loss after iteration 8400: 12.769398\n",
      "Loss after iteration 8500: 12.633596\n",
      "Loss after iteration 8600: 12.417527\n",
      "Loss after iteration 8700: 12.296944\n",
      "Loss after iteration 8800: 12.207097\n",
      "Loss after iteration 8900: 12.044932\n",
      "Loss after iteration 9000: 12.090041\n",
      "Loss after iteration 9100: 11.884972\n",
      "Loss after iteration 9200: 11.665277\n",
      "Loss after iteration 9300: 11.556048\n",
      "Loss after iteration 9400: 11.441854\n",
      "Loss after iteration 9500: 11.356077\n",
      "Loss after iteration 9600: 11.270617\n",
      "Loss after iteration 9700: 11.193278\n",
      "Loss after iteration 9800: 11.101225\n",
      "Loss after iteration 9900: 10.980730\n"
     ]
    }
   ],
   "source": [
    "NN.train(X_train, Y_train, n_iteration=10000, learning_rate=0.02, lambda_l2=0.001,\n",
    "        momentum=0.5, n_batch=500)"
   ]
  },
  {
   "cell_type": "code",
   "execution_count": 36,
   "metadata": {},
   "outputs": [
    {
     "data": {
      "text/plain": [
       "[<matplotlib.lines.Line2D at 0x1244740b8>]"
      ]
     },
     "execution_count": 36,
     "metadata": {},
     "output_type": "execute_result"
    },
    {
     "data": {
      "image/png": "[encoded data removed]",
      "text/plain": [
       "<Figure size 432x288 with 1 Axes>"
      ]
     },
     "metadata": {
      "needs_background": "light"
     },
     "output_type": "display_data"
    }
   ],
   "source": [
    "plt.plot(NN.losses)"
   ]
  },
  {
   "cell_type": "code",
   "execution_count": 38,
   "metadata": {},
   "outputs": [
    {
     "name": "stdout",
     "output_type": "stream",
     "text": [
      "train accuracy: 91.43835616438356 %\n",
      "test accuracy: 73.2258064516129 %\n"
     ]
    }
   ],
   "source": [
    "# predict\n",
    "Y_pred_test = NN.predict(X_test)\n",
    "Y_pred_train = NN.predict(X_train)\n",
    "\n",
    "print(\"train accuracy: {} %\".format(100 - np.mean(np.sum(abs(Y_pred_train - Y_train),axis=0)/2) * 100))\n",
    "print(\"test accuracy: {} %\".format(100 - np.mean(np.sum(abs(Y_pred_test - Y_test),axis=0)/2) * 100))"
   ]
  },
  {
   "cell_type": "markdown",
   "metadata": {},
   "source": [
    "#### Below is old basic one"
   ]
  },
  {
   "cell_type": "code",
   "execution_count": 66,
   "metadata": {},
   "outputs": [],
   "source": [
    "NN = TwoLayersNeuralNet(4096, 100, 10)"
   ]
  },
  {
   "cell_type": "code",
   "execution_count": 70,
   "metadata": {},
   "outputs": [
    {
     "name": "stdout",
     "output_type": "stream",
     "text": [
      "Error after iteration 0: 1.101182\n",
      "Error after iteration 100: 1.094840\n",
      "Error after iteration 200: 1.094981\n",
      "Error after iteration 300: 1.061966\n",
      "Error after iteration 400: 1.017980\n",
      "Error after iteration 500: 1.034033\n",
      "Error after iteration 600: 1.035134\n",
      "Error after iteration 700: 1.039948\n",
      "Error after iteration 800: 1.003666\n",
      "Error after iteration 900: 1.045204\n",
      "Error after iteration 1000: 1.022525\n",
      "Error after iteration 1100: 1.016106\n",
      "Error after iteration 1200: 0.938636\n",
      "Error after iteration 1300: 0.946592\n",
      "Error after iteration 1400: 0.952456\n",
      "Error after iteration 1500: 0.946019\n",
      "Error after iteration 1600: 0.933021\n",
      "Error after iteration 1700: 0.972602\n",
      "Error after iteration 1800: 0.905326\n",
      "Error after iteration 1900: 0.928921\n",
      "Error after iteration 2000: 0.892441\n",
      "Error after iteration 2100: 0.926284\n",
      "Error after iteration 2200: 0.888265\n",
      "Error after iteration 2300: 0.925844\n",
      "Error after iteration 2400: 0.873165\n",
      "Error after iteration 2500: 0.821163\n",
      "Error after iteration 2600: 0.828787\n",
      "Error after iteration 2700: 0.853160\n",
      "Error after iteration 2800: 0.828461\n",
      "Error after iteration 2900: 0.781468\n",
      "Error after iteration 3000: 0.789089\n",
      "Error after iteration 3100: 0.861817\n",
      "Error after iteration 3200: 0.841059\n",
      "Error after iteration 3300: 0.813698\n",
      "Error after iteration 3400: 0.832476\n",
      "Error after iteration 3500: 0.794169\n",
      "Error after iteration 3600: 0.880543\n",
      "Error after iteration 3700: 0.836126\n",
      "Error after iteration 3800: 0.774397\n",
      "Error after iteration 3900: 0.763919\n",
      "Error after iteration 4000: 0.779340\n",
      "Error after iteration 4100: 0.750579\n",
      "Error after iteration 4200: 0.761373\n",
      "Error after iteration 4300: 0.665581\n",
      "Error after iteration 4400: 0.704268\n",
      "Error after iteration 4500: 0.689696\n",
      "Error after iteration 4600: 0.731849\n",
      "Error after iteration 4700: 0.760276\n",
      "Error after iteration 4800: 0.744524\n",
      "Error after iteration 4900: 0.665654\n",
      "Error after iteration 5000: 0.715589\n",
      "Error after iteration 5100: 0.706649\n",
      "Error after iteration 5200: 0.707351\n",
      "Error after iteration 5300: 0.666980\n",
      "Error after iteration 5400: 0.723268\n",
      "Error after iteration 5500: 0.645205\n",
      "Error after iteration 5600: 0.673882\n",
      "Error after iteration 5700: 0.649193\n",
      "Error after iteration 5800: 0.613437\n",
      "Error after iteration 5900: 0.716472\n",
      "Error after iteration 6000: 0.699595\n",
      "Error after iteration 6100: 0.656130\n",
      "Error after iteration 6200: 0.633102\n",
      "Error after iteration 6300: 0.683147\n",
      "Error after iteration 6400: 0.641569\n",
      "Error after iteration 6500: 0.554840\n",
      "Error after iteration 6600: 0.640605\n",
      "Error after iteration 6700: 0.604648\n",
      "Error after iteration 6800: 0.630866\n",
      "Error after iteration 6900: 0.590931\n",
      "Error after iteration 7000: 0.679316\n",
      "Error after iteration 7100: 0.614937\n",
      "Error after iteration 7200: 0.652729\n",
      "Error after iteration 7300: 0.515331\n",
      "Error after iteration 7400: 0.623961\n",
      "Error after iteration 7500: 0.620687\n",
      "Error after iteration 7600: 0.616738\n",
      "Error after iteration 7700: 0.573393\n",
      "Error after iteration 7800: 0.519020\n",
      "Error after iteration 7900: 0.552625\n",
      "Error after iteration 8000: 0.570068\n",
      "Error after iteration 8100: 0.582025\n",
      "Error after iteration 8200: 0.568760\n",
      "Error after iteration 8300: 0.579721\n",
      "Error after iteration 8400: 0.594104\n",
      "Error after iteration 8500: 0.499137\n",
      "Error after iteration 8600: 0.575073\n",
      "Error after iteration 8700: 0.600945\n",
      "Error after iteration 8800: 0.533535\n",
      "Error after iteration 8900: 0.605827\n",
      "Error after iteration 9000: 0.610248\n",
      "Error after iteration 9100: 0.430807\n",
      "Error after iteration 9200: 0.556094\n",
      "Error after iteration 9300: 0.587085\n",
      "Error after iteration 9400: 0.580548\n",
      "Error after iteration 9500: 0.557048\n",
      "Error after iteration 9600: 0.539520\n",
      "Error after iteration 9700: 0.555864\n",
      "Error after iteration 9800: 0.575388\n",
      "Error after iteration 9900: 0.516539\n",
      "Error after iteration 10000: 0.554519\n",
      "Error after iteration 10100: 0.486846\n",
      "Error after iteration 10200: 0.523870\n",
      "Error after iteration 10300: 0.529001\n",
      "Error after iteration 10400: 0.492492\n",
      "Error after iteration 10500: 0.493418\n",
      "Error after iteration 10600: 0.494749\n",
      "Error after iteration 10700: 0.509923\n",
      "Error after iteration 10800: 0.519767\n",
      "Error after iteration 10900: 0.472980\n",
      "Error after iteration 11000: 0.504876\n",
      "Error after iteration 11100: 0.548960\n",
      "Error after iteration 11200: 0.522146\n",
      "Error after iteration 11300: 0.473602\n",
      "Error after iteration 11400: 0.479111\n",
      "Error after iteration 11500: 0.487370\n",
      "Error after iteration 11600: 0.483157\n",
      "Error after iteration 11700: 0.500415\n",
      "Error after iteration 11800: 0.463716\n",
      "Error after iteration 11900: 0.454589\n",
      "Error after iteration 12000: 0.465994\n",
      "Error after iteration 12100: 0.498566\n",
      "Error after iteration 12200: 0.424063\n",
      "Error after iteration 12300: 0.478700\n",
      "Error after iteration 12400: 0.445688\n",
      "Error after iteration 12500: 0.488306\n",
      "Error after iteration 12600: 0.483807\n",
      "Error after iteration 12700: 0.435222\n",
      "Error after iteration 12800: 0.388894\n",
      "Error after iteration 12900: 0.418013\n",
      "Error after iteration 13000: 0.400144\n",
      "Error after iteration 13100: 0.415540\n",
      "Error after iteration 13200: 0.468097\n",
      "Error after iteration 13300: 0.417706\n",
      "Error after iteration 13400: 0.410040\n",
      "Error after iteration 13500: 0.421521\n",
      "Error after iteration 13600: 0.459394\n",
      "Error after iteration 13700: 0.441518\n",
      "Error after iteration 13800: 0.425151\n",
      "Error after iteration 13900: 0.433878\n",
      "Error after iteration 14000: 0.387334\n",
      "Error after iteration 14100: 0.367718\n",
      "Error after iteration 14200: 0.474522\n",
      "Error after iteration 14300: 0.436423\n",
      "Error after iteration 14400: 0.425204\n",
      "Error after iteration 14500: 0.396508\n",
      "Error after iteration 14600: 0.445933\n",
      "Error after iteration 14700: 0.425898\n",
      "Error after iteration 14800: 0.360483\n",
      "Error after iteration 14900: 0.427248\n",
      "Error after iteration 15000: 0.441931\n",
      "Error after iteration 15100: 0.415746\n",
      "Error after iteration 15200: 0.401735\n",
      "Error after iteration 15300: 0.422751\n",
      "Error after iteration 15400: 0.432022\n",
      "Error after iteration 15500: 0.378343\n",
      "Error after iteration 15600: 0.371135\n",
      "Error after iteration 15700: 0.382825\n",
      "Error after iteration 15800: 0.357061\n",
      "Error after iteration 15900: 0.364091\n",
      "Error after iteration 16000: 0.373147\n",
      "Error after iteration 16100: 0.378299\n",
      "Error after iteration 16200: 0.388419\n",
      "Error after iteration 16300: 0.405900\n",
      "Error after iteration 16400: 0.360453\n",
      "Error after iteration 16500: 0.411071\n",
      "Error after iteration 16600: 0.354419\n",
      "Error after iteration 16700: 0.391530\n",
      "Error after iteration 16800: 0.354912\n",
      "Error after iteration 16900: 0.364064\n",
      "Error after iteration 17000: 0.379685\n",
      "Error after iteration 17100: 0.342840\n",
      "Error after iteration 17200: 0.345786\n",
      "Error after iteration 17300: 0.312747\n",
      "Error after iteration 17400: 0.348513\n",
      "Error after iteration 17500: 0.389081\n",
      "Error after iteration 17600: 0.386620\n",
      "Error after iteration 17700: 0.342412\n",
      "Error after iteration 17800: 0.353460\n",
      "Error after iteration 17900: 0.376996\n",
      "Error after iteration 18000: 0.334969\n",
      "Error after iteration 18100: 0.363488\n",
      "Error after iteration 18200: 0.300819\n",
      "Error after iteration 18300: 0.342774\n",
      "Error after iteration 18400: 0.384548\n",
      "Error after iteration 18500: 0.349862\n",
      "Error after iteration 18600: 0.306733\n",
      "Error after iteration 18700: 0.315319\n",
      "Error after iteration 18800: 0.312872\n",
      "Error after iteration 18900: 0.310814\n",
      "Error after iteration 19000: 0.335055\n",
      "Error after iteration 19100: 0.326227\n",
      "Error after iteration 19200: 0.343831\n",
      "Error after iteration 19300: 0.371147\n",
      "Error after iteration 19400: 0.364169\n",
      "Error after iteration 19500: 0.317947\n",
      "Error after iteration 19600: 0.325934\n",
      "Error after iteration 19700: 0.288703\n",
      "Error after iteration 19800: 0.296969\n",
      "Error after iteration 19900: 0.323095\n"
     ]
    }
   ],
   "source": [
    "NN.train(X_train, Y_train, n_epoch=20000, learning_rate=0.02, n_batch=500)"
   ]
  },
  {
   "cell_type": "code",
   "execution_count": 71,
   "metadata": {},
   "outputs": [
    {
     "data": {
      "text/plain": [
       "[<matplotlib.lines.Line2D at 0x133016438>]"
      ]
     },
     "execution_count": 71,
     "metadata": {},
     "output_type": "execute_result"
    },
    {
     "data": {
      "image/png": "[encoded data removed]",
      "text/plain": [
       "<Figure size 432x288 with 1 Axes>"
      ]
     },
     "metadata": {
      "needs_background": "light"
     },
     "output_type": "display_data"
    }
   ],
   "source": [
    "plt.plot(NN.errors)"
   ]
  },
  {
   "cell_type": "code",
   "execution_count": 72,
   "metadata": {},
   "outputs": [
    {
     "name": "stdout",
     "output_type": "stream",
     "text": [
      "train accuracy: 91.66666666666667 %\n",
      "test accuracy: 60.96774193548387 %\n"
     ]
    }
   ],
   "source": [
    "# predict\n",
    "Y_pred_test = NN.predict(X_test)\n",
    "Y_pred_train = NN.predict(X_train)\n",
    "\n",
    "print(\"train accuracy: {} %\".format(100 - np.mean(np.sum(abs(Y_pred_train - Y_train),axis=0)/2) * 100))\n",
    "print(\"test accuracy: {} %\".format(100 - np.mean(np.sum(abs(Y_pred_test - Y_test),axis=0)/2) * 100))"
   ]
  },
  {
   "cell_type": "code",
   "execution_count": null,
   "metadata": {},
   "outputs": [],
   "source": []
  },
  {
   "cell_type": "code",
   "execution_count": null,
   "metadata": {},
   "outputs": [],
   "source": []
  },
  {
   "cell_type": "code",
   "execution_count": null,
   "metadata": {},
   "outputs": [],
   "source": []
  },
  {
   "cell_type": "code",
   "execution_count": null,
   "metadata": {},
   "outputs": [],
   "source": []
  },
  {
   "cell_type": "code",
   "execution_count": null,
   "metadata": {},
   "outputs": [],
   "source": []
  },
  {
   "cell_type": "code",
   "execution_count": 22,
   "metadata": {},
   "outputs": [
    {
     "name": "stdout",
     "output_type": "stream",
     "text": [
      "X shape:  (410, 64, 64)\n",
      "Y shape:  (410, 1)\n"
     ]
    }
   ],
   "source": [
    "# Join a sequence of arrays along an row axis.\n",
    "# from 0 to 204 is zero sign and from 205 to 410 is one sign\n",
    "X = np.concatenate((x_l[204:409], x_l[822:1027] ), axis=0) \n",
    "z = np.zeros(205)\n",
    "o = np.ones(205)\n",
    "Y = np.concatenate((z, o), axis=0).reshape(X.shape[0],1)\n",
    "print(\"X shape: \" , X.shape)\n",
    "print(\"Y shape: \" , Y.shape)"
   ]
  },
  {
   "cell_type": "code",
   "execution_count": 33,
   "metadata": {},
   "outputs": [
    {
     "data": {
      "text/plain": [
       "(2062, 64, 64)"
      ]
     },
     "execution_count": 33,
     "metadata": {},
     "output_type": "execute_result"
    }
   ],
   "source": [
    "X_l.shape"
   ]
  },
  {
   "cell_type": "code",
   "execution_count": 26,
   "metadata": {},
   "outputs": [],
   "source": [
    "# Then lets create x_train, y_train, x_test, y_test arrays\n",
    "from sklearn.model_selection import train_test_split\n",
    "X_train, X_test, Y_train, Y_test = train_test_split(X, Y, test_size=0.15, random_state=42)\n",
    "number_of_train = X_train.shape[0]\n",
    "number_of_test = X_test.shape[0]"
   ]
  },
  {
   "cell_type": "code",
   "execution_count": 34,
   "metadata": {},
   "outputs": [
    {
     "name": "stdout",
     "output_type": "stream",
     "text": [
      "(348, 64, 64)\n",
      "(62, 64, 64)\n",
      "X train flatten (348, 4096)\n",
      "X test flatten (62, 4096)\n"
     ]
    }
   ],
   "source": [
    "print(X_train.shape)\n",
    "print(X_test.shape)\n",
    "X_train_flatten = X_train.reshape(number_of_train,X_train.shape[1]*X_train.shape[2])\n",
    "X_test_flatten = X_test .reshape(number_of_test,X_test.shape[1]*X_test.shape[2])\n",
    "print(\"X train flatten\",X_train_flatten.shape)\n",
    "print(\"X test flatten\",X_test_flatten.shape)"
   ]
  },
  {
   "cell_type": "code",
   "execution_count": 37,
   "metadata": {},
   "outputs": [
    {
     "name": "stdout",
     "output_type": "stream",
     "text": [
      "x train:  (4096, 348)\n",
      "x test:  (4096, 62)\n",
      "y train:  (1, 348)\n",
      "y test:  (1, 62)\n"
     ]
    }
   ],
   "source": [
    "x_train = X_train_flatten.T\n",
    "x_test = X_test_flatten.T\n",
    "y_train = Y_train.T\n",
    "y_test = Y_test.T\n",
    "print(\"x train: \",x_train.shape)\n",
    "print(\"x test: \",x_test.shape)\n",
    "print(\"y train: \",y_train.shape)\n",
    "print(\"y test: \",y_test.shape)"
   ]
  },
  {
   "cell_type": "markdown",
   "metadata": {},
   "source": [
    "$\n",
    "X_{train} = \\begin{bmatrix}\n",
    "x_1^{(1)} & x_1^{(2)} & \\cdots & x_1^{(348)} \\\\\n",
    "x_2^{(1)} & x_2^{(2)} & \\cdots & x_2^{(348)} \\\\\n",
    "\\vdots & \\vdots & \\ddots & \\vdots \\\\\n",
    "x_{4096}^{(1)} & x_{4096}^{(2)} & \\cdots & x_{4096}^{(348)} \\\\\n",
    "\\end{bmatrix}\n",
    "$\n",
    "$\n",
    "\\,\\,\\,\\,\\, {\\bf y}_{train} = \n",
    "\\begin{bmatrix}\n",
    "y^{(1)} & y^{(2)} & \\cdots & y^{(348)} \\\\\n",
    "\\end{bmatrix}\n",
    "$"
   ]
  },
  {
   "cell_type": "code",
   "execution_count": 39,
   "metadata": {},
   "outputs": [],
   "source": [
    "def initialize_weights_and_bias(dimension):\n",
    "    w = np.full((dimension,1),0.01)\n",
    "    b = 0.0\n",
    "    return w, b"
   ]
  },
  {
   "cell_type": "markdown",
   "metadata": {},
   "source": [
    "$\n",
    "{\\bf w} = \\begin{bmatrix}\n",
    "w_1 \\\\\n",
    "w_2 \\\\\n",
    "\\vdots \\\\\n",
    "w_{4096} \\\\\n",
    "\\end{bmatrix}\n",
    "$\n",
    "\n",
    "Thus, we can calculate $z$ for all train data in a single matrix computation.\n",
    "\n",
    "$\n",
    "{\\bf z} = {\\bf w}^T X_{train} + b = \n",
    "\\begin{bmatrix}\n",
    "w_1 & w_2 & \\cdots & w_{4096} \\\\\n",
    "\\end{bmatrix}\n",
    "\\begin{bmatrix}\n",
    "x_1^{(1)} & x_1^{(2)} & \\cdots & x_1^{(348)} \\\\\n",
    "x_2^{(1)} & x_2^{(2)} & \\cdots & x_2^{(348)} \\\\\n",
    "\\vdots & \\vdots & \\ddots & \\vdots \\\\\n",
    "x_{4096}^{(1)} & x_{4096}^{(2)} & \\cdots & x_{4096}^{(348)} \\\\\n",
    "\\end{bmatrix} + b\n",
    "$\n",
    "\n",
    "$\n",
    "= \\begin{bmatrix}\n",
    "w_1x_1^{(1)} + w_2x_2^{(1)} + \\cdots + w_{4096}x_{4096}^{(1)} + b &\n",
    "w_1x_1^{(2)} + w_2x_2^{(2)} + \\cdots + w_{4096}x_{4096}^{(2)} + b &\n",
    "\\cdots &\n",
    "w_1x_1^{(348)} + w_2x_2^{(348)} + \\cdots + w_{4096}x_{4096}^{(348)} + b\n",
    "\\end{bmatrix}\n",
    "$"
   ]
  },
  {
   "cell_type": "code",
   "execution_count": 77,
   "metadata": {},
   "outputs": [
    {
     "name": "stdout",
     "output_type": "stream",
     "text": [
      "z shape: (1, 348)\n"
     ]
    }
   ],
   "source": [
    "# check \n",
    "w,b = initialize_weights_and_bias(4096)\n",
    "z = np.dot(w.T,x_train) + b\n",
    "print(\"z shape:\",z.shape)"
   ]
  },
  {
   "cell_type": "code",
   "execution_count": 78,
   "metadata": {},
   "outputs": [],
   "source": [
    "# calculation of z\n",
    "#z = np.dot(w.T,x_train)+b\n",
    "def sigmoid(z):\n",
    "    y_head = 1/(1+np.exp(-z)) # with np, this calc can be applied to array.\n",
    "    return y_head"
   ]
  },
  {
   "cell_type": "code",
   "execution_count": 79,
   "metadata": {},
   "outputs": [
    {
     "name": "stdout",
     "output_type": "stream",
     "text": [
      "y_head shape: (1, 348)\n"
     ]
    }
   ],
   "source": [
    "# check\n",
    "y_head = sigmoid(z)\n",
    "print(\"y_head shape:\",y_head.shape)"
   ]
  },
  {
   "cell_type": "code",
   "execution_count": 138,
   "metadata": {},
   "outputs": [],
   "source": [
    "def cost_func(y_head,y_train):\n",
    "    # array*array is NOT a dot product. Just element by element multiplication.\n",
    "    #     np.array([[1,2]])*np.array([[10,100]]) -> array([[  10,  200]])\n",
    "    #     np.dot(np.array([[1,2]]).T,np.array([[10,100]])) -> array([[ 10, 100],[ 20, 200]])\n",
    "    loss = -np.multiply(y_train,np.log(y_head))-np.multiply((1-y_train),np.log(1-y_head))\n",
    "    cost = (np.sum(loss))/loss.shape[1]\n",
    "    return cost"
   ]
  },
  {
   "cell_type": "markdown",
   "metadata": {},
   "source": [
    "$$J = -\\frac{1}{m}\\sum_{i=1}^m \\{ y^{(i)} log(h_w(x^{(i)})) + (1-y^{(i)})log(1-h_w(x^{(i)})) \\}$$"
   ]
  },
  {
   "cell_type": "code",
   "execution_count": 139,
   "metadata": {},
   "outputs": [],
   "source": [
    "# Forward propagation steps:\n",
    "# find z = w.T*x+b\n",
    "# y_head = sigmoid(z)\n",
    "# loss(error) = loss(y,y_head)\n",
    "# cost = sum(loss)\n",
    "def forward_propagation(w,b,x_train,y_train):\n",
    "    z = np.dot(w.T,x_train) + b\n",
    "    y_head = sigmoid(z) # probabilistic 0-1\n",
    "    cost = cost_func(y_head,y_train)\n",
    "    return cost "
   ]
  },
  {
   "cell_type": "code",
   "execution_count": 140,
   "metadata": {},
   "outputs": [],
   "source": [
    "# In backward propagation we will use y_head that found in forward progation\n",
    "# Therefore instead of writing backward propagation method, lets combine forward propagation and backward propagation\n",
    "def forward_backward_propagation(w,b,x_train,y_train):\n",
    "    # forward propagation\n",
    "    z = np.dot(w.T,x_train) + b\n",
    "    y_head = sigmoid(z)\n",
    "    cost = cost_func(y_head,y_train)\n",
    "    # backward propagation\n",
    "    derivative_weight = (np.dot(x_train,((y_head-y_train).T)))/x_train.shape[1] # x_train.shape[1]  is for scaling\n",
    "    derivative_bias = np.sum(y_head-y_train)/x_train.shape[1]                 # x_train.shape[1]  is for scaling\n",
    "    gradients = {\"derivative_weight\": derivative_weight,\"derivative_bias\": derivative_bias}\n",
    "    return cost,gradients"
   ]
  },
  {
   "cell_type": "markdown",
   "metadata": {},
   "source": [
    "$$J = -\\frac{1}{m}\\sum_{i=1}^m \\{ y^{(i)} log(h_w(x^{(i)})) + (1-y^{(i)})log(1-h_w(x^{(i)})) \\}$$\n",
    "\n",
    "$$\\frac{\\partial J}{\\partial w_j} = \\frac{\\partial J}{\\partial h_w}\\frac{\\partial h_w}{\\partial w_j}$$\n",
    "\n",
    "$$\\frac{\\partial J}{\\partial h_w} = \\frac{\\partial}{\\partial h_w}\\{-\\frac{1}{m}\\sum_{i=1}^m \\{ y^{(i)} log(h_w(x^{(i)})) + (1-y^{(i)})log(1-h_w(x^{(i)})) \\} \\}$$\n",
    "\n",
    "$$= -\\frac{1}{m}\\sum_{i=1}^m \\{ \\frac{y^{(i)}}{h_w(x^{(i)})} - \\frac{1-y^{(i)}}{1-h_w(x^{(i)})} \\}$$\n",
    "\n",
    "Let : $v = 1 + exp(-{\\bf w}^T{\\bf x}-b)$, then $h_w = \\frac{1}{v}$\n",
    "\n",
    "$$\\frac{\\partial h_w}{\\partial w_j} = \\frac{\\partial h_w}{\\partial v}\\frac{\\partial v}{\\partial w_j}$$\n",
    "\n",
    "$$= - \\frac{1}{v^2}\\cdot -x_jexp(-{\\bf w}^T{\\bf x}-b) = \\frac{x_jexp(-{\\bf w}^T{\\bf x}-b)}{(1 + exp(-{\\bf w}^T{\\bf x}-b))^2}$$\n",
    "\n",
    "$$= \\frac{1}{1 + exp(-{\\bf w}^T{\\bf x}-b)}\\frac{exp(-{\\bf w}^T{\\bf x}-b)}{1 + exp(-{\\bf w}^T{\\bf x}-b)}x_j$$\n",
    "\n",
    "$$= h_w(x^{(i)})(1-h_w(x^{(i)}))x_j$$\n",
    "\n",
    "\n",
    "$$\\frac{\\partial J}{\\partial w_j} = \\frac{\\partial J}{\\partial h_w}\\frac{\\partial h_w}{\\partial w_j} = -\\frac{1}{m}\\sum_{i=1}^m \\{ \\frac{y^{(i)}}{h_w(x^{(i)})} - \\frac{1-y^{(i)}}{1-h_w(x^{(i)})} \\} h_w(x^{(i)})(1-h_w(x^{(i)}))x_j$$\n",
    "\n",
    "$$= -\\frac{1}{m}\\sum_{i=1}^m \\{y^{(i)}(1-h_w(x^{(i)})) - (1-y^{(i)})h_w(x^{(i)}) \\}x_j$$\n",
    "\n",
    "$$= -\\frac{1}{m}\\sum_{i=1}^m \\{y^{(i)} - h_w(x^{(i)}) \\}x_j$$\n",
    "\n",
    "$$= \\frac{1}{m}\\sum_{i=1}^m \\{h_w(x^{(i)}) - y^{(i)} \\}x_j$$\n",
    "\n",
    "$$\\frac{\\partial J}{\\partial b} = \\frac{1}{m}\\sum_{i=1}^m \\{h_w(x^{(i)}) - y^{(i)} \\}$$"
   ]
  },
  {
   "cell_type": "markdown",
   "metadata": {},
   "source": [
    "Again, derivatives for all data can be calculated in a single matrix computation.\n",
    "\n",
    "$\n",
    "X_{train} = \\begin{bmatrix}\n",
    "x_1^{(1)} & x_1^{(2)} & \\cdots & x_1^{(348)} \\\\\n",
    "x_2^{(1)} & x_2^{(2)} & \\cdots & x_2^{(348)} \\\\\n",
    "\\vdots & \\vdots & \\ddots & \\vdots \\\\\n",
    "x_{4096}^{(1)} & x_{4096}^{(2)} & \\cdots & x_{4096}^{(348)} \\\\\n",
    "\\end{bmatrix}\n",
    "$\n",
    "$\n",
    "\\,\\,\\,\\,\\, {\\bf y}_{head} - {\\bf y}_{train} = \n",
    "\\begin{bmatrix}\n",
    "y_h^{(1)} - y^{(1)} & y_h^{(2)} - y^{(2)} & \\cdots & y_h^{(348)} - y^{(348)} \\\\\n",
    "\\end{bmatrix}\n",
    "$\n",
    "\n",
    "$\n",
    "X_{train}\\cdot({\\bf y}_{head} - {\\bf y}_{train})^T = \n",
    "\\begin{bmatrix}\n",
    "x_1^{(1)} & x_1^{(2)} & \\cdots & x_1^{(348)} \\\\\n",
    "x_2^{(1)} & x_2^{(2)} & \\cdots & x_2^{(348)} \\\\\n",
    "\\vdots & \\vdots & \\ddots & \\vdots \\\\\n",
    "x_{4096}^{(1)} & x_{4096}^{(2)} & \\cdots & x_{4096}^{(348)} \\\\\n",
    "\\end{bmatrix}\n",
    "\\begin{bmatrix}\n",
    "y_h^{(1)} - y^{(1)} \\\\\n",
    "y_h^{(2)} - y^{(2)} \\\\\n",
    "\\vdots \\\\ \n",
    "y_h^{(348)} - y^{(348)} \\\\\n",
    "\\end{bmatrix}\n",
    "$\n",
    "\n",
    "$\n",
    "= \\begin{bmatrix}\n",
    "(y_h^{(1)} - y^{(1)})x_1^{(1)} + (y_h^{(2)} - y^{(2)})x_1^{(2)} + \\cdots + (y_h^{(348)} - y^{(348)})x_1^{(348)} \\\\\n",
    "(y_h^{(1)} - y^{(1)})x_2^{(1)} + (y_h^{(2)} - y^{(2)})x_2^{(2)} + \\cdots + (y_h^{(348)} - y^{(348)})x_2^{(348)} \\\\\n",
    "\\vdots \\\\ \n",
    "(y_h^{(1)} - y^{(1)})x_{4096}^{(1)} + (y_h^{(2)} - y^{(2)})x_{4096}^{(2)} + \\cdots + (y_h^{(348)} - y^{(348)})x_{4096}^{(348)} \\\\\n",
    "\\end{bmatrix}\n",
    "$"
   ]
  },
  {
   "cell_type": "code",
   "execution_count": 141,
   "metadata": {},
   "outputs": [],
   "source": [
    "# Updating(learning) parameters\n",
    "def update(w, b, x_train, y_train, learning_rate,number_of_iterarion):\n",
    "    cost_list = []\n",
    "    cost_list2 = []\n",
    "    index = []\n",
    "    # updating(learning) parameters is number_of_iterarion times\n",
    "    for i in range(number_of_iterarion):\n",
    "        # make forward and backward propagation and find cost and gradients\n",
    "        cost,gradients = forward_backward_propagation(w,b,x_train,y_train)\n",
    "        cost_list.append(cost)\n",
    "        # lets update\n",
    "        w = w - learning_rate * gradients[\"derivative_weight\"]\n",
    "        b = b - learning_rate * gradients[\"derivative_bias\"]\n",
    "        if i % 10 == 0:\n",
    "            cost_list2.append(cost)\n",
    "            index.append(i)\n",
    "            print (\"Cost after iteration %i: %f\" %(i, cost))\n",
    "    # we update(learn) parameters weights and bias\n",
    "    parameters = {\"weight\": w,\"bias\": b}\n",
    "    plt.plot(index,cost_list2)\n",
    "    plt.xticks(index,rotation='vertical')\n",
    "    plt.xlabel(\"Number of Iterarion\")\n",
    "    plt.ylabel(\"Cost\")\n",
    "    plt.show()\n",
    "    return parameters, gradients, cost_list\n",
    "#parameters, gradients, cost_list = update(w, b, x_train, y_train, learning_rate = 0.009,number_of_iterarion = 200)"
   ]
  },
  {
   "cell_type": "code",
   "execution_count": 142,
   "metadata": {},
   "outputs": [],
   "source": [
    " # prediction\n",
    "def predict(w,b,x_test):\n",
    "    # x_test is a input for forward propagation\n",
    "    z = sigmoid(np.dot(w.T,x_test)+b)\n",
    "    Y_prediction = np.zeros((1,x_test.shape[1]))\n",
    "    # if z is bigger than 0.5, our prediction is sign one (y_head=1),\n",
    "    # if z is smaller than 0.5, our prediction is sign zero (y_head=0),\n",
    "    for i in range(z.shape[1]):\n",
    "        if z[0,i]<= 0.5:\n",
    "            Y_prediction[0,i] = 0\n",
    "        else:\n",
    "            Y_prediction[0,i] = 1\n",
    "\n",
    "    return Y_prediction\n",
    "# predict(parameters[\"weight\"],parameters[\"bias\"],x_test)"
   ]
  },
  {
   "cell_type": "code",
   "execution_count": 143,
   "metadata": {},
   "outputs": [
    {
     "name": "stdout",
     "output_type": "stream",
     "text": [
      "Cost after iteration 0: 14.014222\n",
      "Cost after iteration 10: 2.544689\n",
      "Cost after iteration 20: 2.577950\n",
      "Cost after iteration 30: 2.397999\n",
      "Cost after iteration 40: 2.185019\n",
      "Cost after iteration 50: 1.968348\n",
      "Cost after iteration 60: 1.754195\n",
      "Cost after iteration 70: 1.535079\n",
      "Cost after iteration 80: 1.297567\n",
      "Cost after iteration 90: 1.031919\n",
      "Cost after iteration 100: 0.737019\n",
      "Cost after iteration 110: 0.441355\n",
      "Cost after iteration 120: 0.252278\n",
      "Cost after iteration 130: 0.205168\n",
      "Cost after iteration 140: 0.196168\n"
     ]
    },
    {
     "data": {
      "image/png": "[encoded data removed]",
      "text/plain": [
       "<Figure size 432x288 with 1 Axes>"
      ]
     },
     "metadata": {
      "needs_background": "light"
     },
     "output_type": "display_data"
    },
    {
     "name": "stdout",
     "output_type": "stream",
     "text": [
      "train accuracy: 92.816091954023 %\n",
      "test accuracy: 93.54838709677419 %\n"
     ]
    }
   ],
   "source": [
    "def logistic_regression(x_train, y_train, x_test, y_test, learning_rate ,  num_iterations):\n",
    "    # initialize\n",
    "    dimension =  x_train.shape[0]  # that is 4096\n",
    "    w,b = initialize_weights_and_bias(dimension)\n",
    "    # do not change learning rate\n",
    "    parameters, gradients, cost_list = update(w, b, x_train, y_train, learning_rate,num_iterations)\n",
    "    \n",
    "    y_prediction_test = predict(parameters[\"weight\"],parameters[\"bias\"],x_test)\n",
    "    y_prediction_train = predict(parameters[\"weight\"],parameters[\"bias\"],x_train)\n",
    "\n",
    "    # Print train/test Errors\n",
    "    print(\"train accuracy: {} %\".format(100 - np.mean(np.abs(y_prediction_train - y_train)) * 100))\n",
    "    print(\"test accuracy: {} %\".format(100 - np.mean(np.abs(y_prediction_test - y_test)) * 100))\n",
    "    \n",
    "logistic_regression(x_train, y_train, x_test, y_test,learning_rate = 0.01, num_iterations = 150)"
   ]
  },
  {
   "cell_type": "markdown",
   "metadata": {},
   "source": [
    "## 2-Layer Neural Network"
   ]
  },
  {
   "cell_type": "code",
   "execution_count": 164,
   "metadata": {},
   "outputs": [],
   "source": [
    "# intialize parameters and layer sizes\n",
    "def initialize_parameters_and_layer_sizes_NN(x_train, y_train):\n",
    "    parameters = {\"weight1\": np.random.randn(3,x_train.shape[0]) * 0.1,\n",
    "                  \"bias1\": np.zeros((3,1)),\n",
    "                  \"weight2\": np.random.randn(y_train.shape[0],3) * 0.1,\n",
    "                  \"bias2\": np.zeros((y_train.shape[0],1))}\n",
    "    return parameters"
   ]
  },
  {
   "cell_type": "code",
   "execution_count": 165,
   "metadata": {},
   "outputs": [
    {
     "name": "stdout",
     "output_type": "stream",
     "text": [
      "x train shape: (4096, 348)\n",
      "weight1 shape: (3, 4096)\n",
      "bias1 shape: (3, 1)\n",
      "weight2 shape: (1, 3)\n",
      "bias2 shape: (1, 1)\n"
     ]
    }
   ],
   "source": [
    "parameters = initialize_parameters_and_layer_sizes_NN(x_train, y_train)\n",
    "print('x train shape:',x_train.shape)\n",
    "print('weight1 shape:',parameters['weight1'].shape)\n",
    "print('bias1 shape:',parameters['bias1'].shape)\n",
    "print('weight2 shape:',parameters['weight2'].shape)\n",
    "print('bias2 shape:',parameters['bias2'].shape)"
   ]
  },
  {
   "cell_type": "markdown",
   "metadata": {},
   "source": [
    "$\n",
    "X_{train} = \\begin{bmatrix}\n",
    "x_1^{(1)} & x_1^{(2)} & \\cdots & x_1^{(348)} \\\\\n",
    "x_2^{(1)} & x_2^{(2)} & \\cdots & x_2^{(348)} \\\\\n",
    "\\vdots & \\vdots & \\ddots & \\vdots \\\\\n",
    "x_{4096}^{(1)} & x_{4096}^{(2)} & \\cdots & x_{4096}^{(348)} \\\\\n",
    "\\end{bmatrix}\n",
    "$\n",
    "\n",
    "---\n",
    "\n",
    "$\n",
    "W^{[1]} = \\begin{bmatrix}\n",
    "w_1^{[z_1]} & w_2^{[z_1]} & \\cdots & w_{4096}^{[z_1]} \\\\\n",
    "w_1^{[z_2]} & w_2^{[z_2]} & \\cdots & w_{4096}^{[z_2]} \\\\\n",
    "w_1^{[z_3]} & w_2^{[z_3]} & \\cdots & w_{4096}^{[z_3]} \\\\\n",
    "\\end{bmatrix}\n",
    "$\n",
    "\n",
    "$\n",
    "{\\bf b}^{[1]} = \\begin{bmatrix}\n",
    "b^{[z_1]} \\\\\n",
    "b^{[z_2]} \\\\\n",
    "b^{[z_3]} \\\\\n",
    "\\end{bmatrix}\n",
    "$\n",
    "\n",
    "$\n",
    "W^{[2]} = \\begin{bmatrix}\n",
    "w_{a_1} & w_{a_2} & w_{a_3} \\\\\n",
    "\\end{bmatrix}\n",
    "$\n",
    "\n",
    "$b^{[2]}$ is a scalar\n",
    "\n",
    "---"
   ]
  },
  {
   "cell_type": "markdown",
   "metadata": {},
   "source": [
    "$Z^{[1]} = W^{[1]}X_{train} + {\\bf b}^{[1]}$\n",
    "\n",
    "$\n",
    "= \\begin{bmatrix}\n",
    "w_1^{[z_1]} & w_2^{[z_1]} & \\cdots & w_{4096}^{[z_1]} \\\\\n",
    "w_1^{[z_2]} & w_2^{[z_2]} & \\cdots & w_{4096}^{[z_2]} \\\\\n",
    "w_1^{[z_3]} & w_2^{[z_3]} & \\cdots & w_{4096}^{[z_3]} \\\\\n",
    "\\end{bmatrix}\n",
    "\\begin{bmatrix}\n",
    "x_1^{(1)} & x_1^{(2)} & \\cdots & x_1^{(348)} \\\\\n",
    "x_2^{(1)} & x_2^{(2)} & \\cdots & x_2^{(348)} \\\\\n",
    "\\vdots & \\vdots & \\ddots & \\vdots \\\\\n",
    "x_{4096}^{(1)} & x_{4096}^{(2)} & \\cdots & x_{4096}^{(348)} \\\\\n",
    "\\end{bmatrix} + \n",
    "\\begin{bmatrix}\n",
    "b^{[z_1]} \\\\\n",
    "b^{[z_2]} \\\\\n",
    "b^{[z_3]} \\\\\n",
    "\\end{bmatrix} = \n",
    "$\n",
    "\n",
    "$\n",
    "\\begin{bmatrix}\n",
    "w_1^{[z_1]}x_1^{(1)} + w_2^{[z_1]}x_2^{(1)} + ... + w_{4096}^{[z_1]}x_{4096}^{(1)} + b^{[z_1]} & \n",
    "w_1^{[z_1]}x_1^{(2)} + w_2^{[z_1]}x_2^{(2)} + ... + w_{4096}^{[z_1]}x_{4096}^{(2)} + b^{[z_1]} & \n",
    "\\cdots & \n",
    "w_1^{[z_1]}x_1^{(348)} + w_2^{[z_1]}x_2^{(348)} + ... + w_{4096}^{[z_1]}x_{4096}^{(348)} + b^{[z_1]} \\\\\n",
    "w_1^{[z_2]}x_1^{(1)} + w_2^{[z_2]}x_2^{(1)} + ... + w_{4096}^{[z_2]}x_{4096}^{(1)} + b^{[z_2]} & \n",
    "w_1^{[z_2]}x_1^{(2)} + w_2^{[z_2]}x_2^{(2)} + ... + w_{4096}^{[z_2]}x_{4096}^{(2)} + b^{[z_2]} & \n",
    "\\cdots & \n",
    "w_1^{[z_2]}x_1^{(348)} + w_2^{[z_2]}x_2^{(348)} + ... + w_{4096}^{[z_2]}x_{4096}^{(348)} + b^{[z_2]} \\\\\n",
    "w_1^{[z_3]}x_1^{(1)} + w_2^{[z_3]}x_2^{(1)} + ... + w_{4096}^{[z_3]}x_{4096}^{(1)} + b^{[z_3]} & \n",
    "w_1^{[z_3]}x_1^{(2)} + w_2^{[z_3]}x_2^{(2)} + ... + w_{4096}^{[z_3]}x_{4096}^{(2)} + b^{[z_3]} & \n",
    "\\cdots & \n",
    "w_1^{[z_3]}x_1^{(348)} + w_2^{[z_3]}x_2^{(348)} + ... + w_{4096}^{[z_3]}x_{4096}^{(348)} + b^{[z_3]} \\\\\n",
    "\\end{bmatrix}\n",
    "$\n",
    "\n",
    "$\n",
    "= \\begin{bmatrix}\n",
    "z_1^{(1)} & z_1^{(2)} & \\cdots & z_1^{(348)} \\\\\n",
    "z_2^{(1)} & z_2^{(2)} & \\cdots & z_2^{(348)} \\\\\n",
    "z_3^{(1)} & z_3^{(2)} & \\cdots & z_3^{(348)} \\\\\n",
    "\\end{bmatrix}\n",
    "$"
   ]
  },
  {
   "cell_type": "code",
   "execution_count": 166,
   "metadata": {},
   "outputs": [],
   "source": [
    "def forward_propagation_NN(x_train, parameters):\n",
    "\n",
    "    Z1 = np.dot(parameters[\"weight1\"],x_train) +parameters[\"bias1\"]\n",
    "    A1 = np.tanh(Z1)\n",
    "    Z2 = np.dot(parameters[\"weight2\"],A1) + parameters[\"bias2\"]\n",
    "    A2 = sigmoid(Z2)\n",
    "\n",
    "    cache = {\"Z1\": Z1,\n",
    "             \"A1\": A1,\n",
    "             \"Z2\": Z2,\n",
    "             \"A2\": A2}\n",
    "    \n",
    "    return A2, cache"
   ]
  },
  {
   "cell_type": "code",
   "execution_count": 167,
   "metadata": {},
   "outputs": [
    {
     "name": "stdout",
     "output_type": "stream",
     "text": [
      "Z1 shape: (3, 348)\n",
      "A1 shape: (3, 348)\n",
      "Z2 shape: (1, 348)\n",
      "A2 shape: (1, 348)\n"
     ]
    }
   ],
   "source": [
    "A2, cache = forward_propagation_NN(x_train, parameters)\n",
    "print('Z1 shape:',cache['Z1'].shape)\n",
    "print('A1 shape:',cache['A1'].shape)\n",
    "print('Z2 shape:',cache['Z2'].shape)\n",
    "print('A2 shape:',cache['A2'].shape)"
   ]
  },
  {
   "cell_type": "markdown",
   "metadata": {},
   "source": [
    "$\n",
    "A^{[1]}= \\begin{bmatrix}\n",
    "tanh(z_1^{(1)}) & tanh(z_1^{(2)}) & \\cdots & tanh(z_1^{(348)}) \\\\\n",
    "tanh(z_2^{(1)}) & tanh(z_2^{(2)}) & \\cdots & tanh(z_2^{(348)}) \\\\\n",
    "tanh(z_3^{(1)}) & tanh(z_3^{(2)}) & \\cdots & tanh(z_3^{(348)}) \\\\\n",
    "\\end{bmatrix} = \n",
    "$\n",
    "$\n",
    "\\begin{bmatrix}\n",
    "a_1^{(1)} & a_1^{(2)} & \\cdots & a_1^{(348)} \\\\\n",
    "a_2^{(1)} & a_2^{(2)} & \\cdots & a_2^{(348)} \\\\\n",
    "a_3^{(1)} & a_3^{(2)} & \\cdots & a_3^{(348)} \\\\\n",
    "\\end{bmatrix}\n",
    "$"
   ]
  },
  {
   "cell_type": "markdown",
   "metadata": {},
   "source": [
    "$Z^{[2]} = W^{[2]}A^{[1]}+b^{[2]}$\n",
    "\n",
    "$\n",
    "= \\begin{bmatrix}\n",
    "w_{a_1} & w_{a_2} & w_{a_3} \\\\\n",
    "\\end{bmatrix}\n",
    "\\begin{bmatrix}\n",
    "a_1^{(1)} & a_1^{(2)} & \\cdots & a_1^{(348)} \\\\\n",
    "a_2^{(1)} & a_2^{(2)} & \\cdots & a_2^{(348)} \\\\\n",
    "a_3^{(1)} & a_3^{(2)} & \\cdots & a_3^{(348)} \\\\\n",
    "\\end{bmatrix} +b^{[2]}\n",
    "$\n",
    "\n",
    "$\n",
    "= \\begin{bmatrix}\n",
    "w_{a_1}a_1^{(1)} + w_{a_2}a_2^{(1)} + w_{a_3}a_3^{(1)} + b^{[2]} & \n",
    "w_{a_1}a_1^{(2)} + w_{a_2}a_2^{(2)} + w_{a_3}a_3^{(2)} + b^{[2]} & \n",
    "\\cdots & \n",
    "w_{a_1}a_1^{(348)} + w_{a_2}a_2^{(348)} + w_{a_3}a_3^{(348)} + b^{[2]} \\\\\n",
    "\\end{bmatrix}\n",
    "$\n",
    "\n",
    "$\n",
    "= \\begin{bmatrix}\n",
    "z_4^{(1)} & z_4^{(2)} & \\cdots &z_4^{(348)} \\\\\n",
    "\\end{bmatrix}\n",
    "$\n",
    "\n",
    "$\n",
    "A^{[2]}= \\begin{bmatrix}\n",
    "sigmoid(z_4^{(1)}) & sigmoid(z_4^{(2)}) & \\cdots & sigmoid(z_4^{(348)}) \\\\\n",
    "\\end{bmatrix} = \n",
    "\\begin{bmatrix}\n",
    "a_4^{(1)} & a_4^{(2)} & \\cdots & a_4^{(348)} \\\\\n",
    "\\end{bmatrix}\n",
    "$"
   ]
  },
  {
   "cell_type": "code",
   "execution_count": 168,
   "metadata": {},
   "outputs": [],
   "source": [
    "# Backward Propagation\n",
    "def backward_propagation_NN(parameters, cache, X, Y):\n",
    "\n",
    "    dZ2 = cache[\"A2\"]-Y\n",
    "    dW2 = np.dot(dZ2,cache[\"A1\"].T)/X.shape[1]\n",
    "    db2 = np.sum(dZ2,axis =1,keepdims=True)/X.shape[1]\n",
    "    #dZ1 = np.divide(np.dot(parameters[\"weight2\"].T,dZ2), np.power(np.cosh(cache[\"Z1\"]),2))\n",
    "    dZ1 = np.dot(parameters[\"weight2\"].T,dZ2)*(1 - np.power(cache[\"A1\"], 2))\n",
    "    dW1 = np.dot(dZ1,X.T)/X.shape[1]\n",
    "    db1 = np.sum(dZ1,axis =1,keepdims=True)/X.shape[1]\n",
    "    grads = {\"dweight1\": dW1,\n",
    "             \"dbias1\": db1,\n",
    "             \"dweight2\": dW2,\n",
    "             \"dbias2\": db2}\n",
    "    return grads"
   ]
  },
  {
   "cell_type": "code",
   "execution_count": 169,
   "metadata": {},
   "outputs": [],
   "source": [
    "# update parameters\n",
    "def update_parameters_NN(parameters, grads, learning_rate = 0.01):\n",
    "    parameters = {\"weight1\": parameters[\"weight1\"]-learning_rate*grads[\"dweight1\"],\n",
    "                  \"bias1\": parameters[\"bias1\"]-learning_rate*grads[\"dbias1\"],\n",
    "                  \"weight2\": parameters[\"weight2\"]-learning_rate*grads[\"dweight2\"],\n",
    "                  \"bias2\": parameters[\"bias2\"]-learning_rate*grads[\"dbias2\"]}\n",
    "    \n",
    "    return parameters"
   ]
  },
  {
   "cell_type": "code",
   "execution_count": 170,
   "metadata": {},
   "outputs": [],
   "source": [
    "# prediction\n",
    "def predict_NN(parameters,x_test):\n",
    "    # x_test is a input for forward propagation\n",
    "    A2, cache = forward_propagation_NN(x_test,parameters)\n",
    "    Y_prediction = np.zeros((1,x_test.shape[1]))\n",
    "    # if z is bigger than 0.5, our prediction is sign one (y_head=1),\n",
    "    # if z is smaller than 0.5, our prediction is sign zero (y_head=0),\n",
    "    for i in range(A2.shape[1]):\n",
    "        if A2[0,i]<= 0.5:\n",
    "            Y_prediction[0,i] = 0\n",
    "        else:\n",
    "            Y_prediction[0,i] = 1\n",
    "\n",
    "    return Y_prediction"
   ]
  },
  {
   "cell_type": "code",
   "execution_count": 171,
   "metadata": {},
   "outputs": [
    {
     "name": "stdout",
     "output_type": "stream",
     "text": [
      "Cost after iteration 0: 0.698011\n",
      "Cost after iteration 100: 0.694058\n",
      "Cost after iteration 200: 0.693347\n",
      "Cost after iteration 300: 0.693182\n",
      "Cost after iteration 400: 0.693129\n",
      "Cost after iteration 500: 0.693102\n",
      "Cost after iteration 600: 0.693081\n",
      "Cost after iteration 700: 0.693055\n",
      "Cost after iteration 800: 0.693003\n",
      "Cost after iteration 900: 0.692833\n",
      "Cost after iteration 1000: 0.692102\n",
      "Cost after iteration 1100: 0.689620\n",
      "Cost after iteration 1200: 0.679219\n",
      "Cost after iteration 1300: 0.645797\n",
      "Cost after iteration 1400: 0.582445\n",
      "Cost after iteration 1500: 0.501149\n",
      "Cost after iteration 1600: 0.421289\n",
      "Cost after iteration 1700: 0.425369\n",
      "Cost after iteration 1800: 0.327437\n",
      "Cost after iteration 1900: 0.284265\n",
      "Cost after iteration 2000: 0.248258\n",
      "Cost after iteration 2100: 0.215195\n",
      "Cost after iteration 2200: 0.184572\n",
      "Cost after iteration 2300: 0.162470\n",
      "Cost after iteration 2400: 0.146102\n"
     ]
    },
    {
     "data": {
      "image/png": "[encoded data removed]",
      "text/plain": [
       "<Figure size 432x288 with 1 Axes>"
      ]
     },
     "metadata": {
      "needs_background": "light"
     },
     "output_type": "display_data"
    },
    {
     "name": "stdout",
     "output_type": "stream",
     "text": [
      "train accuracy: 99.42528735632185 %\n",
      "test accuracy: 93.54838709677419 %\n"
     ]
    }
   ],
   "source": [
    "# 2 - Layer neural network\n",
    "def two_layer_neural_network(x_train, y_train,x_test,y_test, num_iterations):\n",
    "    cost_list = []\n",
    "    index_list = []\n",
    "    #initialize parameters and layer sizes\n",
    "    parameters = initialize_parameters_and_layer_sizes_NN(x_train, y_train)\n",
    "\n",
    "    for i in range(0, num_iterations):\n",
    "         # forward propagation\n",
    "        A2, cache = forward_propagation_NN(x_train,parameters)\n",
    "        # compute cost\n",
    "        cost = cost_func(A2, y_train)\n",
    "        #cost = compute_cost_NN(A2, y_train, parameters)\n",
    "         # backward propagation\n",
    "        grads = backward_propagation_NN(parameters, cache, x_train, y_train)\n",
    "         # update parameters\n",
    "        parameters = update_parameters_NN(parameters, grads)\n",
    "        \n",
    "        if i % 100 == 0:\n",
    "            cost_list.append(cost)\n",
    "            index_list.append(i)\n",
    "            print (\"Cost after iteration %i: %f\" %(i, cost))\n",
    "    plt.plot(index_list,cost_list)\n",
    "    plt.xticks(index_list,rotation='vertical')\n",
    "    plt.xlabel(\"Number of Iterarion\")\n",
    "    plt.ylabel(\"Cost\")\n",
    "    plt.show()\n",
    "    \n",
    "    # predict\n",
    "    y_prediction_test = predict_NN(parameters,x_test)\n",
    "    y_prediction_train = predict_NN(parameters,x_train)\n",
    "\n",
    "    # Print train/test Errors\n",
    "    print(\"train accuracy: {} %\".format(100 - np.mean(np.abs(y_prediction_train - y_train)) * 100))\n",
    "    print(\"test accuracy: {} %\".format(100 - np.mean(np.abs(y_prediction_test - y_test)) * 100))\n",
    "    return parameters\n",
    "\n",
    "parameters = two_layer_neural_network(x_train, y_train,x_test,y_test, num_iterations=2500)"
   ]
  },
  {
   "cell_type": "code",
   "execution_count": null,
   "metadata": {},
   "outputs": [],
   "source": []
  },
  {
   "cell_type": "code",
   "execution_count": null,
   "metadata": {},
   "outputs": [],
   "source": []
  },
  {
   "cell_type": "code",
   "execution_count": null,
   "metadata": {},
   "outputs": [],
   "source": []
  },
  {
   "cell_type": "code",
   "execution_count": null,
   "metadata": {},
   "outputs": [],
   "source": []
  },
  {
   "cell_type": "code",
   "execution_count": null,
   "metadata": {},
   "outputs": [],
   "source": []
  },
  {
   "cell_type": "code",
   "execution_count": 108,
   "metadata": {},
   "outputs": [
    {
     "data": {
      "text/plain": [
       "array([[0.],\n",
       "       [0.],\n",
       "       [0.]])"
      ]
     },
     "execution_count": 108,
     "metadata": {},
     "output_type": "execute_result"
    }
   ],
   "source": [
    "parameters['bias1']"
   ]
  },
  {
   "cell_type": "code",
   "execution_count": 111,
   "metadata": {},
   "outputs": [
    {
     "data": {
      "text/plain": [
       "(3, 4096)"
      ]
     },
     "execution_count": 111,
     "metadata": {},
     "output_type": "execute_result"
    }
   ],
   "source": [
    "parameters['weight1'].shape"
   ]
  },
  {
   "cell_type": "code",
   "execution_count": 120,
   "metadata": {},
   "outputs": [],
   "source": [
    "a = np.array([[1,2,3],[4,5,6]])"
   ]
  },
  {
   "cell_type": "code",
   "execution_count": 121,
   "metadata": {},
   "outputs": [
    {
     "data": {
      "text/plain": [
       "array([[1, 2, 3],\n",
       "       [4, 5, 6]])"
      ]
     },
     "execution_count": 121,
     "metadata": {},
     "output_type": "execute_result"
    }
   ],
   "source": [
    "a"
   ]
  },
  {
   "cell_type": "code",
   "execution_count": 128,
   "metadata": {},
   "outputs": [],
   "source": [
    "b = np.array([[10,100]])"
   ]
  },
  {
   "cell_type": "code",
   "execution_count": 130,
   "metadata": {},
   "outputs": [
    {
     "data": {
      "text/plain": [
       "array([[ 10],\n",
       "       [100]])"
      ]
     },
     "execution_count": 130,
     "metadata": {},
     "output_type": "execute_result"
    }
   ],
   "source": [
    "b.T"
   ]
  },
  {
   "cell_type": "code",
   "execution_count": 131,
   "metadata": {},
   "outputs": [
    {
     "data": {
      "text/plain": [
       "array([[ 11,  12,  13],\n",
       "       [104, 105, 106]])"
      ]
     },
     "execution_count": 131,
     "metadata": {},
     "output_type": "execute_result"
    }
   ],
   "source": [
    "a + b.T"
   ]
  },
  {
   "cell_type": "code",
   "execution_count": 154,
   "metadata": {},
   "outputs": [
    {
     "data": {
      "text/plain": [
       "array([[ 10.,  10.,  10.],\n",
       "       [100., 100., 100.]])"
      ]
     },
     "execution_count": 154,
     "metadata": {},
     "output_type": "execute_result"
    }
   ],
   "source": [
    "np.divide(np.array([[10,20,30],[100,200,300]]),np.array([[1,2,3],[1,2,3]]))"
   ]
  },
  {
   "cell_type": "code",
   "execution_count": 156,
   "metadata": {},
   "outputs": [
    {
     "data": {
      "text/plain": [
       "array([[ 1,  4,  9],\n",
       "       [16, 25, 36]])"
      ]
     },
     "execution_count": 156,
     "metadata": {},
     "output_type": "execute_result"
    }
   ],
   "source": [
    "np.power(np.array([[1,2,3],[4,5,6]]),2)"
   ]
  },
  {
   "cell_type": "code",
   "execution_count": null,
   "metadata": {},
   "outputs": [],
   "source": []
  }
 ],
 "metadata": {
  "kernelspec": {
   "display_name": "Python 3",
   "language": "python",
   "name": "python3"
  },
  "language_info": {
   "codemirror_mode": {
    "name": "ipython",
    "version": 3
   },
   "file_extension": ".py",
   "mimetype": "text/x-python",
   "name": "python",
   "nbconvert_exporter": "python",
   "pygments_lexer": "ipython3",
   "version": "3.5.6"
  }
 },
 "nbformat": 4,
 "nbformat_minor": 2
}
